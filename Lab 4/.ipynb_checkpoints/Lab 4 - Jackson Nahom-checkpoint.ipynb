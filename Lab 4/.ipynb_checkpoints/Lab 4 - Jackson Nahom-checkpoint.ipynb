{
 "cells": [
  {
   "cell_type": "code",
   "execution_count": 1,
   "id": "96da3d20",
   "metadata": {},
   "outputs": [],
   "source": [
    "import pandas as pd\n",
    "import numpy as np\n",
    "from sklearn.model_selection import train_test_split \n",
    "from sklearn import tree\n",
    "from sklearn import metrics"
   ]
  },
  {
   "cell_type": "code",
   "execution_count": 2,
   "id": "f28d1058",
   "metadata": {},
   "outputs": [],
   "source": [
    "ccfraud = pd.read_csv('data/creditcard.csv')"
   ]
  },
  {
   "cell_type": "code",
   "execution_count": 3,
   "id": "af3cead6",
   "metadata": {},
   "outputs": [
    {
     "name": "stdout",
     "output_type": "stream",
     "text": [
      "             mean   count\n",
      "Class                    \n",
      "0       88.291022  284315\n",
      "1      122.211321     492\n"
     ]
    }
   ],
   "source": [
    "ccfraud.describe()\n",
    "# get the average and count for each type\n",
    "ccstats = ccfraud.groupby('Class')['Amount'].agg(['mean', 'count'])\n",
    "# stats for fraud by count and average transaction amount\n",
    "print(ccstats)"
   ]
  },
  {
   "cell_type": "code",
   "execution_count": 4,
   "id": "f481f558",
   "metadata": {},
   "outputs": [
    {
     "name": "stdout",
     "output_type": "stream",
     "text": [
      "Fraudulent transaction ratio: 0.001727485630620034\n"
     ]
    }
   ],
   "source": [
    "# percent of fraudulent transactions\n",
    "print(\"Fraudulent transaction ratio:\", ccstats.loc[1, 'count']/ccstats['count'].sum())"
   ]
  },
  {
   "cell_type": "code",
   "execution_count": 5,
   "id": "5fc23993",
   "metadata": {},
   "outputs": [],
   "source": [
    "np.random.seed(516)"
   ]
  },
  {
   "cell_type": "code",
   "execution_count": 6,
   "id": "f435fdd8",
   "metadata": {},
   "outputs": [
    {
     "name": "stdout",
     "output_type": "stream",
     "text": [
      "Rows in train: 213605\n",
      "Rows in test: 71202\n",
      "Training data:\n",
      "              mean   count\n",
      "Class                    \n",
      "0       88.803152  213230\n",
      "1      119.359653     375\n",
      "Testing data:\n",
      "              mean  count\n",
      "Class                   \n",
      "0       86.754814  71085\n",
      "1      131.351282    117\n"
     ]
    }
   ],
   "source": [
    "train, test = train_test_split(ccfraud, test_size=0.25)\n",
    "print(\"Rows in train:\", len(train))\n",
    "print(\"Rows in test:\", len(test))\n",
    "train_stats = train.groupby('Class')['Amount'].agg(['mean', 'count'])\n",
    "print(\"Training data:\\n\", train_stats)\n",
    "test_stats = test.groupby('Class')['Amount'].agg(['mean', 'count'])\n",
    "print(\"Testing data:\\n\", test_stats)"
   ]
  },
  {
   "cell_type": "code",
   "execution_count": 7,
   "id": "c49cbcdd",
   "metadata": {},
   "outputs": [
    {
     "name": "stdout",
     "output_type": "stream",
     "text": [
      "['Time', 'V1', 'V2', 'V3', 'V4', 'V5', 'V6', 'V7', 'V8', 'V9', 'V10', 'V11', 'V12', 'V13', 'V14', 'V15', 'V16', 'V17', 'V18', 'V19', 'V20', 'V21', 'V22', 'V23', 'V24', 'V25', 'V26', 'V27', 'V28', 'Amount', 'Class']\n"
     ]
    }
   ],
   "source": [
    "# view all columns\n",
    "print(list(ccfraud.columns))"
   ]
  },
  {
   "cell_type": "code",
   "execution_count": 8,
   "id": "86b33f76",
   "metadata": {},
   "outputs": [
    {
     "name": "stdout",
     "output_type": "stream",
     "text": [
      "            Time  Amount        V8         V1\n",
      "0            0.0  149.62  0.098698  -1.359807\n",
      "1            0.0    2.69  0.085102   1.191857\n",
      "2            1.0  378.66  0.247676  -1.358354\n",
      "3            1.0  123.50  0.377436  -0.966272\n",
      "4            2.0   69.99 -0.270533  -1.158233\n",
      "...          ...     ...       ...        ...\n",
      "284802  172786.0    0.77  7.305334 -11.881118\n",
      "284803  172787.0   24.79  0.294869  -0.732789\n",
      "284804  172788.0   67.88  0.708417   1.919565\n",
      "284805  172788.0   10.00  0.679145  -0.240440\n",
      "284806  172792.0  217.00 -0.414650  -0.533413\n",
      "\n",
      "[284807 rows x 4 columns]\n"
     ]
    }
   ],
   "source": [
    "# use column names \n",
    "pred_vars = ['Time', 'Amount', 'V8', 'V1']\n",
    "print(ccfraud.loc[:, pred_vars])"
   ]
  },
  {
   "cell_type": "code",
   "execution_count": 9,
   "id": "76bb4cda",
   "metadata": {},
   "outputs": [
    {
     "data": {
      "text/plain": [
       "DecisionTreeClassifier(criterion='entropy')"
      ]
     },
     "execution_count": 9,
     "metadata": {},
     "output_type": "execute_result"
    }
   ],
   "source": [
    "dtree = tree.DecisionTreeClassifier(criterion=\"entropy\")\n",
    "dtree.fit(train.loc[:, pred_vars], train['Class'])"
   ]
  },
  {
   "cell_type": "code",
   "execution_count": 10,
   "id": "1d5bb5bb",
   "metadata": {},
   "outputs": [
    {
     "name": "stdout",
     "output_type": "stream",
     "text": [
      "530\n",
      "39\n"
     ]
    }
   ],
   "source": [
    "print(dtree.get_n_leaves())\n",
    "print(dtree.get_depth())"
   ]
  },
  {
   "cell_type": "code",
   "execution_count": 11,
   "id": "d6e02c39",
   "metadata": {},
   "outputs": [
    {
     "data": {
      "text/plain": [
       "array([0, 0, 0, 0], dtype=int64)"
      ]
     },
     "execution_count": 11,
     "metadata": {},
     "output_type": "execute_result"
    }
   ],
   "source": [
    "pred_labels = dtree.predict(test.loc[:, pred_vars])\n",
    "pred_labels[0:4]"
   ]
  },
  {
   "cell_type": "code",
   "execution_count": 12,
   "id": "37f24df1",
   "metadata": {},
   "outputs": [
    {
     "data": {
      "text/plain": [
       "<sklearn.metrics._plot.confusion_matrix.ConfusionMatrixDisplay at 0x1cdfc901040>"
      ]
     },
     "execution_count": 12,
     "metadata": {},
     "output_type": "execute_result"
    },
    {
     "data": {
      "image/png": "[encoded data removed]",
      "text/plain": [
       "<Figure size 432x288 with 2 Axes>"
      ]
     },
     "metadata": {
      "needs_background": "light"
     },
     "output_type": "display_data"
    }
   ],
   "source": [
    "metrics.plot_confusion_matrix(dtree, test.loc[:, pred_vars], test['Class'])"
   ]
  },
  {
   "cell_type": "code",
   "execution_count": 13,
   "id": "72e5b8b9",
   "metadata": {},
   "outputs": [
    {
     "name": "stdout",
     "output_type": "stream",
     "text": [
      "              precision    recall  f1-score   support\n",
      "\n",
      "           0    0.99878   0.99858   0.99868     71085\n",
      "           1    0.22901   0.25641   0.24194       117\n",
      "\n",
      "    accuracy                        0.99736     71202\n",
      "   macro avg    0.61389   0.62749   0.62031     71202\n",
      "weighted avg    0.99751   0.99736   0.99743     71202\n",
      "\n"
     ]
    }
   ],
   "source": [
    "print(metrics.classification_report(test['Class'], pred_labels, digits=5))"
   ]
  },
  {
   "cell_type": "code",
   "execution_count": 14,
   "id": "4f8f2b0f",
   "metadata": {},
   "outputs": [
    {
     "data": {
      "text/plain": [
       "array([[1., 0.],\n",
       "       [1., 0.],\n",
       "       [1., 0.],\n",
       "       [1., 0.],\n",
       "       [1., 0.]])"
      ]
     },
     "execution_count": 14,
     "metadata": {},
     "output_type": "execute_result"
    }
   ],
   "source": [
    "pred_probs = dtree.predict_proba(test.loc[:, pred_vars])\n",
    "pred_probs[0:5, :]"
   ]
  },
  {
   "cell_type": "code",
   "execution_count": 15,
   "id": "820a3581",
   "metadata": {},
   "outputs": [
    {
     "data": {
      "text/plain": [
       "0.6274947110988469"
      ]
     },
     "execution_count": 15,
     "metadata": {},
     "output_type": "execute_result"
    }
   ],
   "source": [
    "metrics.roc_auc_score(test['Class'], pred_probs[:,1])"
   ]
  },
  {
   "cell_type": "code",
   "execution_count": 16,
   "id": "f6e726a4",
   "metadata": {},
   "outputs": [
    {
     "data": {
      "text/plain": [
       "<sklearn.metrics._plot.roc_curve.RocCurveDisplay at 0x1cdfc8ec730>"
      ]
     },
     "execution_count": 16,
     "metadata": {},
     "output_type": "execute_result"
    },
    {
     "data": {
      "image/png": "[encoded data removed]",
      "text/plain": [
       "<Figure size 432x288 with 1 Axes>"
      ]
     },
     "metadata": {
      "needs_background": "light"
     },
     "output_type": "display_data"
    }
   ],
   "source": [
    "metrics.plot_roc_curve(dtree, test.loc[:, pred_vars], test['Class'])"
   ]
  },
  {
   "cell_type": "code",
   "execution_count": 17,
   "id": "b819f86c",
   "metadata": {},
   "outputs": [
    {
     "data": {
      "text/plain": [
       "0.05994178183815622"
      ]
     },
     "execution_count": 17,
     "metadata": {},
     "output_type": "execute_result"
    }
   ],
   "source": [
    "metrics.average_precision_score(test['Class'], pred_probs[:,1])"
   ]
  },
  {
   "cell_type": "code",
   "execution_count": 18,
   "id": "fe3d27c4",
   "metadata": {},
   "outputs": [
    {
     "data": {
      "text/plain": [
       "<sklearn.metrics._plot.precision_recall_curve.PrecisionRecallDisplay at 0x1cd89f38310>"
      ]
     },
     "execution_count": 18,
     "metadata": {},
     "output_type": "execute_result"
    },
    {
     "data": {
      "image/png": "[encoded data removed]",
      "text/plain": [
       "<Figure size 432x288 with 1 Axes>"
      ]
     },
     "metadata": {
      "needs_background": "light"
     },
     "output_type": "display_data"
    }
   ],
   "source": [
    "metrics.plot_precision_recall_curve(dtree, test.loc[:, pred_vars], test['Class'])"
   ]
  },
  {
   "cell_type": "code",
   "execution_count": 19,
   "id": "4b120c68",
   "metadata": {},
   "outputs": [
    {
     "name": "stdout",
     "output_type": "stream",
     "text": [
      "0.0911964652900723\n"
     ]
    }
   ],
   "source": [
    "print(metrics.log_loss(test['Class'], pred_probs[:,1]))"
   ]
  },
  {
   "cell_type": "markdown",
   "id": "f244202e",
   "metadata": {},
   "source": [
    "# Exercises\n",
    "\n",
    "\n",
    "    1. What are the strengths and weaknesses of each evaluation criteria (precision/recall/F1/accuracy; model cost; log loss)?\n",
    "    2. This model is severly over-fit. Try creating a new model and restricting the maximum depth of the tree to 5 \n",
    "    levels (using the max_depth parameter). Run the various evaluation statistics on this new model.\n",
    "        A. How does the tree compare to the original model?\n",
    "        B. On which measures is it better/worse?\n",
    "    3. Does adding additional variables to the model improve performance?\n",
    "    4. This data is anonymized, which means the column names and their values have been obscured. What data columns do you think would be useful for detecting fraudulent credit card transactions?\n",
    "    \n",
    "## Optional Exercises\n",
    "\n",
    "\n",
    "    1. What happens when you build the model using a different value for np.random.seed()?\n",
    "    2. In this context, which evaluation statistic do you think is most relevant? Why?\n"
   ]
  },
  {
   "cell_type": "markdown",
   "id": "cb990edf",
   "metadata": {},
   "source": [
    "# Task 1\n",
    "\n",
    "precision: looks on how acurate predictions are\n",
    "\n",
    "recall: Recall is how many positve cases are predicted\n",
    "\n",
    "F1: F1 is the average of precision and recall \n",
    "\n",
    "accuracy: Shows how often overall predictions are correct\n",
    "\n",
    "precision/recall/F1/accuracy: Combined give a great sense of over accuracy of the model, however they do not give a great sense if the model is unbalenced or not.\n",
    "\n",
    "model cost: Strength that it allows you to see how much a model can cost. Weaknesses is that the most cost effective model may not be the most accurate model.\n",
    "\n",
    "log loss: Strengths is with a lot of data points it is very good at showing how confident your model is. If there are not that many data points then the log loss output might be wildly innaccurate."
   ]
  },
  {
   "cell_type": "markdown",
   "id": "ceb996c3",
   "metadata": {},
   "source": [
    "# Task 2"
   ]
  },
  {
   "cell_type": "code",
   "execution_count": 20,
   "id": "9a7b0588",
   "metadata": {},
   "outputs": [
    {
     "name": "stdout",
     "output_type": "stream",
     "text": [
      "Rows in train: 213605\n",
      "Rows in test: 71202\n",
      "Training data:\n",
      "              mean   count\n",
      "Class                    \n",
      "0       88.392403  213235\n",
      "1      110.663730     370\n",
      "Testing data:\n",
      "              mean  count\n",
      "Class                   \n",
      "0       87.986887  71080\n",
      "1      157.232705    122\n"
     ]
    }
   ],
   "source": [
    "train, test = train_test_split(ccfraud, test_size=0.25)\n",
    "print(\"Rows in train:\", len(train))\n",
    "print(\"Rows in test:\", len(test))\n",
    "train_stats = train.groupby('Class')['Amount'].agg(['mean', 'count'])\n",
    "print(\"Training data:\\n\", train_stats)\n",
    "test_stats = test.groupby('Class')['Amount'].agg(['mean', 'count'])\n",
    "print(\"Testing data:\\n\", test_stats)"
   ]
  },
  {
   "cell_type": "code",
   "execution_count": 21,
   "id": "a15d48f9",
   "metadata": {},
   "outputs": [
    {
     "data": {
      "text/plain": [
       "DecisionTreeClassifier(criterion='entropy', max_depth=5)"
      ]
     },
     "execution_count": 21,
     "metadata": {},
     "output_type": "execute_result"
    }
   ],
   "source": [
    "dtree = tree.DecisionTreeClassifier(criterion=\"entropy\", max_depth=5)\n",
    "dtree.fit(train.loc[:, pred_vars], train['Class'])"
   ]
  },
  {
   "cell_type": "code",
   "execution_count": 22,
   "id": "40bde357",
   "metadata": {},
   "outputs": [
    {
     "name": "stdout",
     "output_type": "stream",
     "text": [
      "27\n",
      "5\n"
     ]
    }
   ],
   "source": [
    "print(dtree.get_n_leaves())\n",
    "print(dtree.get_depth())"
   ]
  },
  {
   "cell_type": "code",
   "execution_count": 23,
   "id": "bb8f63d6",
   "metadata": {},
   "outputs": [
    {
     "data": {
      "text/plain": [
       "array([0, 0, 0, 0], dtype=int64)"
      ]
     },
     "execution_count": 23,
     "metadata": {},
     "output_type": "execute_result"
    }
   ],
   "source": [
    "pred_labels = dtree.predict(test.loc[:, pred_vars])\n",
    "pred_labels[0:4]"
   ]
  },
  {
   "cell_type": "code",
   "execution_count": 24,
   "id": "2a964cef",
   "metadata": {},
   "outputs": [
    {
     "data": {
      "text/plain": [
       "<sklearn.metrics._plot.confusion_matrix.ConfusionMatrixDisplay at 0x1cd8b0a6bb0>"
      ]
     },
     "execution_count": 24,
     "metadata": {},
     "output_type": "execute_result"
    },
    {
     "data": {
      "image/png": "[encoded data removed]",
      "text/plain": [
       "<Figure size 432x288 with 2 Axes>"
      ]
     },
     "metadata": {
      "needs_background": "light"
     },
     "output_type": "display_data"
    }
   ],
   "source": [
    "metrics.plot_confusion_matrix(dtree, test.loc[:, pred_vars], test['Class'])"
   ]
  },
  {
   "cell_type": "code",
   "execution_count": 25,
   "id": "bfca684e",
   "metadata": {},
   "outputs": [
    {
     "name": "stdout",
     "output_type": "stream",
     "text": [
      "              precision    recall  f1-score   support\n",
      "\n",
      "           0    0.99834   0.99999   0.99916     71080\n",
      "           1    0.80000   0.03279   0.06299       122\n",
      "\n",
      "    accuracy                        0.99833     71202\n",
      "   macro avg    0.89917   0.51639   0.53108     71202\n",
      "weighted avg    0.99800   0.99833   0.99756     71202\n",
      "\n"
     ]
    }
   ],
   "source": [
    "print(metrics.classification_report(test['Class'], pred_labels, digits=5))"
   ]
  },
  {
   "cell_type": "code",
   "execution_count": 26,
   "id": "0fdc7cf3",
   "metadata": {},
   "outputs": [
    {
     "data": {
      "text/plain": [
       "array([[9.99211771e-01, 7.88229112e-04],\n",
       "       [9.99743866e-01, 2.56134419e-04],\n",
       "       [9.99743866e-01, 2.56134419e-04],\n",
       "       [9.99743866e-01, 2.56134419e-04],\n",
       "       [9.99211771e-01, 7.88229112e-04]])"
      ]
     },
     "execution_count": 26,
     "metadata": {},
     "output_type": "execute_result"
    }
   ],
   "source": [
    "pred_probs = dtree.predict_proba(test.loc[:, pred_vars])\n",
    "pred_probs[0:5, :]"
   ]
  },
  {
   "cell_type": "code",
   "execution_count": 27,
   "id": "04ce2cfb",
   "metadata": {},
   "outputs": [
    {
     "data": {
      "text/plain": [
       "0.8428224489607646"
      ]
     },
     "execution_count": 27,
     "metadata": {},
     "output_type": "execute_result"
    }
   ],
   "source": [
    "metrics.roc_auc_score(test['Class'], pred_probs[:,1])"
   ]
  },
  {
   "cell_type": "code",
   "execution_count": 28,
   "id": "44e13ce8",
   "metadata": {},
   "outputs": [
    {
     "data": {
      "text/plain": [
       "<sklearn.metrics._plot.roc_curve.RocCurveDisplay at 0x1cdfff72dc0>"
      ]
     },
     "execution_count": 28,
     "metadata": {},
     "output_type": "execute_result"
    },
    {
     "data": {
      "image/png": "[encoded data removed]",
      "text/plain": [
       "<Figure size 432x288 with 1 Axes>"
      ]
     },
     "metadata": {
      "needs_background": "light"
     },
     "output_type": "display_data"
    }
   ],
   "source": [
    "metrics.plot_roc_curve(dtree, test.loc[:, pred_vars], test['Class'])"
   ]
  },
  {
   "cell_type": "code",
   "execution_count": 29,
   "id": "41782a1b",
   "metadata": {},
   "outputs": [
    {
     "data": {
      "text/plain": [
       "0.10735219392713655"
      ]
     },
     "execution_count": 29,
     "metadata": {},
     "output_type": "execute_result"
    }
   ],
   "source": [
    "metrics.average_precision_score(test['Class'], pred_probs[:,1])"
   ]
  },
  {
   "cell_type": "code",
   "execution_count": 30,
   "id": "2f4174fe",
   "metadata": {},
   "outputs": [
    {
     "data": {
      "text/plain": [
       "<sklearn.metrics._plot.precision_recall_curve.PrecisionRecallDisplay at 0x1cd8a0746a0>"
      ]
     },
     "execution_count": 30,
     "metadata": {},
     "output_type": "execute_result"
    },
    {
     "data": {
      "image/png": "[encoded data removed]",
      "text/plain": [
       "<Figure size 432x288 with 1 Axes>"
      ]
     },
     "metadata": {
      "needs_background": "light"
     },
     "output_type": "display_data"
    }
   ],
   "source": [
    "metrics.plot_precision_recall_curve(dtree, test.loc[:, pred_vars], test['Class'])"
   ]
  },
  {
   "cell_type": "code",
   "execution_count": 31,
   "id": "cd5958d2",
   "metadata": {},
   "outputs": [
    {
     "name": "stdout",
     "output_type": "stream",
     "text": [
      "0.01119874710376909\n"
     ]
    }
   ],
   "source": [
    "print(metrics.log_loss(test['Class'], pred_probs[:,1]))"
   ]
  },
  {
   "cell_type": "markdown",
   "id": "c39323c0",
   "metadata": {},
   "source": [
    "### Part A\n",
    "\n",
    "This model is more accurate than the first, Though it is less useful because it is more unbalanced.\n",
    "\n",
    "Recall: Original 0: 0.99858 1: 0.25641, 5 levels model: 0: 0.99999 1: 0.06299\n",
    "\n",
    "Accuracy f-score: Original 0.99736, 5 levels model 0.99833\n",
    "\n",
    "Macro Accuracy f-score: Original 0.62031, 5 levels model 0.53108 (Accuracy went up but Macro accuracy went down for failed prediction of credit card fraud.)\n",
    "\n",
    "roc_auc_score: Original 0.62749, 5 levels model 0.84282\n",
    "\n",
    "average_precision_score: Original 0.05994, 5 levels model 0.10735\n",
    "\n",
    "log_loss: Original 0.09119, 5 levels model 0.01119"
   ]
  },
  {
   "cell_type": "markdown",
   "id": "595577a3",
   "metadata": {},
   "source": [
    "### Part B\n",
    "\n",
    "The metrics that are better are classifying not fraud as not fraud as well as the number of not fraud that got classified as fraud, there was only 1. What performs worse was that we only predicted 4 out of 122 cases of fraud. Although this model is more accurate we do a horrible job of predicting fraud making the model one sided and pretty much useless practically."
   ]
  },
  {
   "cell_type": "markdown",
   "id": "ce78efb0",
   "metadata": {},
   "source": [
    "# Task 3"
   ]
  },
  {
   "cell_type": "code",
   "execution_count": 35,
   "id": "ac402de6",
   "metadata": {},
   "outputs": [
    {
     "name": "stdout",
     "output_type": "stream",
     "text": [
      "Rows in train: 213605\n",
      "Rows in test: 71202\n",
      "Training data:\n",
      "              mean   count\n",
      "Class                    \n",
      "0       88.822678  213226\n",
      "1      124.160554     379\n",
      "Testing data:\n",
      "              mean  count\n",
      "Class                   \n",
      "0       86.696362  71089\n",
      "1      115.673628    113\n"
     ]
    }
   ],
   "source": [
    "train, test = train_test_split(ccfraud, test_size=0.25)\n",
    "print(\"Rows in train:\", len(train))\n",
    "print(\"Rows in test:\", len(test))\n",
    "train_stats = train.groupby('Class')['Amount'].agg(['mean', 'count'])\n",
    "print(\"Training data:\\n\", train_stats)\n",
    "test_stats = test.groupby('Class')['Amount'].agg(['mean', 'count'])\n",
    "print(\"Testing data:\\n\", test_stats)"
   ]
  },
  {
   "cell_type": "code",
   "execution_count": 36,
   "id": "918245a5",
   "metadata": {},
   "outputs": [
    {
     "name": "stdout",
     "output_type": "stream",
     "text": [
      "['Time', 'V1', 'V2', 'V3', 'V4', 'V5', 'V6', 'V7', 'V8', 'V9', 'V10', 'V11', 'V12', 'V13', 'V14', 'V15', 'V16', 'V17', 'V18', 'V19', 'V20', 'V21', 'V22', 'V23', 'V24', 'V25', 'V26', 'V27', 'V28', 'Amount', 'Class']\n"
     ]
    }
   ],
   "source": [
    "print(list(ccfraud.columns))"
   ]
  },
  {
   "cell_type": "code",
   "execution_count": 37,
   "id": "ad4cea6b",
   "metadata": {},
   "outputs": [
    {
     "name": "stdout",
     "output_type": "stream",
     "text": [
      "            Time  Amount        V8         V1        V5       V25       V17\n",
      "0            0.0  149.62  0.098698  -1.359807 -0.338321  0.128539  0.207971\n",
      "1            0.0    2.69  0.085102   1.191857  0.060018  0.167170 -0.114805\n",
      "2            1.0  378.66  0.247676  -1.358354 -0.503198 -0.327642  1.109969\n",
      "3            1.0  123.50  0.377436  -0.966272 -0.010309  0.647376 -0.684093\n",
      "4            2.0   69.99 -0.270533  -1.158233 -0.407193 -0.206010 -0.237033\n",
      "...          ...     ...       ...        ...       ...       ...       ...\n",
      "284802  172786.0    0.77  7.305334 -11.881118 -5.364473  1.436807  1.991691\n",
      "284803  172787.0   24.79  0.294869  -0.732789  0.868229 -0.606624 -0.025693\n",
      "284804  172788.0   67.88  0.708417   1.919565  2.630515  0.265745  0.313502\n",
      "284805  172788.0   10.00  0.679145  -0.240440 -0.377961 -0.569159  0.509928\n",
      "284806  172792.0  217.00 -0.414650  -0.533413 -0.012546 -0.473649 -0.660377\n",
      "\n",
      "[284807 rows x 7 columns]\n"
     ]
    }
   ],
   "source": [
    "pred_vars_new = ['Time', 'Amount', 'V8', 'V1','V5','V25','V17']\n",
    "print(ccfraud.loc[:, pred_vars_new])"
   ]
  },
  {
   "cell_type": "code",
   "execution_count": 38,
   "id": "45cb8e43",
   "metadata": {},
   "outputs": [
    {
     "data": {
      "text/plain": [
       "DecisionTreeClassifier(criterion='entropy', max_depth=5)"
      ]
     },
     "execution_count": 38,
     "metadata": {},
     "output_type": "execute_result"
    }
   ],
   "source": [
    "dtree = tree.DecisionTreeClassifier(criterion=\"entropy\", max_depth=5)\n",
    "dtree.fit(train.loc[:, pred_vars_new], train['Class'])"
   ]
  },
  {
   "cell_type": "code",
   "execution_count": 39,
   "id": "efd1cb0a",
   "metadata": {},
   "outputs": [
    {
     "data": {
      "text/plain": [
       "array([0, 0, 0, 0], dtype=int64)"
      ]
     },
     "execution_count": 39,
     "metadata": {},
     "output_type": "execute_result"
    }
   ],
   "source": [
    "pred_labels_new = dtree.predict(test.loc[:, pred_vars_new])\n",
    "pred_labels_new[0:4]"
   ]
  },
  {
   "cell_type": "code",
   "execution_count": 41,
   "id": "eb4ce932",
   "metadata": {},
   "outputs": [
    {
     "data": {
      "text/plain": [
       "<sklearn.metrics._plot.confusion_matrix.ConfusionMatrixDisplay at 0x1cd808e3910>"
      ]
     },
     "execution_count": 41,
     "metadata": {},
     "output_type": "execute_result"
    },
    {
     "data": {
      "image/png": "[encoded data removed]",
      "text/plain": [
       "<Figure size 432x288 with 2 Axes>"
      ]
     },
     "metadata": {
      "needs_background": "light"
     },
     "output_type": "display_data"
    }
   ],
   "source": [
    "metrics.plot_confusion_matrix(dtree, test.loc[:, pred_vars_new], test['Class'])"
   ]
  },
  {
   "cell_type": "code",
   "execution_count": 43,
   "id": "8c2f615d",
   "metadata": {},
   "outputs": [
    {
     "name": "stdout",
     "output_type": "stream",
     "text": [
      "              precision    recall  f1-score   support\n",
      "\n",
      "           0    0.99938   0.99956   0.99947     71089\n",
      "           1    0.69000   0.61062   0.64789       113\n",
      "\n",
      "    accuracy                        0.99895     71202\n",
      "   macro avg    0.84469   0.80509   0.82368     71202\n",
      "weighted avg    0.99889   0.99895   0.99891     71202\n",
      "\n"
     ]
    }
   ],
   "source": [
    "print(metrics.classification_report(test['Class'], pred_labels_new, digits=5))"
   ]
  },
  {
   "cell_type": "code",
   "execution_count": 44,
   "id": "d4dc1021",
   "metadata": {},
   "outputs": [
    {
     "data": {
      "text/plain": [
       "array([[9.99825391e-01, 1.74608631e-04],\n",
       "       [9.99825391e-01, 1.74608631e-04],\n",
       "       [9.99825391e-01, 1.74608631e-04],\n",
       "       [9.99825391e-01, 1.74608631e-04],\n",
       "       [9.99825391e-01, 1.74608631e-04]])"
      ]
     },
     "execution_count": 44,
     "metadata": {},
     "output_type": "execute_result"
    }
   ],
   "source": [
    "pred_probs_new = dtree.predict_proba(test.loc[:, pred_vars_new])\n",
    "pred_probs_new[0:5, :]"
   ]
  },
  {
   "cell_type": "code",
   "execution_count": 45,
   "id": "2f39890c",
   "metadata": {},
   "outputs": [
    {
     "data": {
      "text/plain": [
       "0.8754578113911056"
      ]
     },
     "execution_count": 45,
     "metadata": {},
     "output_type": "execute_result"
    }
   ],
   "source": [
    "metrics.roc_auc_score(test['Class'], pred_probs_new[:,1])"
   ]
  },
  {
   "cell_type": "code",
   "execution_count": 46,
   "id": "f7ce700b",
   "metadata": {},
   "outputs": [
    {
     "data": {
      "text/plain": [
       "<sklearn.metrics._plot.roc_curve.RocCurveDisplay at 0x1cd80933fa0>"
      ]
     },
     "execution_count": 46,
     "metadata": {},
     "output_type": "execute_result"
    },
    {
     "data": {
      "image/png": "[encoded data removed]",
      "text/plain": [
       "<Figure size 432x288 with 1 Axes>"
      ]
     },
     "metadata": {
      "needs_background": "light"
     },
     "output_type": "display_data"
    }
   ],
   "source": [
    "metrics.plot_roc_curve(dtree, test.loc[:, pred_vars_new], test['Class'])"
   ]
  },
  {
   "cell_type": "code",
   "execution_count": 47,
   "id": "9e7f6bd6",
   "metadata": {},
   "outputs": [
    {
     "data": {
      "text/plain": [
       "0.490828774267351"
      ]
     },
     "execution_count": 47,
     "metadata": {},
     "output_type": "execute_result"
    }
   ],
   "source": [
    "metrics.average_precision_score(test['Class'], pred_probs_new[:,1])"
   ]
  },
  {
   "cell_type": "code",
   "execution_count": 49,
   "id": "b6741164",
   "metadata": {},
   "outputs": [
    {
     "data": {
      "text/plain": [
       "<sklearn.metrics._plot.precision_recall_curve.PrecisionRecallDisplay at 0x1cd81665190>"
      ]
     },
     "execution_count": 49,
     "metadata": {},
     "output_type": "execute_result"
    },
    {
     "data": {
      "image/png": "[encoded data removed]",
      "text/plain": [
       "<Figure size 432x288 with 1 Axes>"
      ]
     },
     "metadata": {
      "needs_background": "light"
     },
     "output_type": "display_data"
    }
   ],
   "source": [
    "metrics.plot_precision_recall_curve(dtree, test.loc[:, pred_vars_new], test['Class'])"
   ]
  },
  {
   "cell_type": "markdown",
   "id": "db0cf196",
   "metadata": {},
   "source": [
    "Adding more variable did improve the accuracy of the model with an average percision score of 49%. We also more accuratly predicted fraud at 56.56% compared to the previous models it is a big improvment and balances the model a little more. There is definitely still room for improvemnet though."
   ]
  },
  {
   "cell_type": "markdown",
   "id": "695e9a4b",
   "metadata": {},
   "source": [
    "# Task 4"
   ]
  },
  {
   "cell_type": "markdown",
   "id": "3f06afa9",
   "metadata": {},
   "source": [
    "4. This data is anonymized, which means the column names and their values have been obscured. What data columns do you think would be useful for detecting fraudulent credit card transactions?"
   ]
  },
  {
   "cell_type": "markdown",
   "id": "e54812e3",
   "metadata": {},
   "source": [
    "Data columns that would be useful in predicting credit card fraud would be number of transaction for 30, 60, and 90 days. This could let us see the frequency someone uses their card. Another column that would be useful is transaction location. Transaction type would also be useful is transaction type to see if there is unusual transaction type."
   ]
  }
 ],
 "metadata": {
  "kernelspec": {
   "display_name": "Python 3",
   "language": "python",
   "name": "python3"
  },
  "language_info": {
   "codemirror_mode": {
    "name": "ipython",
    "version": 3
   },
   "file_extension": ".py",
   "mimetype": "text/x-python",
   "name": "python",
   "nbconvert_exporter": "python",
   "pygments_lexer": "ipython3",
   "version": "3.8.8"
  }
 },
 "nbformat": 4,
 "nbformat_minor": 5
}
