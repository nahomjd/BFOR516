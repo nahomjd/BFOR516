{
 "cells": [
  {
   "cell_type": "code",
   "execution_count": 1,
   "id": "e6f06984",
   "metadata": {},
   "outputs": [],
   "source": [
    "import numpy as np\n",
    "import pandas as pd\n",
    "import matplotlib.pyplot as plt\n",
    "from matplotlib.patches import Patch\n",
    "from sklearn import metrics\n",
    "from sklearn.model_selection import train_test_split\n",
    "from sklearn.model_selection import (KFold, ShuffleSplit,\n",
    "                                     StratifiedKFold, \n",
    "                                     StratifiedShuffleSplit)\n",
    "\n",
    "from sklearn.ensemble import RandomForestClassifier\n",
    "from sklearn.neural_network import MLPClassifier\n",
    "from sklearn.model_selection import cross_validate\n",
    "from sklearn.model_selection import GridSearchCV"
   ]
  },
  {
   "cell_type": "code",
   "execution_count": 3,
   "id": "cdf42887",
   "metadata": {},
   "outputs": [],
   "source": [
    "hf = pd.read_csv('data/heart_failure_clinical_records_dataset.csv')"
   ]
  },
  {
   "cell_type": "code",
   "execution_count": 4,
   "id": "917c8140",
   "metadata": {},
   "outputs": [],
   "source": [
    "pred_vars = ['age', 'sex', 'smoking', 'diabetes', 'serum_creatinine', 'ejection_fraction']"
   ]
  },
  {
   "cell_type": "code",
   "execution_count": 5,
   "id": "0af8cc61",
   "metadata": {},
   "outputs": [],
   "source": [
    "def visualize_groups(classes):\n",
    "    # Visualize dataset groups\n",
    "    cmap_data = plt.cm.Paired\n",
    "    fig, ax = plt.subplots()\n",
    "    ax.scatter(range(len(classes)),  [2] * len(classes), c=classes, marker='_',\n",
    "               lw=50, cmap=cmap_data)\n",
    "    ax.set(ylim=[-1, 5], yticks=[2],\n",
    "           yticklabels=['Data\\nclass'], xlabel=\"Sample index\")"
   ]
  },
  {
   "cell_type": "code",
   "execution_count": 23,
   "id": "49346d37",
   "metadata": {},
   "outputs": [
    {
     "data": {
      "image/png": "[encoded data removed]",
      "text/plain": [
       "<Figure size 432x288 with 1 Axes>"
      ]
     },
     "metadata": {
      "needs_background": "light"
     },
     "output_type": "display_data"
    }
   ],
   "source": [
    "visualize_groups(hf['DEATH_EVENT'])"
   ]
  },
  {
   "cell_type": "code",
   "execution_count": 6,
   "id": "8e3e9ba6",
   "metadata": {},
   "outputs": [],
   "source": [
    "def plot_cv_indices(cv, X, y, ax, n_splits, lw=10):\n",
    "    \"\"\"Create a sample plot for indices of a cross-validation object.\"\"\"\n",
    "    cmap_data = plt.cm.Paired\n",
    "    cmap_cv = plt.cm.coolwarm\n",
    "    # Generate the training/testing visualizations for each CV split\n",
    "    for ii, (tr, tt) in enumerate(cv.split(X=X, y=y)):\n",
    "        # Fill in indices with the training/test groups\n",
    "        #print(ii)\n",
    "        #print(tt, tr)\n",
    "        indices = np.array([np.nan] * len(X))\n",
    "        indices[tt] = 1\n",
    "        indices[tr] = 0\n",
    "        #print(indices)\n",
    "        # Visualize the results\n",
    "        ax.scatter(range(len(indices)), [ii + .5] * len(indices),\n",
    "                   c=indices, marker='_', lw=lw, cmap=cmap_cv,\n",
    "                   vmin=-.2, vmax=1.2)\n",
    "\n",
    "    # Plot the data classes and groups at the end\n",
    "    ax.scatter(range(len(X)), [ii + 1.5] * len(X),\n",
    "               c=y, marker='_', lw=lw, cmap=cmap_data)\n",
    "\n",
    "\n",
    "\n",
    "    # Formatting\n",
    "    yticklabels = list(range(n_splits)) + ['class']\n",
    "    ax.set(yticks=np.arange(n_splits+1) + .5, yticklabels=yticklabels,\n",
    "           xlabel='Sample index', ylabel=\"CV iteration\",\n",
    "           ylim=[n_splits+1.2, -.2], xlim=[0, len(y)])\n",
    "    ax.set_title('{}'.format(type(cv).__name__), fontsize=15)\n",
    "    \n",
    "    ax.legend([Patch(color=cmap_cv(.8)), Patch(color=cmap_cv(.02))],\n",
    "          ['Testing set', 'Training set'], loc=(1.02, .8))\n",
    "    # Make the legend fit\n",
    "    plt.tight_layout()\n",
    "    fig.subplots_adjust(right=.7)\n",
    "    plt.show()\n",
    "    return ax"
   ]
  },
  {
   "cell_type": "code",
   "execution_count": 7,
   "id": "fc380e72",
   "metadata": {},
   "outputs": [
    {
     "data": {
      "image/png": "[encoded data removed]",
      "text/plain": [
       "<Figure size 432x288 with 1 Axes>"
      ]
     },
     "metadata": {
      "needs_background": "light"
     },
     "output_type": "display_data"
    },
    {
     "data": {
      "text/plain": [
       "<AxesSubplot:title={'center':'KFold'}, xlabel='Sample index', ylabel='CV iteration'>"
      ]
     },
     "execution_count": 7,
     "metadata": {},
     "output_type": "execute_result"
    }
   ],
   "source": [
    "# define number of folds\n",
    "n_splits = 5\n",
    "\n",
    "# create empty plot\n",
    "fig, ax = plt.subplots()\n",
    "# get subset folds\n",
    "cv = KFold(n_splits)\n",
    "# call plot function\n",
    "plot_cv_indices(cv, hf[pred_vars], hf['DEATH_EVENT'], ax, n_splits)"
   ]
  },
  {
   "cell_type": "code",
   "execution_count": 8,
   "id": "788653b9",
   "metadata": {},
   "outputs": [
    {
     "data": {
      "image/png": "[encoded data removed]",
      "text/plain": [
       "<Figure size 432x288 with 1 Axes>"
      ]
     },
     "metadata": {
      "needs_background": "light"
     },
     "output_type": "display_data"
    },
    {
     "data": {
      "text/plain": [
       "<AxesSubplot:title={'center':'ShuffleSplit'}, xlabel='Sample index', ylabel='CV iteration'>"
      ]
     },
     "execution_count": 8,
     "metadata": {},
     "output_type": "execute_result"
    }
   ],
   "source": [
    "fig, ax = plt.subplots()\n",
    "cv = ShuffleSplit(n_splits)\n",
    "plot_cv_indices(cv, hf[pred_vars], hf['DEATH_EVENT'], ax, n_splits)"
   ]
  },
  {
   "cell_type": "code",
   "execution_count": 9,
   "id": "e4a07b61",
   "metadata": {},
   "outputs": [
    {
     "data": {
      "image/png": "[encoded data removed]",
      "text/plain": [
       "<Figure size 432x288 with 1 Axes>"
      ]
     },
     "metadata": {
      "needs_background": "light"
     },
     "output_type": "display_data"
    },
    {
     "data": {
      "text/plain": [
       "<AxesSubplot:title={'center':'StratifiedKFold'}, xlabel='Sample index', ylabel='CV iteration'>"
      ]
     },
     "execution_count": 9,
     "metadata": {},
     "output_type": "execute_result"
    }
   ],
   "source": [
    "fig, ax = plt.subplots()\n",
    "cv = StratifiedKFold(n_splits)\n",
    "plot_cv_indices(cv, hf[pred_vars], hf['DEATH_EVENT'], ax, n_splits)"
   ]
  },
  {
   "cell_type": "code",
   "execution_count": 10,
   "id": "8965bcb1",
   "metadata": {},
   "outputs": [
    {
     "data": {
      "image/png": "[encoded data removed]",
      "text/plain": [
       "<Figure size 432x288 with 1 Axes>"
      ]
     },
     "metadata": {
      "needs_background": "light"
     },
     "output_type": "display_data"
    },
    {
     "data": {
      "text/plain": [
       "<AxesSubplot:title={'center':'StratifiedShuffleSplit'}, xlabel='Sample index', ylabel='CV iteration'>"
      ]
     },
     "execution_count": 10,
     "metadata": {},
     "output_type": "execute_result"
    }
   ],
   "source": [
    "# stratified with randomization\n",
    "fig, ax = plt.subplots()\n",
    "cv = StratifiedShuffleSplit(n_splits)\n",
    "plot_cv_indices(cv, hf[pred_vars], hf['DEATH_EVENT'], ax, n_splits)"
   ]
  },
  {
   "cell_type": "code",
   "execution_count": 11,
   "id": "03a7bdc1",
   "metadata": {},
   "outputs": [
    {
     "name": "stdout",
     "output_type": "stream",
     "text": [
      "Rows in train: 239\n",
      "Rows in test: 60\n",
      "Training data:\n",
      "                    age             sex        diabetes      \n",
      "                  mean count      mean count      mean count\n",
      "DEATH_EVENT                                                 \n",
      "0            58.775722   162  0.623457   162  0.407407   162\n",
      "1            65.359312    77  0.649351    77  0.428571    77\n",
      "Testing data:\n",
      "                    age             sex        diabetes      \n",
      "                  mean count      mean count      mean count\n",
      "DEATH_EVENT                                                 \n",
      "0            58.707317    41  0.756098    41  0.463415    41\n",
      "1            64.631579    19  0.631579    19  0.368421    19\n"
     ]
    }
   ],
   "source": [
    "np.random.seed(516)\n",
    "\n",
    "# create train and test\n",
    "train, test = train_test_split(hf, test_size=0.20, stratify=hf['DEATH_EVENT'])\n",
    "print(\"Rows in train:\", len(train))\n",
    "print(\"Rows in test:\", len(test))\n",
    "\n",
    "# view some stats by different variables\n",
    "train_stats = train.groupby('DEATH_EVENT')[['age', 'sex', 'diabetes']].agg(['mean', 'count'])\n",
    "print(\"Training data:\\n\", train_stats)\n",
    "test_stats = test.groupby('DEATH_EVENT')[['age', 'sex', 'diabetes']].agg(['mean', 'count'])\n",
    "print(\"Testing data:\\n\", test_stats)"
   ]
  },
  {
   "cell_type": "code",
   "execution_count": 12,
   "id": "d8853347",
   "metadata": {},
   "outputs": [
    {
     "name": "stdout",
     "output_type": "stream",
     "text": [
      "{'fit_time': array([0.16906714, 0.14512467, 0.12799954, 0.12800002, 0.12400031]), 'score_time': array([0.03925443, 0.02800035, 0.02400017, 0.02399969, 0.02400017]), 'test_accuracy': array([0.75      , 0.70833333, 0.70833333, 0.75      , 0.79166667]), 'test_neg_log_loss': array([-0.45161806, -0.51007159, -0.57957598, -0.46577141, -0.48167848]), 'test_f1': array([0.57142857, 0.46153846, 0.58823529, 0.57142857, 0.70588235]), 'test_roc_auc': array([0.828125  , 0.80078125, 0.73828125, 0.84765625, 0.796875  ])}\n"
     ]
    }
   ],
   "source": [
    "scoring = ['accuracy', 'neg_log_loss', 'f1', 'roc_auc']\n",
    "rf_base = RandomForestClassifier()\n",
    "cv_rf = cross_validate(rf_base, train[pred_vars], train['DEATH_EVENT'], cv=StratifiedShuffleSplit(n_splits), scoring=scoring)\n",
    "print(cv_rf)"
   ]
  },
  {
   "cell_type": "code",
   "execution_count": 13,
   "id": "6ba10d0f",
   "metadata": {},
   "outputs": [
    {
     "name": "stdout",
     "output_type": "stream",
     "text": [
      "[0.828125   0.80078125 0.73828125 0.84765625 0.796875  ]\n",
      "mean model AUC 0.80234375\n"
     ]
    }
   ],
   "source": [
    "# view a single statistic over the models\n",
    "print(cv_rf['test_roc_auc'])\n",
    "print(\"mean model AUC\", np.mean(cv_rf['test_roc_auc']))"
   ]
  },
  {
   "cell_type": "code",
   "execution_count": 14,
   "id": "40497f3c",
   "metadata": {},
   "outputs": [],
   "source": [
    "params = {'criterion': ['gini', 'entropy'], 'max_depth': [5, 10, 15, None]}"
   ]
  },
  {
   "cell_type": "code",
   "execution_count": 15,
   "id": "40fbafcd",
   "metadata": {},
   "outputs": [
    {
     "data": {
      "text/plain": [
       "GridSearchCV(cv=StratifiedShuffleSplit(n_splits=5, random_state=None, test_size=None,\n",
       "            train_size=None),\n",
       "             estimator=RandomForestClassifier(),\n",
       "             param_grid={'criterion': ['gini', 'entropy'],\n",
       "                         'max_depth': [5, 10, 15, None]},\n",
       "             scoring='roc_auc')"
      ]
     },
     "execution_count": 15,
     "metadata": {},
     "output_type": "execute_result"
    }
   ],
   "source": [
    "rf_base = RandomForestClassifier()\n",
    "rf_tuned = GridSearchCV(rf_base, param_grid=params, cv=StratifiedShuffleSplit(n_splits), scoring='roc_auc')\n",
    "rf_tuned.fit(train[pred_vars], train['DEATH_EVENT'])"
   ]
  },
  {
   "cell_type": "code",
   "execution_count": 16,
   "id": "564e86ca",
   "metadata": {},
   "outputs": [
    {
     "name": "stdout",
     "output_type": "stream",
     "text": [
      "{'mean_fit_time': array([0.12839851, 0.15328231, 0.12443008, 0.15401073, 0.1414825 ,\n",
      "       0.1369658 , 0.13460722, 0.1296308 ]), 'std_fit_time': array([0.011458  , 0.04188973, 0.00394965, 0.01533285, 0.00367232,\n",
      "       0.00722234, 0.00830084, 0.00411101]), 'mean_score_time': array([0.01200137, 0.01438293, 0.01185794, 0.01365223, 0.02583575,\n",
      "       0.01202369, 0.01098557, 0.01041403]), 'std_score_time': array([2.53001706e-03, 3.17715955e-03, 3.32160479e-04, 1.50565443e-03,\n",
      "       2.17348670e-02, 4.67327176e-05, 1.52984931e-03, 1.94495747e-03]), 'param_criterion': masked_array(data=['gini', 'gini', 'gini', 'gini', 'entropy', 'entropy',\n",
      "                   'entropy', 'entropy'],\n",
      "             mask=[False, False, False, False, False, False, False, False],\n",
      "       fill_value='?',\n",
      "            dtype=object), 'param_max_depth': masked_array(data=[5, 10, 15, None, 5, 10, 15, None],\n",
      "             mask=[False, False, False, False, False, False, False, False],\n",
      "       fill_value='?',\n",
      "            dtype=object), 'params': [{'criterion': 'gini', 'max_depth': 5}, {'criterion': 'gini', 'max_depth': 10}, {'criterion': 'gini', 'max_depth': 15}, {'criterion': 'gini', 'max_depth': None}, {'criterion': 'entropy', 'max_depth': 5}, {'criterion': 'entropy', 'max_depth': 10}, {'criterion': 'entropy', 'max_depth': 15}, {'criterion': 'entropy', 'max_depth': None}], 'split0_test_score': array([0.8046875 , 0.84375   , 0.8203125 , 0.80859375, 0.7734375 ,\n",
      "       0.78125   , 0.78515625, 0.76953125]), 'split1_test_score': array([0.625     , 0.578125  , 0.53125   , 0.609375  , 0.59375   ,\n",
      "       0.5625    , 0.60546875, 0.5078125 ]), 'split2_test_score': array([0.6953125 , 0.6953125 , 0.69140625, 0.7109375 , 0.71875   ,\n",
      "       0.671875  , 0.671875  , 0.67578125]), 'split3_test_score': array([0.9765625, 0.9609375, 0.9296875, 0.9453125, 0.9609375, 0.9609375,\n",
      "       0.9609375, 0.96875  ]), 'split4_test_score': array([0.8828125 , 0.859375  , 0.83984375, 0.8203125 , 0.84375   ,\n",
      "       0.8515625 , 0.84765625, 0.875     ]), 'mean_test_score': array([0.796875  , 0.7875    , 0.7625    , 0.77890625, 0.778125  ,\n",
      "       0.765625  , 0.77421875, 0.759375  ]), 'std_test_score': array([0.12616643, 0.13471976, 0.13842463, 0.11282505, 0.12269357,\n",
      "       0.13843785, 0.12595824, 0.1597384 ]), 'rank_test_score': array([1, 2, 7, 3, 4, 6, 5, 8])}\n"
     ]
    }
   ],
   "source": [
    "print(rf_tuned.cv_results_)"
   ]
  },
  {
   "cell_type": "code",
   "execution_count": 18,
   "id": "0d82011a",
   "metadata": {},
   "outputs": [
    {
     "name": "stdout",
     "output_type": "stream",
     "text": [
      "{'mean_fit_time': array([0.16518078, 0.18278918, 0.04851022, 0.14372883, 0.12489467,\n",
      "       0.04727702, 0.11321507, 0.07985001, 0.09447598]), 'std_fit_time': array([0.03979137, 0.01119646, 0.01984361, 0.02909025, 0.01171174,\n",
      "       0.01376896, 0.05878644, 0.04343071, 0.05238494]), 'mean_score_time': array([0.00240011, 0.00239148, 0.00479417, 0.00311713, 0.00365763,\n",
      "       0.00258179, 0.00237746, 0.0024272 , 0.00320339]), 'std_score_time': array([0.00195968, 0.0019527 , 0.00160322, 0.00157483, 0.00203689,\n",
      "       0.0014626 , 0.0019412 , 0.00198209, 0.00160172]), 'param_hidden_layer_sizes': masked_array(data=[(100,), (100,), (100,), (10, 10), (10, 10), (10, 10),\n",
      "                   (5, 5, 5), (5, 5, 5), (5, 5, 5)],\n",
      "             mask=[False, False, False, False, False, False, False, False,\n",
      "                   False],\n",
      "       fill_value='?',\n",
      "            dtype=object), 'param_solver': masked_array(data=['adam', 'lbfgs', 'sgd', 'adam', 'lbfgs', 'sgd', 'adam',\n",
      "                   'lbfgs', 'sgd'],\n",
      "             mask=[False, False, False, False, False, False, False, False,\n",
      "                   False],\n",
      "       fill_value='?',\n",
      "            dtype=object), 'params': [{'hidden_layer_sizes': (100,), 'solver': 'adam'}, {'hidden_layer_sizes': (100,), 'solver': 'lbfgs'}, {'hidden_layer_sizes': (100,), 'solver': 'sgd'}, {'hidden_layer_sizes': (10, 10), 'solver': 'adam'}, {'hidden_layer_sizes': (10, 10), 'solver': 'lbfgs'}, {'hidden_layer_sizes': (10, 10), 'solver': 'sgd'}, {'hidden_layer_sizes': (5, 5, 5), 'solver': 'adam'}, {'hidden_layer_sizes': (5, 5, 5), 'solver': 'lbfgs'}, {'hidden_layer_sizes': (5, 5, 5), 'solver': 'sgd'}], 'split0_test_score': array([0.7578125, 0.6953125, 0.8203125, 0.8359375, 0.7109375, 0.828125 ,\n",
      "       0.78125  , 0.71875  , 0.5      ]), 'split1_test_score': array([0.6640625, 0.703125 , 0.8046875, 0.796875 , 0.78125  , 0.84375  ,\n",
      "       0.7734375, 0.765625 , 0.671875 ]), 'split2_test_score': array([0.8125   , 0.6328125, 0.671875 , 0.6875   , 0.8359375, 0.6640625,\n",
      "       0.671875 , 0.734375 , 0.65625  ]), 'split3_test_score': array([0.7109375, 0.7265625, 0.7109375, 0.7109375, 0.7578125, 0.7265625,\n",
      "       0.7109375, 0.7734375, 0.703125 ]), 'split4_test_score': array([0.71875  , 0.71875  , 0.5859375, 0.6484375, 0.703125 , 0.703125 ,\n",
      "       0.6484375, 0.5      , 0.65625  ]), 'mean_test_score': array([0.7328125, 0.6953125, 0.71875  , 0.7359375, 0.7578125, 0.753125 ,\n",
      "       0.7171875, 0.6984375, 0.6375   ]), 'std_test_score': array([0.04975526, 0.03314563, 0.08671523, 0.06977223, 0.04866379,\n",
      "       0.07067614, 0.05307902, 0.10121334, 0.07084865]), 'rank_test_score': array([4, 8, 5, 3, 1, 2, 6, 7, 9])}\n"
     ]
    }
   ],
   "source": [
    "import warnings\n",
    "warnings.filterwarnings('ignore')\n",
    "\n",
    "nnet_base = MLPClassifier()\n",
    "\n",
    "params = {'hidden_layer_sizes': [(100,), (10,10), (5,5,5)], \n",
    "          'solver': ['adam', 'lbfgs', 'sgd']}\n",
    "# 9 different param combos, 5 cv = total of 45 models\n",
    "# try with differnt scoring methods\n",
    "# we get different results with accuracy & log_loss\n",
    "nnet_tuned = GridSearchCV(nnet_base, param_grid=params, cv=StratifiedShuffleSplit(n_splits), scoring='roc_auc')\n",
    "nnet_tuned.fit(train[pred_vars], train['DEATH_EVENT'])\n",
    "# nnet_tuned.get_params()\n",
    "print(nnet_tuned.cv_results_)"
   ]
  },
  {
   "cell_type": "code",
   "execution_count": 19,
   "id": "83c74f12",
   "metadata": {},
   "outputs": [
    {
     "name": "stdout",
     "output_type": "stream",
     "text": [
      "[0.7328125 0.6953125 0.71875   0.7359375 0.7578125 0.753125  0.7171875\n",
      " 0.6984375 0.6375   ]\n"
     ]
    }
   ],
   "source": [
    "print(nnet_tuned.cv_results_['mean_test_score'])"
   ]
  },
  {
   "cell_type": "code",
   "execution_count": 20,
   "id": "2969ed2e",
   "metadata": {},
   "outputs": [
    {
     "name": "stdout",
     "output_type": "stream",
     "text": [
      "MLPClassifier(hidden_layer_sizes=(10, 10), solver='lbfgs')\n"
     ]
    }
   ],
   "source": [
    "print(nnet_tuned.best_estimator_)"
   ]
  },
  {
   "cell_type": "code",
   "execution_count": 21,
   "id": "c79de316",
   "metadata": {},
   "outputs": [
    {
     "name": "stdout",
     "output_type": "stream",
     "text": [
      "RandomForestClassifier()\n",
      "MLPClassifier()\n"
     ]
    }
   ],
   "source": [
    "fitted = [rf_tuned, nnet_tuned]\n",
    "\n",
    "result_table = pd.DataFrame(columns=['classifier_name', 'fpr','tpr','auc', \n",
    "                                     'log_loss', 'clf_report'])\n",
    "\n",
    "for clf in fitted:\n",
    "    print(clf.estimator)\n",
    "    yproba = clf.predict_proba(test[pred_vars])\n",
    "    yclass = clf.predict(test[pred_vars])\n",
    "    \n",
    "    # auc information\n",
    "    fpr, tpr, _ = metrics.roc_curve(test['DEATH_EVENT'],  yproba[:,1])\n",
    "    auc = metrics.roc_auc_score(test['DEATH_EVENT'], yproba[:,1])\n",
    "    \n",
    "    # log loss\n",
    "    log_loss = metrics.log_loss(test['DEATH_EVENT'], yproba[:,1])\n",
    "    \n",
    "    # add some other stats based on confusion matrix\n",
    "    clf_report = metrics.classification_report(test['DEATH_EVENT'], yclass)\n",
    "    \n",
    "    \n",
    "    result_table = result_table.append({'classifier_name':str(clf.estimator),\n",
    "                                        'fpr':fpr, \n",
    "                                        'tpr':tpr, \n",
    "                                        'auc':auc,\n",
    "                                        'log_loss': log_loss,\n",
    "                                        'clf_report': clf_report}, ignore_index=True)\n",
    "    \n",
    "\n",
    "\n",
    "result_table.set_index('classifier_name', inplace=True)\n",
    "# print(result_table)"
   ]
  },
  {
   "cell_type": "code",
   "execution_count": 22,
   "id": "bc9f7980",
   "metadata": {},
   "outputs": [
    {
     "data": {
      "image/png": "[encoded data removed]",
      "text/plain": [
       "<Figure size 1008x864 with 1 Axes>"
      ]
     },
     "metadata": {
      "needs_background": "light"
     },
     "output_type": "display_data"
    }
   ],
   "source": [
    "fig = plt.figure(figsize=(14,12))\n",
    "\n",
    "for i in result_table.index:\n",
    "    plt.plot(result_table.loc[i]['fpr'], \n",
    "             result_table.loc[i]['tpr'], \n",
    "             label=\"{}, AUC={:.3f}\".format(i, result_table.loc[i]['auc']))\n",
    "    \n",
    "plt.plot([0,1], [0,1], color='orange', linestyle='--')\n",
    "\n",
    "plt.xticks(np.arange(0.0, 1.1, step=0.1))\n",
    "plt.xlabel(\"False Positive Rate\", fontsize=15)\n",
    "\n",
    "plt.yticks(np.arange(0.0, 1.1, step=0.1))\n",
    "plt.ylabel(\"True Positive Rate\", fontsize=15)\n",
    "\n",
    "plt.title('ROC Curve Analysis', fontweight='bold', fontsize=15)\n",
    "plt.legend(prop={'size':13}, loc='lower right')\n",
    "\n",
    "plt.show()"
   ]
  },
  {
   "cell_type": "code",
   "execution_count": 24,
   "id": "c47a8203",
   "metadata": {},
   "outputs": [
    {
     "name": "stdout",
     "output_type": "stream",
     "text": [
      "\n",
      "---- statistics for RandomForestClassifier() ----\n",
      "\n",
      "              precision    recall  f1-score   support\n",
      "\n",
      "           0       0.81      0.83      0.82        41\n",
      "           1       0.61      0.58      0.59        19\n",
      "\n",
      "    accuracy                           0.75        60\n",
      "   macro avg       0.71      0.70      0.71        60\n",
      "weighted avg       0.75      0.75      0.75        60\n",
      "\n",
      "Model log loss: 0.5049535578851839\n",
      "\n",
      "---- statistics for MLPClassifier() ----\n",
      "\n",
      "              precision    recall  f1-score   support\n",
      "\n",
      "           0       0.84      0.76      0.79        41\n",
      "           1       0.57      0.68      0.62        19\n",
      "\n",
      "    accuracy                           0.73        60\n",
      "   macro avg       0.70      0.72      0.71        60\n",
      "weighted avg       0.75      0.73      0.74        60\n",
      "\n",
      "Model log loss: 0.537567747838826\n"
     ]
    }
   ],
   "source": [
    "for i in result_table.index:\n",
    "        print('\\n---- statistics for', i, '----\\n')\n",
    "        print(result_table.loc[i, 'clf_report'])\n",
    "        print('Model log loss:', result_table.loc[i, 'log_loss'])"
   ]
  },
  {
   "cell_type": "markdown",
   "id": "9a3f10f8",
   "metadata": {},
   "source": [
    "# Tasks\n",
    "\n",
    "1. Tune the parameters for two additional algorithms. They can be those which were used in last lab, or you can try some other algorithm. A list of the models in sklearn is here. Use a grid search on at least two different parameters for each model. For example, in the random forest built in the lab, we modified the criterion and max_depth parameters.\n",
    "\n",
    "        a. You should now have four models to compare. Which model performs best on out-of-sample (test) data? Include precision, recall, accuracy, F1, and ROC/AUC when deciding.\n",
    "\n",
    "2. Use all of the available columns for the prediction. How well do the models perform with all columns?"
   ]
  },
  {
   "cell_type": "markdown",
   "id": "84b65536",
   "metadata": {},
   "source": [
    "# Task 1 "
   ]
  },
  {
   "cell_type": "code",
   "execution_count": 25,
   "id": "0aaabf1f",
   "metadata": {},
   "outputs": [
    {
     "name": "stdout",
     "output_type": "stream",
     "text": [
      "Rows in train: 239\n",
      "Rows in test: 60\n",
      "Training data:\n",
      "                   age             sex        diabetes      \n",
      "                 mean count      mean count      mean count\n",
      "DEATH_EVENT                                                \n",
      "0            58.88066   162  0.641975   162  0.432099   162\n",
      "1            66.06061    77  0.675325    77  0.402597    77\n",
      "Testing data:\n",
      "                    age             sex        diabetes      \n",
      "                  mean count      mean count      mean count\n",
      "DEATH_EVENT                                                 \n",
      "0            58.292683    41  0.682927    41  0.365854    41\n",
      "1            61.789474    19  0.526316    19  0.473684    19\n"
     ]
    }
   ],
   "source": [
    "#Going to use GaussianNB and KNeighborsClassifier\n",
    "\n",
    "# create train and test\n",
    "train, test = train_test_split(hf, test_size=0.20, stratify=hf['DEATH_EVENT'])\n",
    "print(\"Rows in train:\", len(train))\n",
    "print(\"Rows in test:\", len(test))\n",
    "\n",
    "# view some stats by different variables\n",
    "train_stats = train.groupby('DEATH_EVENT')[['age', 'sex', 'diabetes']].agg(['mean', 'count'])\n",
    "print(\"Training data:\\n\", train_stats)\n",
    "test_stats = test.groupby('DEATH_EVENT')[['age', 'sex', 'diabetes']].agg(['mean', 'count'])\n",
    "print(\"Testing data:\\n\", test_stats)"
   ]
  },
  {
   "cell_type": "code",
   "execution_count": 46,
   "id": "fa912b2e",
   "metadata": {},
   "outputs": [],
   "source": [
    "from sklearn.linear_model import LogisticRegression\n",
    "from sklearn.neighbors import KNeighborsClassifier"
   ]
  },
  {
   "cell_type": "code",
   "execution_count": 48,
   "id": "1b00526f",
   "metadata": {},
   "outputs": [
    {
     "name": "stdout",
     "output_type": "stream",
     "text": [
      "{'fit_time': array([0.01994753, 0.01894641, 0.01495934, 0.01894951, 0.01396275]), 'score_time': array([0.00698113, 0.00698233, 0.00598311, 0.00498581, 0.00598311]), 'test_accuracy': array([0.70833333, 0.70833333, 0.83333333, 0.70833333, 0.83333333]), 'test_neg_log_loss': array([-0.49136326, -0.60956493, -0.43390203, -0.59511758, -0.50788255]), 'test_f1': array([0.46153846, 0.36363636, 0.71428571, 0.36363636, 0.71428571]), 'test_roc_auc': array([0.8046875, 0.6640625, 0.875    , 0.65625  , 0.7734375])}\n"
     ]
    }
   ],
   "source": [
    "scoring = ['accuracy', 'neg_log_loss', 'f1', 'roc_auc']\n",
    "lr_base = LogisticRegression()\n",
    "cv_lr = cross_validate(lr_base, train[pred_vars], train['DEATH_EVENT'], cv=StratifiedShuffleSplit(n_splits), scoring=scoring)\n",
    "print(cv_lr)"
   ]
  },
  {
   "cell_type": "code",
   "execution_count": 43,
   "id": "af5efd63",
   "metadata": {},
   "outputs": [
    {
     "name": "stdout",
     "output_type": "stream",
     "text": [
      "{'fit_time': array([0.00498629, 0.00202799, 0.00299168, 0.002985  , 0.00299144]), 'score_time': array([0.00698185, 0.00993896, 0.00598431, 0.0069809 , 0.00598407]), 'test_accuracy': array([0.66666667, 0.58333333, 0.625     , 0.54166667, 0.70833333]), 'test_neg_log_loss': array([-4.74019786, -1.96723851, -1.89306615, -4.83086065, -1.85927739]), 'test_f1': array([0.2       , 0.28571429, 0.30769231, 0.15384615, 0.53333333]), 'test_roc_auc': array([0.48046875, 0.640625  , 0.703125  , 0.60546875, 0.75390625])}\n"
     ]
    }
   ],
   "source": [
    "scoring = ['accuracy', 'neg_log_loss', 'f1', 'roc_auc']\n",
    "KNC_base = KNeighborsClassifier()\n",
    "cv_KNC = cross_validate(KNC_base, train[pred_vars], train['DEATH_EVENT'], cv=StratifiedShuffleSplit(n_splits), scoring=scoring)\n",
    "print(cv_KNC)"
   ]
  },
  {
   "cell_type": "code",
   "execution_count": 49,
   "id": "7fe223ff",
   "metadata": {},
   "outputs": [
    {
     "name": "stdout",
     "output_type": "stream",
     "text": [
      "[0.8046875 0.6640625 0.875     0.65625   0.7734375]\n",
      "mean model AUC 0.7546875\n"
     ]
    }
   ],
   "source": [
    "# view a single statistic over the models\n",
    "print(cv_lr['test_roc_auc'])\n",
    "print(\"mean model AUC\", np.mean(cv_lr['test_roc_auc']))"
   ]
  },
  {
   "cell_type": "code",
   "execution_count": 45,
   "id": "0178bd14",
   "metadata": {},
   "outputs": [
    {
     "name": "stdout",
     "output_type": "stream",
     "text": [
      "[0.48046875 0.640625   0.703125   0.60546875 0.75390625]\n",
      "mean model AUC 0.63671875\n"
     ]
    }
   ],
   "source": [
    "# view a single statistic over the models\n",
    "print(cv_KNC['test_roc_auc'])\n",
    "print(\"mean model AUC\", np.mean(cv_KNC['test_roc_auc']))"
   ]
  },
  {
   "cell_type": "code",
   "execution_count": 52,
   "id": "2ad3aa93",
   "metadata": {},
   "outputs": [],
   "source": [
    "params_lr = {'penalty': ['l2', 'elasticnet', 'none'], 'C': [1.0, 2.0], 'class_weight': ['balanced',None]}\n",
    "params_KNC = {'n_neighbors': [2, 5, 10, 15], 'weights': ['uniform', 'distance'], 'algorithm': ['auto', 'ball_tree'], 'leaf_size':[2,5]}"
   ]
  },
  {
   "cell_type": "code",
   "execution_count": 54,
   "id": "55c0c5ad",
   "metadata": {},
   "outputs": [
    {
     "name": "stdout",
     "output_type": "stream",
     "text": [
      "{'mean_fit_time': array([0.01376758, 0.00039883, 0.0127646 , 0.01376076, 0.00059853,\n",
      "       0.01675582, 0.01297174, 0.00059857, 0.01216803, 0.01436238,\n",
      "       0.0011972 , 0.01456017]), 'std_fit_time': array([0.00213175, 0.00048846, 0.00171514, 0.00171737, 0.00048869,\n",
      "       0.00222212, 0.00200658, 0.00048873, 0.00193346, 0.00205365,\n",
      "       0.00039978, 0.001027  ]), 'mean_score_time': array([0.00279217, 0.        , 0.00229635, 0.00279484, 0.        ,\n",
      "       0.00199389, 0.00218716, 0.        , 0.00199523, 0.00219393,\n",
      "       0.        , 0.00219531]), 'std_score_time': array([7.57406578e-04, 0.00000000e+00, 3.98861488e-04, 7.46968454e-04,\n",
      "       0.00000000e+00, 1.09776158e-06, 3.86405914e-04, 0.00000000e+00,\n",
      "       2.96867035e-06, 3.98874297e-04, 0.00000000e+00, 4.02593655e-04]), 'param_C': masked_array(data=[1.0, 1.0, 1.0, 1.0, 1.0, 1.0, 2.0, 2.0, 2.0, 2.0, 2.0,\n",
      "                   2.0],\n",
      "             mask=[False, False, False, False, False, False, False, False,\n",
      "                   False, False, False, False],\n",
      "       fill_value='?',\n",
      "            dtype=object), 'param_class_weight': masked_array(data=['balanced', 'balanced', 'balanced', None, None, None,\n",
      "                   'balanced', 'balanced', 'balanced', None, None, None],\n",
      "             mask=[False, False, False, False, False, False, False, False,\n",
      "                   False, False, False, False],\n",
      "       fill_value='?',\n",
      "            dtype=object), 'param_penalty': masked_array(data=['l2', 'elasticnet', 'none', 'l2', 'elasticnet', 'none',\n",
      "                   'l2', 'elasticnet', 'none', 'l2', 'elasticnet', 'none'],\n",
      "             mask=[False, False, False, False, False, False, False, False,\n",
      "                   False, False, False, False],\n",
      "       fill_value='?',\n",
      "            dtype=object), 'params': [{'C': 1.0, 'class_weight': 'balanced', 'penalty': 'l2'}, {'C': 1.0, 'class_weight': 'balanced', 'penalty': 'elasticnet'}, {'C': 1.0, 'class_weight': 'balanced', 'penalty': 'none'}, {'C': 1.0, 'class_weight': None, 'penalty': 'l2'}, {'C': 1.0, 'class_weight': None, 'penalty': 'elasticnet'}, {'C': 1.0, 'class_weight': None, 'penalty': 'none'}, {'C': 2.0, 'class_weight': 'balanced', 'penalty': 'l2'}, {'C': 2.0, 'class_weight': 'balanced', 'penalty': 'elasticnet'}, {'C': 2.0, 'class_weight': 'balanced', 'penalty': 'none'}, {'C': 2.0, 'class_weight': None, 'penalty': 'l2'}, {'C': 2.0, 'class_weight': None, 'penalty': 'elasticnet'}, {'C': 2.0, 'class_weight': None, 'penalty': 'none'}], 'split0_test_score': array([0.8203125,       nan, 0.8203125, 0.8125   ,       nan, 0.8125   ,\n",
      "       0.8203125,       nan, 0.8203125, 0.8125   ,       nan, 0.8125   ]), 'split1_test_score': array([0.53125  ,       nan, 0.515625 , 0.546875 ,       nan, 0.546875 ,\n",
      "       0.5234375,       nan, 0.515625 , 0.546875 ,       nan, 0.546875 ]), 'split2_test_score': array([0.65625  ,       nan, 0.6484375, 0.6484375,       nan, 0.65625  ,\n",
      "       0.6484375,       nan, 0.6484375, 0.65625  ,       nan, 0.65625  ]), 'split3_test_score': array([0.640625 ,       nan, 0.6484375, 0.6484375,       nan, 0.65625  ,\n",
      "       0.640625 ,       nan, 0.6484375, 0.65625  ,       nan, 0.65625  ]), 'split4_test_score': array([0.8203125,       nan, 0.8203125, 0.8203125,       nan, 0.8203125,\n",
      "       0.8203125,       nan, 0.8203125, 0.8203125,       nan, 0.8203125]), 'mean_test_score': array([0.69375  ,       nan, 0.690625 , 0.6953125,       nan, 0.6984375,\n",
      "       0.690625 ,       nan, 0.690625 , 0.6984375,       nan, 0.6984375]), 'std_test_score': array([0.11195615,        nan, 0.11646653, 0.10562777,        nan,\n",
      "       0.104302  , 0.1147773 ,        nan, 0.11646653, 0.104302  ,\n",
      "              nan, 0.104302  ]), 'rank_test_score': array([ 5,  9,  6,  4, 10,  1,  6, 11,  6,  1, 12,  1])}\n"
     ]
    }
   ],
   "source": [
    "lr_base = LogisticRegression()\n",
    "lr_tuned = GridSearchCV(lr_base, param_grid=params_lr, cv=StratifiedShuffleSplit(n_splits), scoring='roc_auc')\n",
    "lr_tuned.fit(train[pred_vars], train['DEATH_EVENT'])\n",
    "print(lr_tuned.cv_results_)"
   ]
  },
  {
   "cell_type": "code",
   "execution_count": 57,
   "id": "f8a8502f",
   "metadata": {},
   "outputs": [
    {
     "name": "stdout",
     "output_type": "stream",
     "text": [
      "{'mean_fit_time': array([0.00379663, 0.00219431, 0.00199018, 0.00239882, 0.00259328,\n",
      "       0.00239339, 0.0023941 , 0.0027925 , 0.00239367, 0.00239363,\n",
      "       0.0023942 , 0.00278649, 0.00239129, 0.00259433, 0.00257707,\n",
      "       0.00239234, 0.00338111, 0.00179491, 0.00219178, 0.00259199,\n",
      "       0.00219064, 0.0019938 , 0.00238957, 0.00239358, 0.00239701,\n",
      "       0.00199947, 0.00199494, 0.00179605, 0.00218921, 0.0021956 ,\n",
      "       0.00178833, 0.00199456]), 'std_fit_time': array([7.40698103e-04, 3.98922736e-04, 8.87301577e-06, 4.89368606e-04,\n",
      "       4.88227417e-04, 4.88694666e-04, 4.88694480e-04, 7.46646578e-04,\n",
      "       4.89531844e-04, 4.88402903e-04, 4.88714053e-04, 7.54240807e-04,\n",
      "       4.86231096e-04, 4.89379153e-04, 8.04906745e-04, 4.88201788e-04,\n",
      "       2.32451269e-03, 3.99041585e-04, 3.99973811e-04, 4.89319702e-04,\n",
      "       7.42602075e-04, 4.67203091e-07, 4.90778645e-04, 4.88441635e-04,\n",
      "       4.99782927e-04, 1.07034807e-05, 6.30977238e-04, 7.47130904e-04,\n",
      "       3.90148425e-04, 4.01854724e-04, 3.95678583e-04, 3.50402318e-07]), 'mean_score_time': array([0.00259271, 0.00291295, 0.00219393, 0.00238829, 0.0025929 ,\n",
      "       0.00279284, 0.00319061, 0.00279231, 0.00219402, 0.00239339,\n",
      "       0.00259285, 0.00279822, 0.00239415, 0.00256233, 0.00299497,\n",
      "       0.00285888, 0.00259819, 0.00259562, 0.00239325, 0.0023941 ,\n",
      "       0.00279622, 0.00279331, 0.00279694, 0.00239372, 0.0023901 ,\n",
      "       0.00286365, 0.00239363, 0.00279207, 0.00259771, 0.00299082,\n",
      "       0.00219412, 0.00219526]), 'std_score_time': array([7.97105112e-04, 6.36432635e-04, 3.99113072e-04, 4.81667666e-04,\n",
      "       7.97498644e-04, 7.46225549e-04, 9.77651722e-04, 3.98970234e-04,\n",
      "       3.98826913e-04, 7.98154068e-04, 4.88754026e-04, 4.01763069e-04,\n",
      "       4.88558738e-04, 4.66433504e-04, 6.93859511e-06, 4.50309849e-04,\n",
      "       7.99624560e-04, 7.96126445e-04, 4.89006840e-04, 4.89181233e-04,\n",
      "       7.47799657e-04, 7.46862797e-04, 7.52489366e-04, 4.88616690e-04,\n",
      "       4.84305908e-04, 9.19408902e-04, 4.88208406e-04, 7.46850717e-04,\n",
      "       4.83037420e-04, 6.33091302e-04, 3.98660515e-04, 3.98805619e-04]), 'param_algorithm': masked_array(data=['auto', 'auto', 'auto', 'auto', 'auto', 'auto', 'auto',\n",
      "                   'auto', 'auto', 'auto', 'auto', 'auto', 'auto', 'auto',\n",
      "                   'auto', 'auto', 'ball_tree', 'ball_tree', 'ball_tree',\n",
      "                   'ball_tree', 'ball_tree', 'ball_tree', 'ball_tree',\n",
      "                   'ball_tree', 'ball_tree', 'ball_tree', 'ball_tree',\n",
      "                   'ball_tree', 'ball_tree', 'ball_tree', 'ball_tree',\n",
      "                   'ball_tree'],\n",
      "             mask=[False, False, False, False, False, False, False, False,\n",
      "                   False, False, False, False, False, False, False, False,\n",
      "                   False, False, False, False, False, False, False, False,\n",
      "                   False, False, False, False, False, False, False, False],\n",
      "       fill_value='?',\n",
      "            dtype=object), 'param_leaf_size': masked_array(data=[2, 2, 2, 2, 2, 2, 2, 2, 5, 5, 5, 5, 5, 5, 5, 5, 2, 2,\n",
      "                   2, 2, 2, 2, 2, 2, 5, 5, 5, 5, 5, 5, 5, 5],\n",
      "             mask=[False, False, False, False, False, False, False, False,\n",
      "                   False, False, False, False, False, False, False, False,\n",
      "                   False, False, False, False, False, False, False, False,\n",
      "                   False, False, False, False, False, False, False, False],\n",
      "       fill_value='?',\n",
      "            dtype=object), 'param_n_neighbors': masked_array(data=[2, 2, 5, 5, 10, 10, 15, 15, 2, 2, 5, 5, 10, 10, 15, 15,\n",
      "                   2, 2, 5, 5, 10, 10, 15, 15, 2, 2, 5, 5, 10, 10, 15, 15],\n",
      "             mask=[False, False, False, False, False, False, False, False,\n",
      "                   False, False, False, False, False, False, False, False,\n",
      "                   False, False, False, False, False, False, False, False,\n",
      "                   False, False, False, False, False, False, False, False],\n",
      "       fill_value='?',\n",
      "            dtype=object), 'param_weights': masked_array(data=['uniform', 'distance', 'uniform', 'distance',\n",
      "                   'uniform', 'distance', 'uniform', 'distance',\n",
      "                   'uniform', 'distance', 'uniform', 'distance',\n",
      "                   'uniform', 'distance', 'uniform', 'distance',\n",
      "                   'uniform', 'distance', 'uniform', 'distance',\n",
      "                   'uniform', 'distance', 'uniform', 'distance',\n",
      "                   'uniform', 'distance', 'uniform', 'distance',\n",
      "                   'uniform', 'distance', 'uniform', 'distance'],\n",
      "             mask=[False, False, False, False, False, False, False, False,\n",
      "                   False, False, False, False, False, False, False, False,\n",
      "                   False, False, False, False, False, False, False, False,\n",
      "                   False, False, False, False, False, False, False, False],\n",
      "       fill_value='?',\n",
      "            dtype=object), 'params': [{'algorithm': 'auto', 'leaf_size': 2, 'n_neighbors': 2, 'weights': 'uniform'}, {'algorithm': 'auto', 'leaf_size': 2, 'n_neighbors': 2, 'weights': 'distance'}, {'algorithm': 'auto', 'leaf_size': 2, 'n_neighbors': 5, 'weights': 'uniform'}, {'algorithm': 'auto', 'leaf_size': 2, 'n_neighbors': 5, 'weights': 'distance'}, {'algorithm': 'auto', 'leaf_size': 2, 'n_neighbors': 10, 'weights': 'uniform'}, {'algorithm': 'auto', 'leaf_size': 2, 'n_neighbors': 10, 'weights': 'distance'}, {'algorithm': 'auto', 'leaf_size': 2, 'n_neighbors': 15, 'weights': 'uniform'}, {'algorithm': 'auto', 'leaf_size': 2, 'n_neighbors': 15, 'weights': 'distance'}, {'algorithm': 'auto', 'leaf_size': 5, 'n_neighbors': 2, 'weights': 'uniform'}, {'algorithm': 'auto', 'leaf_size': 5, 'n_neighbors': 2, 'weights': 'distance'}, {'algorithm': 'auto', 'leaf_size': 5, 'n_neighbors': 5, 'weights': 'uniform'}, {'algorithm': 'auto', 'leaf_size': 5, 'n_neighbors': 5, 'weights': 'distance'}, {'algorithm': 'auto', 'leaf_size': 5, 'n_neighbors': 10, 'weights': 'uniform'}, {'algorithm': 'auto', 'leaf_size': 5, 'n_neighbors': 10, 'weights': 'distance'}, {'algorithm': 'auto', 'leaf_size': 5, 'n_neighbors': 15, 'weights': 'uniform'}, {'algorithm': 'auto', 'leaf_size': 5, 'n_neighbors': 15, 'weights': 'distance'}, {'algorithm': 'ball_tree', 'leaf_size': 2, 'n_neighbors': 2, 'weights': 'uniform'}, {'algorithm': 'ball_tree', 'leaf_size': 2, 'n_neighbors': 2, 'weights': 'distance'}, {'algorithm': 'ball_tree', 'leaf_size': 2, 'n_neighbors': 5, 'weights': 'uniform'}, {'algorithm': 'ball_tree', 'leaf_size': 2, 'n_neighbors': 5, 'weights': 'distance'}, {'algorithm': 'ball_tree', 'leaf_size': 2, 'n_neighbors': 10, 'weights': 'uniform'}, {'algorithm': 'ball_tree', 'leaf_size': 2, 'n_neighbors': 10, 'weights': 'distance'}, {'algorithm': 'ball_tree', 'leaf_size': 2, 'n_neighbors': 15, 'weights': 'uniform'}, {'algorithm': 'ball_tree', 'leaf_size': 2, 'n_neighbors': 15, 'weights': 'distance'}, {'algorithm': 'ball_tree', 'leaf_size': 5, 'n_neighbors': 2, 'weights': 'uniform'}, {'algorithm': 'ball_tree', 'leaf_size': 5, 'n_neighbors': 2, 'weights': 'distance'}, {'algorithm': 'ball_tree', 'leaf_size': 5, 'n_neighbors': 5, 'weights': 'uniform'}, {'algorithm': 'ball_tree', 'leaf_size': 5, 'n_neighbors': 5, 'weights': 'distance'}, {'algorithm': 'ball_tree', 'leaf_size': 5, 'n_neighbors': 10, 'weights': 'uniform'}, {'algorithm': 'ball_tree', 'leaf_size': 5, 'n_neighbors': 10, 'weights': 'distance'}, {'algorithm': 'ball_tree', 'leaf_size': 5, 'n_neighbors': 15, 'weights': 'uniform'}, {'algorithm': 'ball_tree', 'leaf_size': 5, 'n_neighbors': 15, 'weights': 'distance'}], 'split0_test_score': array([0.6640625 , 0.6328125 , 0.7109375 , 0.6328125 , 0.79296875,\n",
      "       0.7265625 , 0.77734375, 0.7109375 , 0.6640625 , 0.6328125 ,\n",
      "       0.7109375 , 0.6328125 , 0.79296875, 0.7265625 , 0.77734375,\n",
      "       0.7109375 , 0.6640625 , 0.6328125 , 0.7109375 , 0.6328125 ,\n",
      "       0.79296875, 0.7265625 , 0.77734375, 0.7109375 , 0.6640625 ,\n",
      "       0.6328125 , 0.7109375 , 0.6328125 , 0.79296875, 0.7265625 ,\n",
      "       0.77734375, 0.7109375 ]), 'split1_test_score': array([0.84375   , 0.8515625 , 0.828125  , 0.85546875, 0.83984375,\n",
      "       0.8828125 , 0.90625   , 0.8984375 , 0.84375   , 0.8515625 ,\n",
      "       0.828125  , 0.85546875, 0.83984375, 0.8828125 , 0.91015625,\n",
      "       0.8984375 , 0.84375   , 0.8515625 , 0.828125  , 0.85546875,\n",
      "       0.83984375, 0.8828125 , 0.90625   , 0.8984375 , 0.84375   ,\n",
      "       0.8515625 , 0.828125  , 0.85546875, 0.83984375, 0.8828125 ,\n",
      "       0.90625   , 0.8984375 ]), 'split2_test_score': array([0.4375    , 0.453125  , 0.54296875, 0.5078125 , 0.55078125,\n",
      "       0.5390625 , 0.62109375, 0.5859375 , 0.4375    , 0.453125  ,\n",
      "       0.54296875, 0.5078125 , 0.55078125, 0.5390625 , 0.62109375,\n",
      "       0.5859375 , 0.4375    , 0.453125  , 0.54296875, 0.5078125 ,\n",
      "       0.51953125, 0.4921875 , 0.62109375, 0.5859375 , 0.4375    ,\n",
      "       0.453125  , 0.54296875, 0.5078125 , 0.55078125, 0.5390625 ,\n",
      "       0.62109375, 0.5859375 ]), 'split3_test_score': array([0.53125   , 0.51953125, 0.69921875, 0.64453125, 0.640625  ,\n",
      "       0.640625  , 0.546875  , 0.5859375 , 0.53125   , 0.51953125,\n",
      "       0.69921875, 0.64453125, 0.640625  , 0.640625  , 0.546875  ,\n",
      "       0.5859375 , 0.53125   , 0.51953125, 0.69921875, 0.64453125,\n",
      "       0.640625  , 0.640625  , 0.546875  , 0.5859375 , 0.53125   ,\n",
      "       0.51953125, 0.69921875, 0.64453125, 0.640625  , 0.640625  ,\n",
      "       0.546875  , 0.5859375 ]), 'split4_test_score': array([0.890625  , 0.875     , 0.8515625 , 0.8125    , 0.86328125,\n",
      "       0.83984375, 0.83984375, 0.8203125 , 0.890625  , 0.875     ,\n",
      "       0.8515625 , 0.8125    , 0.8671875 , 0.84375   , 0.83984375,\n",
      "       0.8203125 , 0.890625  , 0.875     , 0.8515625 , 0.8125    ,\n",
      "       0.86328125, 0.83984375, 0.83984375, 0.8203125 , 0.890625  ,\n",
      "       0.875     , 0.8515625 , 0.8125    , 0.86328125, 0.83984375,\n",
      "       0.83984375, 0.8203125 ]), 'mean_test_score': array([0.6734375 , 0.66640625, 0.7265625 , 0.690625  , 0.7375    ,\n",
      "       0.72578125, 0.73828125, 0.7203125 , 0.6734375 , 0.66640625,\n",
      "       0.7265625 , 0.690625  , 0.73828125, 0.7265625 , 0.7390625 ,\n",
      "       0.7203125 , 0.6734375 , 0.66640625, 0.7265625 , 0.690625  ,\n",
      "       0.73125   , 0.71640625, 0.73828125, 0.7203125 , 0.6734375 ,\n",
      "       0.66640625, 0.7265625 , 0.690625  , 0.7375    , 0.72578125,\n",
      "       0.73828125, 0.7203125 ]), 'std_test_score': array([0.17444107, 0.17087065, 0.11012577, 0.12721188, 0.12134299,\n",
      "       0.12632114, 0.13447943, 0.12484365, 0.17444107, 0.17087065,\n",
      "       0.11012577, 0.12721188, 0.12216012, 0.12703423, 0.13546073,\n",
      "       0.12484365, 0.17444107, 0.17087065, 0.11012577, 0.12721188,\n",
      "       0.13120349, 0.14074648, 0.13447943, 0.12484365, 0.17444107,\n",
      "       0.17087065, 0.11012577, 0.12721188, 0.12134299, 0.12632114,\n",
      "       0.13447943, 0.12484365]), 'rank_test_score': array([25, 29,  9, 21,  6, 14,  2, 16, 25, 29,  9, 21,  2,  9,  1, 16, 25,\n",
      "       29,  9, 21,  8, 20,  2, 16, 25, 29,  9, 21,  6, 14,  2, 16])}\n"
     ]
    }
   ],
   "source": [
    "KNC_base = KNeighborsClassifier()\n",
    "KNC_tuned = GridSearchCV(KNC_base, param_grid=params_KNC, cv=StratifiedShuffleSplit(n_splits), scoring='roc_auc')\n",
    "KNC_tuned.fit(train[pred_vars], train['DEATH_EVENT'])\n",
    "print(KNC_tuned.cv_results_)"
   ]
  },
  {
   "cell_type": "code",
   "execution_count": 59,
   "id": "d6218e0e",
   "metadata": {},
   "outputs": [
    {
     "name": "stdout",
     "output_type": "stream",
     "text": [
      "LogisticRegression()\n",
      "KNeighborsClassifier()\n",
      "RandomForestClassifier()\n",
      "MLPClassifier()\n"
     ]
    }
   ],
   "source": [
    "fitted = [lr_tuned, KNC_tuned, rf_tuned, nnet_tuned]\n",
    "\n",
    "result_table = pd.DataFrame(columns=['classifier_name', 'fpr','tpr','auc', \n",
    "                                     'log_loss', 'clf_report'])\n",
    "\n",
    "for clf in fitted:\n",
    "    print(clf.estimator)\n",
    "    yproba = clf.predict_proba(test[pred_vars])\n",
    "    yclass = clf.predict(test[pred_vars])\n",
    "    \n",
    "    # auc information\n",
    "    fpr, tpr, _ = metrics.roc_curve(test['DEATH_EVENT'],  yproba[:,1])\n",
    "    auc = metrics.roc_auc_score(test['DEATH_EVENT'], yproba[:,1])\n",
    "    \n",
    "    # log loss\n",
    "    log_loss = metrics.log_loss(test['DEATH_EVENT'], yproba[:,1])\n",
    "    \n",
    "    # add some other stats based on confusion matrix\n",
    "    clf_report = metrics.classification_report(test['DEATH_EVENT'], yclass)\n",
    "    \n",
    "    \n",
    "    result_table = result_table.append({'classifier_name':str(clf.estimator),\n",
    "                                        'fpr':fpr, \n",
    "                                        'tpr':tpr, \n",
    "                                        'auc':auc,\n",
    "                                        'log_loss': log_loss,\n",
    "                                        'clf_report': clf_report}, ignore_index=True)\n",
    "    \n",
    "\n",
    "\n",
    "result_table.set_index('classifier_name', inplace=True)\n",
    "# print(result_table)"
   ]
  },
  {
   "cell_type": "code",
   "execution_count": 60,
   "id": "a9a21d51",
   "metadata": {},
   "outputs": [
    {
     "data": {
      "image/png": "[encoded data removed]",
      "text/plain": [
       "<Figure size 1008x864 with 1 Axes>"
      ]
     },
     "metadata": {
      "needs_background": "light"
     },
     "output_type": "display_data"
    }
   ],
   "source": [
    "fig = plt.figure(figsize=(14,12))\n",
    "\n",
    "for i in result_table.index:\n",
    "    plt.plot(result_table.loc[i]['fpr'], \n",
    "             result_table.loc[i]['tpr'], \n",
    "             label=\"{}, AUC={:.3f}\".format(i, result_table.loc[i]['auc']))\n",
    "    \n",
    "plt.plot([0,1], [0,1], color='orange', linestyle='--')\n",
    "\n",
    "plt.xticks(np.arange(0.0, 1.1, step=0.1))\n",
    "plt.xlabel(\"False Positive Rate\", fontsize=15)\n",
    "\n",
    "plt.yticks(np.arange(0.0, 1.1, step=0.1))\n",
    "plt.ylabel(\"True Positive Rate\", fontsize=15)\n",
    "\n",
    "plt.title('ROC Curve Analysis', fontweight='bold', fontsize=15)\n",
    "plt.legend(prop={'size':13}, loc='lower right')\n",
    "\n",
    "plt.show()"
   ]
  },
  {
   "cell_type": "code",
   "execution_count": 61,
   "id": "03db43b7",
   "metadata": {},
   "outputs": [
    {
     "name": "stdout",
     "output_type": "stream",
     "text": [
      "\n",
      "---- statistics for LogisticRegression() ----\n",
      "\n",
      "              precision    recall  f1-score   support\n",
      "\n",
      "           0       0.81      0.93      0.86        41\n",
      "           1       0.77      0.53      0.62        19\n",
      "\n",
      "    accuracy                           0.80        60\n",
      "   macro avg       0.79      0.73      0.74        60\n",
      "weighted avg       0.80      0.80      0.79        60\n",
      "\n",
      "Model log loss: 0.46517728036349115\n",
      "\n",
      "---- statistics for KNeighborsClassifier() ----\n",
      "\n",
      "              precision    recall  f1-score   support\n",
      "\n",
      "           0       0.82      0.90      0.86        41\n",
      "           1       0.73      0.58      0.65        19\n",
      "\n",
      "    accuracy                           0.80        60\n",
      "   macro avg       0.78      0.74      0.75        60\n",
      "weighted avg       0.79      0.80      0.79        60\n",
      "\n",
      "Model log loss: 0.4641026990406234\n",
      "\n",
      "---- statistics for RandomForestClassifier() ----\n",
      "\n",
      "              precision    recall  f1-score   support\n",
      "\n",
      "           0       0.86      0.93      0.89        41\n",
      "           1       0.81      0.68      0.74        19\n",
      "\n",
      "    accuracy                           0.85        60\n",
      "   macro avg       0.84      0.81      0.82        60\n",
      "weighted avg       0.85      0.85      0.85        60\n",
      "\n",
      "Model log loss: 0.33837163766559963\n",
      "\n",
      "---- statistics for MLPClassifier() ----\n",
      "\n",
      "              precision    recall  f1-score   support\n",
      "\n",
      "           0       0.88      0.90      0.89        41\n",
      "           1       0.78      0.74      0.76        19\n",
      "\n",
      "    accuracy                           0.85        60\n",
      "   macro avg       0.83      0.82      0.82        60\n",
      "weighted avg       0.85      0.85      0.85        60\n",
      "\n",
      "Model log loss: 0.4363533877789607\n"
     ]
    }
   ],
   "source": [
    "for i in result_table.index:\n",
    "        print('\\n---- statistics for', i, '----\\n')\n",
    "        print(result_table.loc[i, 'clf_report'])\n",
    "        print('Model log loss:', result_table.loc[i, 'log_loss'])"
   ]
  },
  {
   "attachments": {
    "image.png": {
     "image/png": "[encoded data removed]"
    }
   },
   "cell_type": "markdown",
   "id": "4a409715",
   "metadata": {},
   "source": [
    "![image.png](attachment:image.png)\n",
    "\n",
    "By comparing the models we can easily tell which performed the worst that was the Logistical Regression model. However, to tell which is the best is a little harder the Random Forest Classifier and MLP statistics are almost identical. The random Forest Classifier has a better area under the curve than MLP by .1. For this reason I believe the Random Forest Clasifier model is the best."
   ]
  },
  {
   "cell_type": "markdown",
   "id": "1814e09e",
   "metadata": {},
   "source": [
    "# Task 2"
   ]
  },
  {
   "cell_type": "code",
   "execution_count": 62,
   "id": "bc141160",
   "metadata": {},
   "outputs": [
    {
     "data": {
      "text/plain": [
       "['age',\n",
       " 'anaemia',\n",
       " 'creatinine_phosphokinase',\n",
       " 'diabetes',\n",
       " 'ejection_fraction',\n",
       " 'high_blood_pressure',\n",
       " 'platelets',\n",
       " 'serum_creatinine',\n",
       " 'serum_sodium',\n",
       " 'sex',\n",
       " 'smoking',\n",
       " 'time',\n",
       " 'DEATH_EVENT']"
      ]
     },
     "execution_count": 62,
     "metadata": {},
     "output_type": "execute_result"
    }
   ],
   "source": [
    "hf.columns.tolist()"
   ]
  },
  {
   "cell_type": "code",
   "execution_count": 63,
   "id": "438535c0",
   "metadata": {},
   "outputs": [],
   "source": [
    "full_pred_col = ['age', 'anaemia', 'creatinine_phosphokinase', 'diabetes', 'ejection_fraction', 'high_blood_pressure',\n",
    " 'platelets', 'serum_creatinine', 'serum_sodium', 'sex', 'smoking', 'time',]"
   ]
  },
  {
   "cell_type": "code",
   "execution_count": 64,
   "id": "af664c0b",
   "metadata": {},
   "outputs": [
    {
     "name": "stdout",
     "output_type": "stream",
     "text": [
      "Rows in train: 239\n",
      "Rows in test: 60\n",
      "Training data:\n",
      "                    age             sex        diabetes      \n",
      "                  mean count      mean count      mean count\n",
      "DEATH_EVENT                                                 \n",
      "0            58.775722   162  0.623457   162  0.407407   162\n",
      "1            65.359312    77  0.649351    77  0.428571    77\n",
      "Testing data:\n",
      "                    age             sex        diabetes      \n",
      "                  mean count      mean count      mean count\n",
      "DEATH_EVENT                                                 \n",
      "0            58.707317    41  0.756098    41  0.463415    41\n",
      "1            64.631579    19  0.631579    19  0.368421    19\n"
     ]
    }
   ],
   "source": [
    "np.random.seed(516)\n",
    "\n",
    "# create train and test\n",
    "train, test = train_test_split(hf, test_size=0.20, stratify=hf['DEATH_EVENT'])\n",
    "print(\"Rows in train:\", len(train))\n",
    "print(\"Rows in test:\", len(test))\n",
    "\n",
    "# view some stats by different variables\n",
    "train_stats = train.groupby('DEATH_EVENT')[['age', 'sex', 'diabetes']].agg(['mean', 'count'])\n",
    "print(\"Training data:\\n\", train_stats)\n",
    "test_stats = test.groupby('DEATH_EVENT')[['age', 'sex', 'diabetes']].agg(['mean', 'count'])\n",
    "print(\"Testing data:\\n\", test_stats)"
   ]
  },
  {
   "cell_type": "code",
   "execution_count": 65,
   "id": "a3bafda3",
   "metadata": {},
   "outputs": [
    {
     "name": "stdout",
     "output_type": "stream",
     "text": [
      "{'fit_time': array([0.11629009, 0.09424925, 0.09616709, 0.09296417, 0.10095167]), 'score_time': array([0.01898766, 0.01695299, 0.01701832, 0.01896954, 0.0179522 ]), 'test_accuracy': array([0.91666667, 0.95833333, 0.91666667, 0.875     , 0.83333333]), 'test_neg_log_loss': array([-0.27048696, -0.27224007, -0.24548403, -0.35949615, -0.34810464]), 'test_f1': array([0.88888889, 0.93333333, 0.875     , 0.8       , 0.66666667]), 'test_roc_auc': array([1.       , 0.96875  , 0.9921875, 0.9140625, 0.9375   ])}\n"
     ]
    }
   ],
   "source": [
    "scoring = ['accuracy', 'neg_log_loss', 'f1', 'roc_auc']\n",
    "rf_base = RandomForestClassifier()\n",
    "cv_rf = cross_validate(rf_base, train[full_pred_col], train['DEATH_EVENT'], cv=StratifiedShuffleSplit(n_splits), scoring=scoring)\n",
    "print(cv_rf)"
   ]
  },
  {
   "cell_type": "code",
   "execution_count": 72,
   "id": "5a9299eb",
   "metadata": {},
   "outputs": [
    {
     "name": "stdout",
     "output_type": "stream",
     "text": [
      "{'fit_time': array([0.01795197, 0.01595902, 0.0209465 , 0.01397038, 0.02194166]), 'score_time': array([0.00598383, 0.00498581, 0.00599313, 0.00497723, 0.00698161]), 'test_accuracy': array([0.66666667, 0.66666667, 0.66666667, 0.66666667, 0.66666667]), 'test_neg_log_loss': array([-11.51292546, -11.51292546, -11.51292546, -11.51292546,\n",
      "       -11.51292546]), 'test_f1': array([0., 0., 0., 0., 0.]), 'test_roc_auc': array([0.5      , 0.5      , 0.5078125, 0.5      , 0.5      ])}\n"
     ]
    }
   ],
   "source": [
    "scoring = ['accuracy', 'neg_log_loss', 'f1', 'roc_auc']\n",
    "rf_base = MLPClassifier()\n",
    "cv_rf = cross_validate(rf_base, train[full_pred_col], train['DEATH_EVENT'], cv=StratifiedShuffleSplit(n_splits), scoring=scoring)\n",
    "print(cv_rf)"
   ]
  },
  {
   "cell_type": "code",
   "execution_count": 73,
   "id": "75161c1f",
   "metadata": {},
   "outputs": [
    {
     "name": "stdout",
     "output_type": "stream",
     "text": [
      "{'fit_time': array([0.02259779, 0.01683903, 0.01791883, 0.01297379, 0.01695275]), 'score_time': array([0.00597477, 0.00502038, 0.00601721, 0.00597572, 0.00598454]), 'test_accuracy': array([0.91666667, 0.95833333, 0.83333333, 0.875     , 0.875     ]), 'test_neg_log_loss': array([-0.2592639 , -0.26313438, -0.53998012, -0.40363511, -0.39491306]), 'test_f1': array([0.85714286, 0.93333333, 0.75      , 0.82352941, 0.8       ]), 'test_roc_auc': array([0.9765625, 0.984375 , 0.828125 , 0.8828125, 0.890625 ])}\n"
     ]
    }
   ],
   "source": [
    "scoring = ['accuracy', 'neg_log_loss', 'f1', 'roc_auc']\n",
    "lr_base = LogisticRegression()\n",
    "cv_lr = cross_validate(lr_base, train[full_pred_col], train['DEATH_EVENT'], cv=StratifiedShuffleSplit(n_splits), scoring=scoring)\n",
    "print(cv_lr)"
   ]
  },
  {
   "cell_type": "code",
   "execution_count": 74,
   "id": "868c4aaa",
   "metadata": {},
   "outputs": [
    {
     "name": "stdout",
     "output_type": "stream",
     "text": [
      "{'fit_time': array([0.00299239, 0.00299263, 0.00199461, 0.00199461, 0.00199437]), 'score_time': array([0.00997138, 0.00797892, 0.00797939, 0.00498676, 0.00698137]), 'test_accuracy': array([0.5       , 0.5       , 0.70833333, 0.625     , 0.58333333]), 'test_neg_log_loss': array([-2.06045713, -3.50546863, -1.99019051, -2.14880144, -2.07905243]), 'test_f1': array([0.14285714, 0.14285714, 0.22222222, 0.18181818, 0.        ]), 'test_roc_auc': array([0.50390625, 0.45703125, 0.5546875 , 0.3984375 , 0.4296875 ])}\n"
     ]
    }
   ],
   "source": [
    "scoring = ['accuracy', 'neg_log_loss', 'f1', 'roc_auc']\n",
    "KNC_base = KNeighborsClassifier()\n",
    "cv_KNC = cross_validate(KNC_base, train[full_pred_col], train['DEATH_EVENT'], cv=StratifiedShuffleSplit(n_splits), scoring=scoring)\n",
    "print(cv_KNC)"
   ]
  },
  {
   "cell_type": "code",
   "execution_count": 85,
   "id": "2f320e5b",
   "metadata": {},
   "outputs": [
    {
     "data": {
      "text/plain": [
       "GridSearchCV(cv=StratifiedShuffleSplit(n_splits=5, random_state=None, test_size=None,\n",
       "            train_size=None),\n",
       "             estimator=RandomForestClassifier(),\n",
       "             param_grid={'criterion': ['gini', 'entropy'],\n",
       "                         'max_depth': [5, 10, 15, None]},\n",
       "             scoring='roc_auc')"
      ]
     },
     "execution_count": 85,
     "metadata": {},
     "output_type": "execute_result"
    }
   ],
   "source": [
    "params = {'criterion': ['gini', 'entropy'], 'max_depth': [5, 10, 15, None]}\n",
    "rf_base = RandomForestClassifier()\n",
    "rf_tuned = GridSearchCV(rf_base, param_grid=params, cv=StratifiedShuffleSplit(n_splits), scoring='roc_auc')\n",
    "rf_tuned.fit(train[full_pred_col], train['DEATH_EVENT'])"
   ]
  },
  {
   "cell_type": "code",
   "execution_count": 86,
   "id": "18feace4",
   "metadata": {},
   "outputs": [
    {
     "name": "stdout",
     "output_type": "stream",
     "text": [
      "{'mean_fit_time': array([0.0154635 , 0.01476097, 0.0117681 , 0.01456146, 0.01486139,\n",
      "       0.01057167, 0.02753282, 0.01475067, 0.01077094]), 'std_fit_time': array([0.00223516, 0.00116299, 0.00116291, 0.00645226, 0.00493362,\n",
      "       0.00079737, 0.02667961, 0.0135835 , 0.00073872]), 'mean_score_time': array([0.00239763, 0.00219378, 0.00239382, 0.00199399, 0.00259218,\n",
      "       0.00219479, 0.00199471, 0.00259705, 0.00199461]), 'std_score_time': array([4.87204212e-04, 3.99184437e-04, 4.88733468e-04, 1.26698782e-06,\n",
      "       4.88015113e-04, 3.99279634e-04, 1.74290341e-06, 8.05311632e-04,\n",
      "       2.70581454e-06]), 'param_hidden_layer_sizes': masked_array(data=[(100,), (100,), (100,), (10, 10), (10, 10), (10, 10),\n",
      "                   (5, 5, 5), (5, 5, 5), (5, 5, 5)],\n",
      "             mask=[False, False, False, False, False, False, False, False,\n",
      "                   False],\n",
      "       fill_value='?',\n",
      "            dtype=object), 'param_solver': masked_array(data=['adam', 'lbfgs', 'sgd', 'adam', 'lbfgs', 'sgd', 'adam',\n",
      "                   'lbfgs', 'sgd'],\n",
      "             mask=[False, False, False, False, False, False, False, False,\n",
      "                   False],\n",
      "       fill_value='?',\n",
      "            dtype=object), 'params': [{'hidden_layer_sizes': (100,), 'solver': 'adam'}, {'hidden_layer_sizes': (100,), 'solver': 'lbfgs'}, {'hidden_layer_sizes': (100,), 'solver': 'sgd'}, {'hidden_layer_sizes': (10, 10), 'solver': 'adam'}, {'hidden_layer_sizes': (10, 10), 'solver': 'lbfgs'}, {'hidden_layer_sizes': (10, 10), 'solver': 'sgd'}, {'hidden_layer_sizes': (5, 5, 5), 'solver': 'adam'}, {'hidden_layer_sizes': (5, 5, 5), 'solver': 'lbfgs'}, {'hidden_layer_sizes': (5, 5, 5), 'solver': 'sgd'}], 'split0_test_score': array([0.5, 0.5, 0.5, 0.5, 0.5, 0.5, 0.5, 0.5, 0.5]), 'split1_test_score': array([0.703125, 0.5     , 0.5     , 0.75    , 0.5     , 0.5     ,\n",
      "       0.5     , 0.5     , 0.5     ]), 'split2_test_score': array([0.5, 0.5, 0.5, 0.5, 0.5, 0.5, 0.5, 0.5, 0.5]), 'split3_test_score': array([0.5, 0.5, 0.5, 0.5, 0.5, 0.5, 0.5, 0.5, 0.5]), 'split4_test_score': array([0.3828125, 0.5      , 0.5      , 0.46875  , 0.46875  , 0.5      ,\n",
      "       0.5      , 0.3359375, 0.5      ]), 'mean_test_score': array([0.5171875, 0.5      , 0.5      , 0.54375  , 0.49375  , 0.5      ,\n",
      "       0.5      , 0.4671875, 0.5      ]), 'std_test_score': array([0.10345591, 0.        , 0.        , 0.1038328 , 0.0125    ,\n",
      "       0.        , 0.        , 0.065625  , 0.        ]), 'rank_test_score': array([2, 3, 3, 1, 8, 3, 3, 9, 3])}\n"
     ]
    }
   ],
   "source": [
    "import warnings\n",
    "warnings.filterwarnings('ignore')\n",
    "\n",
    "nnet_base = MLPClassifier()\n",
    "\n",
    "params = {'hidden_layer_sizes': [(100,), (10,10), (5,5,5)], \n",
    "          'solver': ['adam', 'lbfgs', 'sgd']}\n",
    "# 9 different param combos, 5 cv = total of 45 models\n",
    "# try with differnt scoring methods\n",
    "# we get different results with accuracy & log_loss\n",
    "nnet_tuned = GridSearchCV(nnet_base, param_grid=params, cv=StratifiedShuffleSplit(n_splits), scoring='roc_auc')\n",
    "nnet_tuned.fit(train[full_pred_col], train['DEATH_EVENT'])\n",
    "# nnet_tuned.get_params()\n",
    "print(nnet_tuned.cv_results_)"
   ]
  },
  {
   "cell_type": "code",
   "execution_count": 87,
   "id": "1561fb0e",
   "metadata": {},
   "outputs": [],
   "source": [
    "params_lr = {'penalty': ['l2', 'elasticnet', 'none'], 'C': [1.0, 2.0], 'class_weight': ['balanced',None]}\n",
    "params_KNC = {'n_neighbors': [2, 5, 10, 15], 'weights': ['uniform', 'distance'], 'algorithm': ['auto', 'ball_tree'], 'leaf_size':[2,5]}"
   ]
  },
  {
   "cell_type": "code",
   "execution_count": 88,
   "id": "d08b136d",
   "metadata": {},
   "outputs": [
    {
     "name": "stdout",
     "output_type": "stream",
     "text": [
      "{'mean_fit_time': array([0.01615534, 0.00059838, 0.01814299, 0.01666951, 0.00039902,\n",
      "       0.01554294, 0.01536636, 0.00019946, 0.0165555 , 0.01436229,\n",
      "       0.        , 0.01505032]), 'std_fit_time': array([0.0019343 , 0.00048858, 0.00145982, 0.00278631, 0.00048869,\n",
      "       0.00286865, 0.0020492 , 0.00039892, 0.00119693, 0.00239917,\n",
      "       0.        , 0.00294039]), 'mean_score_time': array([0.00299215, 0.        , 0.00240135, 0.00238781, 0.        ,\n",
      "       0.00240264, 0.00199347, 0.        , 0.0017951 , 0.00199409,\n",
      "       0.        , 0.00239406]), 'std_score_time': array([1.09502227e-03, 0.00000000e+00, 4.97357820e-04, 8.00335245e-04,\n",
      "       0.00000000e+00, 7.84488771e-04, 2.69486831e-06, 0.00000000e+00,\n",
      "       3.98898848e-04, 1.42573513e-06, 0.00000000e+00, 7.98416650e-04]), 'param_C': masked_array(data=[1.0, 1.0, 1.0, 1.0, 1.0, 1.0, 2.0, 2.0, 2.0, 2.0, 2.0,\n",
      "                   2.0],\n",
      "             mask=[False, False, False, False, False, False, False, False,\n",
      "                   False, False, False, False],\n",
      "       fill_value='?',\n",
      "            dtype=object), 'param_class_weight': masked_array(data=['balanced', 'balanced', 'balanced', None, None, None,\n",
      "                   'balanced', 'balanced', 'balanced', None, None, None],\n",
      "             mask=[False, False, False, False, False, False, False, False,\n",
      "                   False, False, False, False],\n",
      "       fill_value='?',\n",
      "            dtype=object), 'param_penalty': masked_array(data=['l2', 'elasticnet', 'none', 'l2', 'elasticnet', 'none',\n",
      "                   'l2', 'elasticnet', 'none', 'l2', 'elasticnet', 'none'],\n",
      "             mask=[False, False, False, False, False, False, False, False,\n",
      "                   False, False, False, False],\n",
      "       fill_value='?',\n",
      "            dtype=object), 'params': [{'C': 1.0, 'class_weight': 'balanced', 'penalty': 'l2'}, {'C': 1.0, 'class_weight': 'balanced', 'penalty': 'elasticnet'}, {'C': 1.0, 'class_weight': 'balanced', 'penalty': 'none'}, {'C': 1.0, 'class_weight': None, 'penalty': 'l2'}, {'C': 1.0, 'class_weight': None, 'penalty': 'elasticnet'}, {'C': 1.0, 'class_weight': None, 'penalty': 'none'}, {'C': 2.0, 'class_weight': 'balanced', 'penalty': 'l2'}, {'C': 2.0, 'class_weight': 'balanced', 'penalty': 'elasticnet'}, {'C': 2.0, 'class_weight': 'balanced', 'penalty': 'none'}, {'C': 2.0, 'class_weight': None, 'penalty': 'l2'}, {'C': 2.0, 'class_weight': None, 'penalty': 'elasticnet'}, {'C': 2.0, 'class_weight': None, 'penalty': 'none'}], 'split0_test_score': array([0.4296875,       nan, 0.421875 , 0.4296875,       nan, 0.4296875,\n",
      "       0.4296875,       nan, 0.421875 , 0.4296875,       nan, 0.4296875]), 'split1_test_score': array([1.      ,      nan, 1.      , 1.      ,      nan, 1.      ,\n",
      "       0.921875,      nan, 1.      , 0.921875,      nan, 1.      ]), 'split2_test_score': array([0.8828125,       nan, 0.8828125, 0.875    ,       nan, 0.8828125,\n",
      "       0.8828125,       nan, 0.8828125, 0.875    ,       nan, 0.8828125]), 'split3_test_score': array([0.921875 ,       nan, 0.9296875, 0.9296875,       nan, 0.9296875,\n",
      "       0.921875 ,       nan, 0.9296875, 0.9296875,       nan, 0.9296875]), 'split4_test_score': array([0.8984375,       nan, 0.8984375, 0.859375 ,       nan, 0.859375 ,\n",
      "       0.8984375,       nan, 0.8984375, 0.859375 ,       nan, 0.859375 ]), 'mean_test_score': array([0.8265625,       nan, 0.8265625, 0.81875  ,       nan, 0.8203125,\n",
      "       0.8109375,       nan, 0.8265625, 0.803125 ,       nan, 0.8203125]), 'std_test_score': array([0.20248698,        nan, 0.20630918, 0.20067026,        nan,\n",
      "       0.20113205, 0.19120046,        nan, 0.20630918, 0.18862941,\n",
      "              nan, 0.20113205]), 'rank_test_score': array([ 1,  9,  1,  6, 10,  4,  7, 11,  1,  8, 12,  4])}\n"
     ]
    }
   ],
   "source": [
    "lr_base = LogisticRegression()\n",
    "lr_tuned = GridSearchCV(lr_base, param_grid=params_lr, cv=StratifiedShuffleSplit(n_splits), scoring='roc_auc')\n",
    "lr_tuned.fit(train[full_pred_col], train['DEATH_EVENT'])\n",
    "print(lr_tuned.cv_results_)"
   ]
  },
  {
   "cell_type": "code",
   "execution_count": 89,
   "id": "8339f4e0",
   "metadata": {},
   "outputs": [
    {
     "name": "stdout",
     "output_type": "stream",
     "text": [
      "{'mean_fit_time': array([0.00300655, 0.00239339, 0.00259266, 0.00199485, 0.00199618,\n",
      "       0.00200195, 0.00239401, 0.00238881, 0.00199461, 0.00218234,\n",
      "       0.00199456, 0.00199404, 0.00199566, 0.00199466, 0.00219383,\n",
      "       0.00220084, 0.00179586, 0.00200081, 0.00199475, 0.0017952 ,\n",
      "       0.00198874, 0.00199485, 0.00199032, 0.00179482, 0.00178657,\n",
      "       0.00218539, 0.00159006, 0.00219359, 0.00219417, 0.00179338,\n",
      "       0.00179505, 0.00178375]), 'std_fit_time': array([1.08291059e-03, 4.88791874e-04, 4.87820554e-04, 3.69356475e-07,\n",
      "       2.21668256e-05, 1.26216913e-05, 4.88091931e-04, 4.93300257e-04,\n",
      "       3.98950589e-07, 4.04786460e-04, 2.78041453e-07, 1.49729905e-06,\n",
      "       1.95110904e-05, 4.62310777e-07, 4.00352932e-04, 3.95260356e-04,\n",
      "       3.99286040e-04, 1.23996000e-05, 4.42200589e-07, 3.98826628e-04,\n",
      "       1.22126179e-05, 6.30901855e-04, 1.02047608e-05, 3.83106743e-04,\n",
      "       3.94728685e-04, 3.87893983e-04, 8.02694781e-04, 3.99643609e-04,\n",
      "       3.99113015e-04, 3.97833445e-04, 3.98993702e-04, 3.93526649e-04]), 'mean_score_time': array([0.00259027, 0.00259309, 0.00259347, 0.00239358, 0.00259743,\n",
      "       0.00218205, 0.00239339, 0.0021935 , 0.00219421, 0.00219879,\n",
      "       0.00239363, 0.00219436, 0.00219345, 0.00239372, 0.00238891,\n",
      "       0.00298634, 0.00219336, 0.00198851, 0.00219455, 0.00219436,\n",
      "       0.0020144 , 0.00259347, 0.00200167, 0.0023993 , 0.00239129,\n",
      "       0.00179672, 0.00239363, 0.00240021, 0.00218868, 0.00259619,\n",
      "       0.00257969, 0.00338264]), 'std_score_time': array([7.96836590e-04, 1.19743351e-03, 4.89163914e-04, 4.88636760e-04,\n",
      "       4.95642571e-04, 3.89057115e-04, 4.88014414e-04, 3.99209123e-04,\n",
      "       3.98969807e-04, 4.13035554e-04, 4.88791944e-04, 3.99017761e-04,\n",
      "       3.99113499e-04, 4.88324648e-04, 4.92626983e-04, 6.31284939e-04,\n",
      "       4.00118733e-04, 1.24468200e-05, 3.98804279e-04, 3.99375001e-04,\n",
      "       2.65118887e-05, 7.98261242e-04, 2.04426936e-05, 4.95007789e-04,\n",
      "       4.85907672e-04, 3.99603622e-04, 4.75932732e-04, 4.95404903e-04,\n",
      "       3.86359996e-04, 4.91200680e-04, 4.79011846e-04, 1.81770334e-03]), 'param_algorithm': masked_array(data=['auto', 'auto', 'auto', 'auto', 'auto', 'auto', 'auto',\n",
      "                   'auto', 'auto', 'auto', 'auto', 'auto', 'auto', 'auto',\n",
      "                   'auto', 'auto', 'ball_tree', 'ball_tree', 'ball_tree',\n",
      "                   'ball_tree', 'ball_tree', 'ball_tree', 'ball_tree',\n",
      "                   'ball_tree', 'ball_tree', 'ball_tree', 'ball_tree',\n",
      "                   'ball_tree', 'ball_tree', 'ball_tree', 'ball_tree',\n",
      "                   'ball_tree'],\n",
      "             mask=[False, False, False, False, False, False, False, False,\n",
      "                   False, False, False, False, False, False, False, False,\n",
      "                   False, False, False, False, False, False, False, False,\n",
      "                   False, False, False, False, False, False, False, False],\n",
      "       fill_value='?',\n",
      "            dtype=object), 'param_leaf_size': masked_array(data=[2, 2, 2, 2, 2, 2, 2, 2, 5, 5, 5, 5, 5, 5, 5, 5, 2, 2,\n",
      "                   2, 2, 2, 2, 2, 2, 5, 5, 5, 5, 5, 5, 5, 5],\n",
      "             mask=[False, False, False, False, False, False, False, False,\n",
      "                   False, False, False, False, False, False, False, False,\n",
      "                   False, False, False, False, False, False, False, False,\n",
      "                   False, False, False, False, False, False, False, False],\n",
      "       fill_value='?',\n",
      "            dtype=object), 'param_n_neighbors': masked_array(data=[2, 2, 5, 5, 10, 10, 15, 15, 2, 2, 5, 5, 10, 10, 15, 15,\n",
      "                   2, 2, 5, 5, 10, 10, 15, 15, 2, 2, 5, 5, 10, 10, 15, 15],\n",
      "             mask=[False, False, False, False, False, False, False, False,\n",
      "                   False, False, False, False, False, False, False, False,\n",
      "                   False, False, False, False, False, False, False, False,\n",
      "                   False, False, False, False, False, False, False, False],\n",
      "       fill_value='?',\n",
      "            dtype=object), 'param_weights': masked_array(data=['uniform', 'distance', 'uniform', 'distance',\n",
      "                   'uniform', 'distance', 'uniform', 'distance',\n",
      "                   'uniform', 'distance', 'uniform', 'distance',\n",
      "                   'uniform', 'distance', 'uniform', 'distance',\n",
      "                   'uniform', 'distance', 'uniform', 'distance',\n",
      "                   'uniform', 'distance', 'uniform', 'distance',\n",
      "                   'uniform', 'distance', 'uniform', 'distance',\n",
      "                   'uniform', 'distance', 'uniform', 'distance'],\n",
      "             mask=[False, False, False, False, False, False, False, False,\n",
      "                   False, False, False, False, False, False, False, False,\n",
      "                   False, False, False, False, False, False, False, False,\n",
      "                   False, False, False, False, False, False, False, False],\n",
      "       fill_value='?',\n",
      "            dtype=object), 'params': [{'algorithm': 'auto', 'leaf_size': 2, 'n_neighbors': 2, 'weights': 'uniform'}, {'algorithm': 'auto', 'leaf_size': 2, 'n_neighbors': 2, 'weights': 'distance'}, {'algorithm': 'auto', 'leaf_size': 2, 'n_neighbors': 5, 'weights': 'uniform'}, {'algorithm': 'auto', 'leaf_size': 2, 'n_neighbors': 5, 'weights': 'distance'}, {'algorithm': 'auto', 'leaf_size': 2, 'n_neighbors': 10, 'weights': 'uniform'}, {'algorithm': 'auto', 'leaf_size': 2, 'n_neighbors': 10, 'weights': 'distance'}, {'algorithm': 'auto', 'leaf_size': 2, 'n_neighbors': 15, 'weights': 'uniform'}, {'algorithm': 'auto', 'leaf_size': 2, 'n_neighbors': 15, 'weights': 'distance'}, {'algorithm': 'auto', 'leaf_size': 5, 'n_neighbors': 2, 'weights': 'uniform'}, {'algorithm': 'auto', 'leaf_size': 5, 'n_neighbors': 2, 'weights': 'distance'}, {'algorithm': 'auto', 'leaf_size': 5, 'n_neighbors': 5, 'weights': 'uniform'}, {'algorithm': 'auto', 'leaf_size': 5, 'n_neighbors': 5, 'weights': 'distance'}, {'algorithm': 'auto', 'leaf_size': 5, 'n_neighbors': 10, 'weights': 'uniform'}, {'algorithm': 'auto', 'leaf_size': 5, 'n_neighbors': 10, 'weights': 'distance'}, {'algorithm': 'auto', 'leaf_size': 5, 'n_neighbors': 15, 'weights': 'uniform'}, {'algorithm': 'auto', 'leaf_size': 5, 'n_neighbors': 15, 'weights': 'distance'}, {'algorithm': 'ball_tree', 'leaf_size': 2, 'n_neighbors': 2, 'weights': 'uniform'}, {'algorithm': 'ball_tree', 'leaf_size': 2, 'n_neighbors': 2, 'weights': 'distance'}, {'algorithm': 'ball_tree', 'leaf_size': 2, 'n_neighbors': 5, 'weights': 'uniform'}, {'algorithm': 'ball_tree', 'leaf_size': 2, 'n_neighbors': 5, 'weights': 'distance'}, {'algorithm': 'ball_tree', 'leaf_size': 2, 'n_neighbors': 10, 'weights': 'uniform'}, {'algorithm': 'ball_tree', 'leaf_size': 2, 'n_neighbors': 10, 'weights': 'distance'}, {'algorithm': 'ball_tree', 'leaf_size': 2, 'n_neighbors': 15, 'weights': 'uniform'}, {'algorithm': 'ball_tree', 'leaf_size': 2, 'n_neighbors': 15, 'weights': 'distance'}, {'algorithm': 'ball_tree', 'leaf_size': 5, 'n_neighbors': 2, 'weights': 'uniform'}, {'algorithm': 'ball_tree', 'leaf_size': 5, 'n_neighbors': 2, 'weights': 'distance'}, {'algorithm': 'ball_tree', 'leaf_size': 5, 'n_neighbors': 5, 'weights': 'uniform'}, {'algorithm': 'ball_tree', 'leaf_size': 5, 'n_neighbors': 5, 'weights': 'distance'}, {'algorithm': 'ball_tree', 'leaf_size': 5, 'n_neighbors': 10, 'weights': 'uniform'}, {'algorithm': 'ball_tree', 'leaf_size': 5, 'n_neighbors': 10, 'weights': 'distance'}, {'algorithm': 'ball_tree', 'leaf_size': 5, 'n_neighbors': 15, 'weights': 'uniform'}, {'algorithm': 'ball_tree', 'leaf_size': 5, 'n_neighbors': 15, 'weights': 'distance'}], 'split0_test_score': array([0.3203125 , 0.34375   , 0.26953125, 0.2890625 , 0.2734375 ,\n",
      "       0.3203125 , 0.34765625, 0.34375   , 0.3203125 , 0.34375   ,\n",
      "       0.26953125, 0.2890625 , 0.2734375 , 0.3203125 , 0.34765625,\n",
      "       0.34375   , 0.3203125 , 0.34375   , 0.26953125, 0.2890625 ,\n",
      "       0.2734375 , 0.3203125 , 0.34765625, 0.34375   , 0.3203125 ,\n",
      "       0.34375   , 0.26953125, 0.2890625 , 0.2734375 , 0.3203125 ,\n",
      "       0.34765625, 0.34375   ]), 'split1_test_score': array([0.33984375, 0.3671875 , 0.42578125, 0.40234375, 0.48046875,\n",
      "       0.4375    , 0.44921875, 0.4375    , 0.33984375, 0.3671875 ,\n",
      "       0.42578125, 0.40234375, 0.48046875, 0.4375    , 0.44921875,\n",
      "       0.4375    , 0.33984375, 0.3671875 , 0.42578125, 0.40234375,\n",
      "       0.48046875, 0.4375    , 0.44921875, 0.4375    , 0.33984375,\n",
      "       0.3671875 , 0.42578125, 0.40234375, 0.48046875, 0.4375    ,\n",
      "       0.44921875, 0.4375    ]), 'split2_test_score': array([0.39453125, 0.37890625, 0.46484375, 0.3984375 , 0.51953125,\n",
      "       0.40625   , 0.54296875, 0.4609375 , 0.39453125, 0.37890625,\n",
      "       0.46484375, 0.3984375 , 0.51953125, 0.40625   , 0.54296875,\n",
      "       0.4609375 , 0.39453125, 0.37890625, 0.46484375, 0.3984375 ,\n",
      "       0.51953125, 0.40625   , 0.54296875, 0.4609375 , 0.39453125,\n",
      "       0.37890625, 0.46484375, 0.3984375 , 0.51953125, 0.40625   ,\n",
      "       0.54296875, 0.4609375 ]), 'split3_test_score': array([0.52734375, 0.54296875, 0.62109375, 0.5625    , 0.609375  ,\n",
      "       0.5859375 , 0.625     , 0.578125  , 0.52734375, 0.54296875,\n",
      "       0.62109375, 0.5625    , 0.609375  , 0.5859375 , 0.625     ,\n",
      "       0.578125  , 0.52734375, 0.54296875, 0.62109375, 0.5625    ,\n",
      "       0.609375  , 0.5859375 , 0.625     , 0.578125  , 0.52734375,\n",
      "       0.54296875, 0.62109375, 0.5625    , 0.609375  , 0.5859375 ,\n",
      "       0.625     , 0.578125  ]), 'split4_test_score': array([0.34375   , 0.328125  , 0.32421875, 0.3359375 , 0.34375   ,\n",
      "       0.34375   , 0.32421875, 0.3203125 , 0.34375   , 0.328125  ,\n",
      "       0.32421875, 0.3359375 , 0.34375   , 0.34375   , 0.32421875,\n",
      "       0.3203125 , 0.34375   , 0.328125  , 0.32421875, 0.3359375 ,\n",
      "       0.34375   , 0.34375   , 0.32421875, 0.3203125 , 0.34375   ,\n",
      "       0.328125  , 0.32421875, 0.3359375 , 0.34375   , 0.34375   ,\n",
      "       0.32421875, 0.3203125 ]), 'mean_test_score': array([0.38515625, 0.3921875 , 0.42109375, 0.39765625, 0.4453125 ,\n",
      "       0.41875   , 0.4578125 , 0.428125  , 0.38515625, 0.3921875 ,\n",
      "       0.42109375, 0.39765625, 0.4453125 , 0.41875   , 0.4578125 ,\n",
      "       0.428125  , 0.38515625, 0.3921875 , 0.42109375, 0.39765625,\n",
      "       0.4453125 , 0.41875   , 0.4578125 , 0.428125  , 0.38515625,\n",
      "       0.3921875 , 0.42109375, 0.39765625, 0.4453125 , 0.41875   ,\n",
      "       0.4578125 , 0.428125  ]), 'std_test_score': array([0.07520318, 0.07744233, 0.12189503, 0.09251795, 0.12125745,\n",
      "       0.09356753, 0.11424429, 0.09209476, 0.07520318, 0.07744233,\n",
      "       0.12189503, 0.09251795, 0.12125745, 0.09356753, 0.11424429,\n",
      "       0.09209476, 0.07520318, 0.07744233, 0.12189503, 0.09251795,\n",
      "       0.12125745, 0.09356753, 0.11424429, 0.09209476, 0.07520318,\n",
      "       0.07744233, 0.12189503, 0.09251795, 0.12125745, 0.09356753,\n",
      "       0.11424429, 0.09209476]), 'rank_test_score': array([29, 25, 13, 21,  5, 17,  1,  9, 29, 25, 13, 21,  5, 17,  1,  9, 29,\n",
      "       25, 13, 21,  5, 17,  1,  9, 29, 25, 13, 21,  5, 17,  1,  9])}\n"
     ]
    }
   ],
   "source": [
    "KNC_base = KNeighborsClassifier()\n",
    "KNC_tuned = GridSearchCV(KNC_base, param_grid=params_KNC, cv=StratifiedShuffleSplit(n_splits), scoring='roc_auc')\n",
    "KNC_tuned.fit(train[full_pred_col], train['DEATH_EVENT'])\n",
    "print(KNC_tuned.cv_results_)"
   ]
  },
  {
   "cell_type": "code",
   "execution_count": 90,
   "id": "a985170c",
   "metadata": {},
   "outputs": [
    {
     "name": "stdout",
     "output_type": "stream",
     "text": [
      "LogisticRegression()\n",
      "KNeighborsClassifier()\n",
      "RandomForestClassifier()\n",
      "MLPClassifier()\n"
     ]
    }
   ],
   "source": [
    "fitted = [lr_tuned, KNC_tuned, rf_tuned, nnet_tuned]\n",
    "\n",
    "result_table = pd.DataFrame(columns=['classifier_name', 'fpr','tpr','auc', \n",
    "                                     'log_loss', 'clf_report'])\n",
    "\n",
    "for clf in fitted:\n",
    "    print(clf.estimator)\n",
    "    yproba = clf.predict_proba(test[full_pred_col])\n",
    "    yclass = clf.predict(test[full_pred_col])\n",
    "    \n",
    "    # auc information\n",
    "    fpr, tpr, _ = metrics.roc_curve(test['DEATH_EVENT'],  yproba[:,1])\n",
    "    auc = metrics.roc_auc_score(test['DEATH_EVENT'], yproba[:,1])\n",
    "    \n",
    "    # log loss\n",
    "    log_loss = metrics.log_loss(test['DEATH_EVENT'], yproba[:,1])\n",
    "    \n",
    "    # add some other stats based on confusion matrix\n",
    "    clf_report = metrics.classification_report(test['DEATH_EVENT'], yclass)\n",
    "    \n",
    "    \n",
    "    result_table = result_table.append({'classifier_name':str(clf.estimator),\n",
    "                                        'fpr':fpr, \n",
    "                                        'tpr':tpr, \n",
    "                                        'auc':auc,\n",
    "                                        'log_loss': log_loss,\n",
    "                                        'clf_report': clf_report}, ignore_index=True)\n",
    "    \n",
    "\n",
    "\n",
    "result_table.set_index('classifier_name', inplace=True)\n",
    "# print(result_table)"
   ]
  },
  {
   "cell_type": "code",
   "execution_count": 91,
   "id": "b94167f0",
   "metadata": {},
   "outputs": [
    {
     "data": {
      "image/png": "[encoded data removed]",
      "text/plain": [
       "<Figure size 1008x864 with 1 Axes>"
      ]
     },
     "metadata": {
      "needs_background": "light"
     },
     "output_type": "display_data"
    }
   ],
   "source": [
    "fig = plt.figure(figsize=(14,12))\n",
    "\n",
    "for i in result_table.index:\n",
    "    plt.plot(result_table.loc[i]['fpr'], \n",
    "             result_table.loc[i]['tpr'], \n",
    "             label=\"{}, AUC={:.3f}\".format(i, result_table.loc[i]['auc']))\n",
    "    \n",
    "plt.plot([0,1], [0,1], color='orange', linestyle='--')\n",
    "\n",
    "plt.xticks(np.arange(0.0, 1.1, step=0.1))\n",
    "plt.xlabel(\"False Positive Rate\", fontsize=15)\n",
    "\n",
    "plt.yticks(np.arange(0.0, 1.1, step=0.1))\n",
    "plt.ylabel(\"True Positive Rate\", fontsize=15)\n",
    "\n",
    "plt.title('ROC Curve Analysis', fontweight='bold', fontsize=15)\n",
    "plt.legend(prop={'size':13}, loc='lower right')\n",
    "\n",
    "plt.show()"
   ]
  },
  {
   "cell_type": "code",
   "execution_count": 84,
   "id": "85ec211c",
   "metadata": {},
   "outputs": [
    {
     "name": "stdout",
     "output_type": "stream",
     "text": [
      "\n",
      "---- statistics for LogisticRegression() ----\n",
      "\n",
      "              precision    recall  f1-score   support\n",
      "\n",
      "           0       0.91      0.73      0.81        41\n",
      "           1       0.59      0.84      0.70        19\n",
      "\n",
      "    accuracy                           0.77        60\n",
      "   macro avg       0.75      0.79      0.75        60\n",
      "weighted avg       0.81      0.77      0.77        60\n",
      "\n",
      "Model log loss: 0.5289079956572317\n",
      "\n",
      "---- statistics for KNeighborsClassifier() ----\n",
      "\n",
      "              precision    recall  f1-score   support\n",
      "\n",
      "           0       0.68      0.98      0.80        41\n",
      "           1       0.00      0.00      0.00        19\n",
      "\n",
      "    accuracy                           0.67        60\n",
      "   macro avg       0.34      0.49      0.40        60\n",
      "weighted avg       0.46      0.67      0.55        60\n",
      "\n",
      "Model log loss: 0.6733838662565156\n",
      "\n",
      "---- statistics for RandomForestClassifier() ----\n",
      "\n",
      "              precision    recall  f1-score   support\n",
      "\n",
      "           0       0.85      0.80      0.83        41\n",
      "           1       0.62      0.68      0.65        19\n",
      "\n",
      "    accuracy                           0.77        60\n",
      "   macro avg       0.73      0.74      0.74        60\n",
      "weighted avg       0.77      0.77      0.77        60\n",
      "\n",
      "Model log loss: 0.4256436359750106\n",
      "\n",
      "---- statistics for MLPClassifier() ----\n",
      "\n",
      "              precision    recall  f1-score   support\n",
      "\n",
      "           0       0.00      0.00      0.00        41\n",
      "           1       0.32      1.00      0.48        19\n",
      "\n",
      "    accuracy                           0.32        60\n",
      "   macro avg       0.16      0.50      0.24        60\n",
      "weighted avg       0.10      0.32      0.15        60\n",
      "\n",
      "Model log loss: 23.60204359476626\n"
     ]
    }
   ],
   "source": [
    "for i in result_table.index:\n",
    "        print('\\n---- statistics for', i, '----\\n')\n",
    "        print(result_table.loc[i, 'clf_report'])\n",
    "        print('Model log loss:', result_table.loc[i, 'log_loss'])"
   ]
  },
  {
   "cell_type": "markdown",
   "id": "05fedc67",
   "metadata": {},
   "source": [
    "#### All the models perform much worse with all columns in the dataset."
   ]
  },
  {
   "cell_type": "code",
   "execution_count": null,
   "id": "27daad3a",
   "metadata": {},
   "outputs": [],
   "source": []
  }
 ],
 "metadata": {
  "kernelspec": {
   "display_name": "Python 3",
   "language": "python",
   "name": "python3"
  },
  "language_info": {
   "codemirror_mode": {
    "name": "ipython",
    "version": 3
   },
   "file_extension": ".py",
   "mimetype": "text/x-python",
   "name": "python",
   "nbconvert_exporter": "python",
   "pygments_lexer": "ipython3",
   "version": "3.8.8"
  }
 },
 "nbformat": 4,
 "nbformat_minor": 5
}
