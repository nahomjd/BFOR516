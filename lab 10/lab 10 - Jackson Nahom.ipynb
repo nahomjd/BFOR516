{
 "cells": [
  {
   "cell_type": "code",
   "execution_count": 19,
   "id": "e5d77c74",
   "metadata": {},
   "outputs": [],
   "source": [
    "import numpy as np\n",
    "import pandas as pd\n",
    "import matplotlib.pyplot as plt\n",
    "from scipy.stats import ttest_ind\n",
    "from sklearn.model_selection import train_test_split\n",
    "from sklearn.model_selection import GridSearchCV"
   ]
  },
  {
   "cell_type": "code",
   "execution_count": 20,
   "id": "503fb3a9",
   "metadata": {},
   "outputs": [],
   "source": [
    "trial_data = pd.read_csv('data/trial_data.csv')"
   ]
  },
  {
   "cell_type": "code",
   "execution_count": 21,
   "id": "ec9202da",
   "metadata": {},
   "outputs": [
    {
     "name": "stdout",
     "output_type": "stream",
     "text": [
      "['This', 'is', 'my', 'text', 'It', 'icludes', 'commas', 'question', 'marks', 'and', 'other', 'stuff', 'Also', 'U', 'S']\n"
     ]
    }
   ],
   "source": [
    "from nltk.tokenize import RegexpTokenizer\n",
    "tokenizer = RegexpTokenizer(r'\\w+')\n",
    "text = \"This is my text. It icludes commas, question marks? and other stuff. Also U.S..\"\n",
    "tokens = tokenizer.tokenize(text)\n",
    "print(tokens)"
   ]
  },
  {
   "cell_type": "code",
   "execution_count": 22,
   "id": "a73b39f9",
   "metadata": {},
   "outputs": [],
   "source": [
    "trial_data['words'] = trial_data['transcript'].apply(tokenizer.tokenize)\n"
   ]
  },
  {
   "cell_type": "code",
   "execution_count": 23,
   "id": "ea39995c",
   "metadata": {},
   "outputs": [
    {
     "data": {
      "text/plain": [
       "<AxesSubplot:>"
      ]
     },
     "execution_count": 23,
     "metadata": {},
     "output_type": "execute_result"
    },
    {
     "data": {
      "image/png": "[encoded data removed]",
      "text/plain": [
       "<Figure size 432x288 with 1 Axes>"
      ]
     },
     "metadata": {
      "needs_background": "light"
     },
     "output_type": "display_data"
    }
   ],
   "source": [
    "trial_data['word_count_nltk'] = trial_data['words'].apply(len)\n",
    "trial_data['word_count_nltk'].hist()"
   ]
  },
  {
   "cell_type": "code",
   "execution_count": 6,
   "id": "589b5055",
   "metadata": {},
   "outputs": [],
   "source": [
    "from nltk.sentiment.vader import SentimentIntensityAnalyzer\n",
    "nltk_sentiment = SentimentIntensityAnalyzer()"
   ]
  },
  {
   "cell_type": "code",
   "execution_count": 8,
   "id": "c34d86de",
   "metadata": {},
   "outputs": [
    {
     "data": {
      "text/plain": [
       "0    {'neg': 0.398, 'neu': 0.602, 'pos': 0.0, 'comp...\n",
       "1    {'neg': 0.012, 'neu': 0.965, 'pos': 0.024, 'co...\n",
       "2    {'neg': 0.268, 'neu': 0.732, 'pos': 0.0, 'comp...\n",
       "3    {'neg': 0.154, 'neu': 0.8, 'pos': 0.046, 'comp...\n",
       "4    {'neg': 0.145, 'neu': 0.749, 'pos': 0.106, 'co...\n",
       "Name: transcript, dtype: object"
      ]
     },
     "execution_count": 8,
     "metadata": {},
     "output_type": "execute_result"
    }
   ],
   "source": [
    "full_sent = trial_data['transcript'].apply(lambda x: nltk_sentiment.polarity_scores(x))\n",
    "full_sent.head()"
   ]
  },
  {
   "cell_type": "code",
   "execution_count": 9,
   "id": "4a07561f",
   "metadata": {},
   "outputs": [
    {
     "name": "stdout",
     "output_type": "stream",
     "text": [
      "0   -0.6808\n",
      "1    0.3612\n",
      "2   -0.2960\n",
      "3   -0.6964\n",
      "4   -0.8829\n",
      "Name: sentiment, dtype: float64\n"
     ]
    }
   ],
   "source": [
    "# store the compound sentiment in a column\n",
    "trial_data['sentiment'] = full_sent.apply(lambda x: x['compound'])\n",
    "print(trial_data['sentiment'].head())"
   ]
  },
  {
   "cell_type": "code",
   "execution_count": 10,
   "id": "22298b4a",
   "metadata": {},
   "outputs": [
    {
     "data": {
      "text/plain": [
       "<AxesSubplot:>"
      ]
     },
     "execution_count": 10,
     "metadata": {},
     "output_type": "execute_result"
    },
    {
     "data": {
      "image/png": "[encoded data removed]",
      "text/plain": [
       "<Figure size 432x288 with 1 Axes>"
      ]
     },
     "metadata": {
      "needs_background": "light"
     },
     "output_type": "display_data"
    }
   ],
   "source": [
    "trial_data['sentiment'].hist()"
   ]
  },
  {
   "cell_type": "code",
   "execution_count": 11,
   "id": "bff4aaa6",
   "metadata": {},
   "outputs": [],
   "source": [
    "pred_vars = ['word_count_nltk', 'sentiment']\n",
    "\n",
    "# define the dependent variable\n",
    "outcome = 'condition'"
   ]
  },
  {
   "cell_type": "markdown",
   "id": "c7c439be",
   "metadata": {},
   "source": [
    "# Train/test split"
   ]
  },
  {
   "cell_type": "code",
   "execution_count": 12,
   "id": "f9fb92c8",
   "metadata": {},
   "outputs": [
    {
     "name": "stdout",
     "output_type": "stream",
     "text": [
      "Rows in train: 96\n",
      "Rows in test: 24\n"
     ]
    }
   ],
   "source": [
    "np.random.seed(516)\n",
    "\n",
    "# create train and test\n",
    "train, test = train_test_split(trial_data, test_size=0.20, stratify=trial_data[outcome])\n",
    "print(\"Rows in train:\", len(train))\n",
    "print(\"Rows in test:\", len(test))"
   ]
  },
  {
   "cell_type": "markdown",
   "id": "fba903eb",
   "metadata": {},
   "source": [
    "# Fit Classifiers"
   ]
  },
  {
   "cell_type": "code",
   "execution_count": 13,
   "id": "db0d3dfc",
   "metadata": {},
   "outputs": [
    {
     "name": "stderr",
     "output_type": "stream",
     "text": [
      "C:\\ProgramData\\Anaconda3\\lib\\site-packages\\sklearn\\neural_network\\_multilayer_perceptron.py:614: ConvergenceWarning: Stochastic Optimizer: Maximum iterations (200) reached and the optimization hasn't converged yet.\n",
      "  warnings.warn(\n"
     ]
    },
    {
     "data": {
      "text/plain": [
       "GridSearchCV(estimator=AdaBoostClassifier(),\n",
       "             param_grid={'n_estimators': [10, 25, 50]}, scoring='roc_auc')"
      ]
     },
     "execution_count": 13,
     "metadata": {},
     "output_type": "execute_result"
    }
   ],
   "source": [
    "#%% random forest\n",
    "from sklearn.ensemble import RandomForestClassifier\n",
    "\n",
    "params = {'criterion': ['gini', 'entropy'], 'max_depth': [5, 10, 15, None]}\n",
    "\n",
    "rf_tuned = GridSearchCV(RandomForestClassifier(), param_grid=params, scoring='roc_auc')\n",
    "rf_tuned.fit(train[pred_vars], train[outcome])\n",
    "\n",
    "\n",
    "#%% Multi-layer Perceptron\n",
    "from sklearn.neural_network import MLPClassifier\n",
    "\n",
    "params = {'hidden_layer_sizes': [(100,), (10,10), (5,5,5)], \n",
    "          'solver': ['adam', 'lbfgs', 'sgd']}\n",
    "\n",
    "nnet_tuned = GridSearchCV(MLPClassifier(), param_grid=params, scoring='roc_auc')\n",
    "nnet_tuned.fit(train[pred_vars], train[outcome])\n",
    "\n",
    "#%% adaboost\n",
    "# https://scikit-learn.org/stable/modules/generated/sklearn.ensemble.AdaBoostClassifier.html#sklearn.ensemble.AdaBoostClassifier\n",
    "\n",
    "from sklearn.ensemble import AdaBoostClassifier\n",
    "\n",
    "params = {'n_estimators': [10, 25, 50]}\n",
    "\n",
    "ada_tuned = GridSearchCV(AdaBoostClassifier(), param_grid=params, scoring='roc_auc')\n",
    "ada_tuned.fit(train[pred_vars], train[outcome])"
   ]
  },
  {
   "cell_type": "markdown",
   "id": "af83026a",
   "metadata": {},
   "source": [
    "# Evaluate with Hold-Out Data"
   ]
  },
  {
   "cell_type": "code",
   "execution_count": 14,
   "id": "05ff0ef8",
   "metadata": {},
   "outputs": [
    {
     "name": "stdout",
     "output_type": "stream",
     "text": [
      "RandomForestClassifier()\n",
      "MLPClassifier()\n",
      "AdaBoostClassifier()\n"
     ]
    },
    {
     "data": {
      "image/png": "[encoded data removed]",
      "text/plain": [
       "<Figure size 1008x864 with 1 Axes>"
      ]
     },
     "metadata": {
      "needs_background": "light"
     },
     "output_type": "display_data"
    }
   ],
   "source": [
    "from sklearn import metrics\n",
    "\n",
    "fitted = [rf_tuned, nnet_tuned, ada_tuned]\n",
    "\n",
    "result_table = pd.DataFrame(columns=['classifier_name', 'fpr','tpr','auc', \n",
    "                                     'log_loss', 'clf_report'])\n",
    "\n",
    "for clf in fitted:\n",
    "    print(clf.estimator)\n",
    "    yproba = clf.predict_proba(test[pred_vars])\n",
    "    yclass = clf.predict(test[pred_vars])\n",
    "    \n",
    "    # auc information\n",
    "    \"\"\"\n",
    "    Note that I specified the positve case here as 'truth'\n",
    "    since that is what we are trying to detect. Otherwise,\n",
    "    this line will present an error, since the classes are not\n",
    "    0 or 1, but categorical labels.\n",
    "    \"\"\"\n",
    "    fpr, tpr, _ = metrics.roc_curve(test[outcome],  yproba[:,1], pos_label='truth')\n",
    "    auc = metrics.roc_auc_score(test[outcome], yproba[:,1])\n",
    "    \n",
    "    # log loss\n",
    "    log_loss = metrics.log_loss(test[outcome], yproba[:,1])\n",
    "    \n",
    "    # add some other stats based on confusion matrix\n",
    "    clf_report = metrics.classification_report(test[outcome], yclass)\n",
    "    \n",
    "    \n",
    "    result_table = result_table.append({'classifier_name':str(clf.estimator),\n",
    "                                        'fpr':fpr, \n",
    "                                        'tpr':tpr, \n",
    "                                        'auc':auc,\n",
    "                                        'log_loss': log_loss,\n",
    "                                        'clf_report': clf_report}, ignore_index=True)\n",
    "    \n",
    "\n",
    "\n",
    "result_table.set_index('classifier_name', inplace=True)\n",
    "# print(result_table)\n",
    "\n",
    "\n",
    "\n",
    "fig = plt.figure(figsize=(14,12))\n",
    "\n",
    "for i in result_table.index:\n",
    "    plt.plot(result_table.loc[i]['fpr'], \n",
    "             result_table.loc[i]['tpr'], \n",
    "             label=\"{}, AUC={:.3f}\".format(i, result_table.loc[i]['auc']))\n",
    "    \n",
    "plt.plot([0,1], [0,1], color='orange', linestyle='--')\n",
    "\n",
    "plt.xticks(np.arange(0.0, 1.1, step=0.1))\n",
    "plt.xlabel(\"False Positive Rate\", fontsize=15)\n",
    "\n",
    "plt.yticks(np.arange(0.0, 1.1, step=0.1))\n",
    "plt.ylabel(\"True Positive Rate\", fontsize=15)\n",
    "\n",
    "plt.title('ROC Curve Analysis', fontweight='bold', fontsize=15)\n",
    "plt.legend(prop={'size':13}, loc='lower right')\n",
    "\n",
    "plt.show()"
   ]
  },
  {
   "cell_type": "markdown",
   "id": "5654d5fb",
   "metadata": {},
   "source": [
    "# Confusion Matrix Stats"
   ]
  },
  {
   "cell_type": "code",
   "execution_count": 15,
   "id": "1117eed0",
   "metadata": {},
   "outputs": [
    {
     "name": "stdout",
     "output_type": "stream",
     "text": [
      "\n",
      "---- statistics for RandomForestClassifier() ----\n",
      "\n",
      "              precision    recall  f1-score   support\n",
      "\n",
      "         lie       0.64      0.58      0.61        12\n",
      "       truth       0.62      0.67      0.64        12\n",
      "\n",
      "    accuracy                           0.62        24\n",
      "   macro avg       0.63      0.62      0.62        24\n",
      "weighted avg       0.63      0.62      0.62        24\n",
      "\n",
      "Model log loss: 0.6491924167693696\n",
      "\n",
      "---- statistics for MLPClassifier() ----\n",
      "\n",
      "              precision    recall  f1-score   support\n",
      "\n",
      "         lie       1.00      0.42      0.59        12\n",
      "       truth       0.63      1.00      0.77        12\n",
      "\n",
      "    accuracy                           0.71        24\n",
      "   macro avg       0.82      0.71      0.68        24\n",
      "weighted avg       0.82      0.71      0.68        24\n",
      "\n",
      "Model log loss: 0.6705992425840099\n",
      "\n",
      "---- statistics for AdaBoostClassifier() ----\n",
      "\n",
      "              precision    recall  f1-score   support\n",
      "\n",
      "         lie       0.69      0.75      0.72        12\n",
      "       truth       0.73      0.67      0.70        12\n",
      "\n",
      "    accuracy                           0.71        24\n",
      "   macro avg       0.71      0.71      0.71        24\n",
      "weighted avg       0.71      0.71      0.71        24\n",
      "\n",
      "Model log loss: 0.6822956022938337\n"
     ]
    }
   ],
   "source": [
    "for i in result_table.index:\n",
    "    print('\\n---- statistics for', i, \"----\\n\")\n",
    "    print(result_table.loc[i, 'clf_report'])\n",
    "    print(\"Model log loss:\", result_table.loc[i, 'log_loss'])"
   ]
  },
  {
   "cell_type": "markdown",
   "id": "84b0e263",
   "metadata": {},
   "source": [
    "# Tasks\n",
    "\n",
    "1. Name at least three limitations of this data.\n",
    "    \n",
    "2. From the results above, which model would you say performed best?\n"
   ]
  },
  {
   "cell_type": "markdown",
   "id": "73e71546",
   "metadata": {},
   "source": [
    "# Extra Tasks\n",
    "\n",
    "With text analysis, the variables that you can construct are only limited by your imagination. Try computing another measure and see if that improves the prediction results. For example, you might try to count the number of times a transcription contains the use of \"I\"."
   ]
  },
  {
   "cell_type": "markdown",
   "id": "d3ffeaf8",
   "metadata": {},
   "source": [
    "# Task 1 \n",
    "\n",
    "Name at least three limitations of this data."
   ]
  },
  {
   "cell_type": "markdown",
   "id": "7b42407c",
   "metadata": {},
   "source": [
    "1. First limitation is the size of the data set. We only had 96 rows to train the data and 24 to test on. This is a very small sample size to trust results from.\n",
    "\n",
    "2. The second limitation of setiment analysis is computers can not take into consideration context. Something such as sarcasm could throw the analysis off.\n",
    "\n",
    "3. The third limitation is it could be possible that a statement could contain a lie and a truth. I am unaware of how this data set handles this possible."
   ]
  },
  {
   "cell_type": "markdown",
   "id": "6981cf06",
   "metadata": {},
   "source": [
    "# Task 2\n",
    "\n",
    "From the results above, which model would you say performed best?"
   ]
  },
  {
   "cell_type": "markdown",
   "id": "31c4f2cd",
   "metadata": {},
   "source": [
    "The AdaBoostClassifier Model performed the best. AdaBoostClassifier had the best performing Area under the curve and log loss. While it acheived the same accuracy as the MLP Classifier. The only scenario where I would reconmend MLP over Ada Boost is if getting Truth right took priority over everything else, this is due to the recall of 1.00."
   ]
  },
  {
   "cell_type": "markdown",
   "id": "dcf08145",
   "metadata": {},
   "source": [
    "# Extra Tasks\n",
    "\n",
    "With text analysis, the variables that you can construct are only limited by your imagination. Try computing another measure and see if that improves the prediction results. For example, you might try to count the number of times a transcription contains the use of \"I\"."
   ]
  },
  {
   "cell_type": "code",
   "execution_count": 31,
   "id": "f8777455",
   "metadata": {},
   "outputs": [],
   "source": [
    "trial_data = pd.read_csv('data/trial_data.csv')"
   ]
  },
  {
   "cell_type": "code",
   "execution_count": 32,
   "id": "352f969c",
   "metadata": {},
   "outputs": [
    {
     "name": "stdout",
     "output_type": "stream",
     "text": [
      "['This', 'is', 'my', 'text', 'It', 'icludes', 'commas', 'question', 'marks', 'and', 'other', 'stuff', 'Also', 'U', 'S']\n"
     ]
    }
   ],
   "source": [
    "from nltk.tokenize import RegexpTokenizer\n",
    "tokenizer = RegexpTokenizer(r'\\w+')\n",
    "text = \"This is my text. It icludes commas, question marks? and other stuff. Also U.S..\"\n",
    "tokens = tokenizer.tokenize(text)\n",
    "print(tokens)"
   ]
  },
  {
   "cell_type": "code",
   "execution_count": 33,
   "id": "d20d238c",
   "metadata": {},
   "outputs": [],
   "source": [
    "trial_data['words'] = trial_data['transcript'].apply(tokenizer.tokenize)"
   ]
  },
  {
   "cell_type": "code",
   "execution_count": 34,
   "id": "3d241128",
   "metadata": {},
   "outputs": [
    {
     "data": {
      "text/plain": [
       "<AxesSubplot:>"
      ]
     },
     "execution_count": 34,
     "metadata": {},
     "output_type": "execute_result"
    },
    {
     "data": {
      "image/png": "[encoded data removed]",
      "text/plain": [
       "<Figure size 432x288 with 1 Axes>"
      ]
     },
     "metadata": {
      "needs_background": "light"
     },
     "output_type": "display_data"
    }
   ],
   "source": [
    "trial_data['word_count_nltk'] = trial_data['words'].apply(len)\n",
    "trial_data['word_count_nltk'].hist()"
   ]
  },
  {
   "cell_type": "code",
   "execution_count": 35,
   "id": "e540150f",
   "metadata": {},
   "outputs": [
    {
     "data": {
      "text/plain": [
       "0       3\n",
       "1       8\n",
       "2       1\n",
       "3       2\n",
       "4      11\n",
       "       ..\n",
       "115     4\n",
       "116     9\n",
       "117     6\n",
       "118     2\n",
       "119     2\n",
       "Name: I_count, Length: 120, dtype: int64"
      ]
     },
     "execution_count": 35,
     "metadata": {},
     "output_type": "execute_result"
    }
   ],
   "source": [
    "trial_data['I_count'] = trial_data['transcript'].str.count('I ')\n",
    "trial_data['I_count']"
   ]
  },
  {
   "cell_type": "code",
   "execution_count": 36,
   "id": "e677831a",
   "metadata": {},
   "outputs": [],
   "source": [
    "nltk_sentiment = SentimentIntensityAnalyzer()"
   ]
  },
  {
   "cell_type": "code",
   "execution_count": 37,
   "id": "92205b25",
   "metadata": {},
   "outputs": [
    {
     "data": {
      "text/plain": [
       "0    {'neg': 0.398, 'neu': 0.602, 'pos': 0.0, 'comp...\n",
       "1    {'neg': 0.012, 'neu': 0.965, 'pos': 0.024, 'co...\n",
       "2    {'neg': 0.268, 'neu': 0.732, 'pos': 0.0, 'comp...\n",
       "3    {'neg': 0.154, 'neu': 0.8, 'pos': 0.046, 'comp...\n",
       "4    {'neg': 0.145, 'neu': 0.749, 'pos': 0.106, 'co...\n",
       "Name: transcript, dtype: object"
      ]
     },
     "execution_count": 37,
     "metadata": {},
     "output_type": "execute_result"
    }
   ],
   "source": [
    "full_sent = trial_data['transcript'].apply(lambda x: nltk_sentiment.polarity_scores(x))\n",
    "full_sent.head()"
   ]
  },
  {
   "cell_type": "code",
   "execution_count": 39,
   "id": "c66f3991",
   "metadata": {},
   "outputs": [
    {
     "name": "stdout",
     "output_type": "stream",
     "text": [
      "0   -0.6808\n",
      "1    0.3612\n",
      "2   -0.2960\n",
      "3   -0.6964\n",
      "4   -0.8829\n",
      "Name: sentiment, dtype: float64\n"
     ]
    }
   ],
   "source": [
    "# store the compound sentiment in a column\n",
    "trial_data['sentiment'] = full_sent.apply(lambda x: x['compound'])\n",
    "print(trial_data['sentiment'].head())"
   ]
  },
  {
   "cell_type": "code",
   "execution_count": 40,
   "id": "13c3cc21",
   "metadata": {},
   "outputs": [
    {
     "data": {
      "text/plain": [
       "<AxesSubplot:>"
      ]
     },
     "execution_count": 40,
     "metadata": {},
     "output_type": "execute_result"
    },
    {
     "data": {
      "image/png": "[encoded data removed]",
      "text/plain": [
       "<Figure size 432x288 with 1 Axes>"
      ]
     },
     "metadata": {
      "needs_background": "light"
     },
     "output_type": "display_data"
    }
   ],
   "source": [
    "trial_data['sentiment'].hist()"
   ]
  },
  {
   "cell_type": "code",
   "execution_count": 41,
   "id": "57ed267d",
   "metadata": {},
   "outputs": [],
   "source": [
    "pred_vars = ['word_count_nltk', 'sentiment', 'I_count']\n",
    "\n",
    "# define the dependent variable\n",
    "outcome = 'condition'"
   ]
  },
  {
   "cell_type": "code",
   "execution_count": 42,
   "id": "0fcd04e9",
   "metadata": {},
   "outputs": [
    {
     "name": "stdout",
     "output_type": "stream",
     "text": [
      "Rows in train: 96\n",
      "Rows in test: 24\n"
     ]
    }
   ],
   "source": [
    "np.random.seed(516)\n",
    "\n",
    "# create train and test\n",
    "train, test = train_test_split(trial_data, test_size=0.20, stratify=trial_data[outcome])\n",
    "print(\"Rows in train:\", len(train))\n",
    "print(\"Rows in test:\", len(test))"
   ]
  },
  {
   "cell_type": "code",
   "execution_count": 43,
   "id": "8f757d52",
   "metadata": {},
   "outputs": [
    {
     "name": "stderr",
     "output_type": "stream",
     "text": [
      "C:\\ProgramData\\Anaconda3\\lib\\site-packages\\sklearn\\neural_network\\_multilayer_perceptron.py:614: ConvergenceWarning: Stochastic Optimizer: Maximum iterations (200) reached and the optimization hasn't converged yet.\n",
      "  warnings.warn(\n",
      "C:\\ProgramData\\Anaconda3\\lib\\site-packages\\sklearn\\neural_network\\_multilayer_perceptron.py:500: ConvergenceWarning: lbfgs failed to converge (status=1):\n",
      "STOP: TOTAL NO. of ITERATIONS REACHED LIMIT.\n",
      "\n",
      "Increase the number of iterations (max_iter) or scale the data as shown in:\n",
      "    https://scikit-learn.org/stable/modules/preprocessing.html\n",
      "  self.n_iter_ = _check_optimize_result(\"lbfgs\", opt_res, self.max_iter)\n",
      "C:\\ProgramData\\Anaconda3\\lib\\site-packages\\sklearn\\neural_network\\_multilayer_perceptron.py:614: ConvergenceWarning: Stochastic Optimizer: Maximum iterations (200) reached and the optimization hasn't converged yet.\n",
      "  warnings.warn(\n",
      "C:\\ProgramData\\Anaconda3\\lib\\site-packages\\sklearn\\neural_network\\_multilayer_perceptron.py:614: ConvergenceWarning: Stochastic Optimizer: Maximum iterations (200) reached and the optimization hasn't converged yet.\n",
      "  warnings.warn(\n"
     ]
    },
    {
     "data": {
      "text/plain": [
       "GridSearchCV(estimator=AdaBoostClassifier(),\n",
       "             param_grid={'n_estimators': [10, 25, 50]}, scoring='roc_auc')"
      ]
     },
     "execution_count": 43,
     "metadata": {},
     "output_type": "execute_result"
    }
   ],
   "source": [
    "#%% random forest\n",
    "params = {'criterion': ['gini', 'entropy'], 'max_depth': [5, 10, 15, None]}\n",
    "\n",
    "rf_tuned = GridSearchCV(RandomForestClassifier(), param_grid=params, scoring='roc_auc')\n",
    "rf_tuned.fit(train[pred_vars], train[outcome])\n",
    "\n",
    "\n",
    "#%% Multi-layer Perceptron\n",
    "params = {'hidden_layer_sizes': [(100,), (10,10), (5,5,5)], \n",
    "          'solver': ['adam', 'lbfgs', 'sgd']}\n",
    "\n",
    "nnet_tuned = GridSearchCV(MLPClassifier(), param_grid=params, scoring='roc_auc')\n",
    "nnet_tuned.fit(train[pred_vars], train[outcome])\n",
    "\n",
    "#%% adaboost\n",
    "# https://scikit-learn.org/stable/modules/generated/sklearn.ensemble.AdaBoostClassifier.html#sklearn.ensemble.AdaBoostClassifier\n",
    "\n",
    "params = {'n_estimators': [10, 25, 50]}\n",
    "\n",
    "ada_tuned = GridSearchCV(AdaBoostClassifier(), param_grid=params, scoring='roc_auc')\n",
    "ada_tuned.fit(train[pred_vars], train[outcome])"
   ]
  },
  {
   "cell_type": "code",
   "execution_count": 44,
   "id": "77492ade",
   "metadata": {},
   "outputs": [
    {
     "name": "stdout",
     "output_type": "stream",
     "text": [
      "RandomForestClassifier()\n",
      "MLPClassifier()\n",
      "AdaBoostClassifier()\n"
     ]
    },
    {
     "data": {
      "image/png": "[encoded data removed]",
      "text/plain": [
       "<Figure size 1008x864 with 1 Axes>"
      ]
     },
     "metadata": {
      "needs_background": "light"
     },
     "output_type": "display_data"
    }
   ],
   "source": [
    "fitted = [rf_tuned, nnet_tuned, ada_tuned]\n",
    "\n",
    "result_table = pd.DataFrame(columns=['classifier_name', 'fpr','tpr','auc', \n",
    "                                     'log_loss', 'clf_report'])\n",
    "\n",
    "for clf in fitted:\n",
    "    print(clf.estimator)\n",
    "    yproba = clf.predict_proba(test[pred_vars])\n",
    "    yclass = clf.predict(test[pred_vars])\n",
    "    \n",
    "    # auc information\n",
    "    \"\"\"\n",
    "    Note that I specified the positve case here as 'truth'\n",
    "    since that is what we are trying to detect. Otherwise,\n",
    "    this line will present an error, since the classes are not\n",
    "    0 or 1, but categorical labels.\n",
    "    \"\"\"\n",
    "    fpr, tpr, _ = metrics.roc_curve(test[outcome],  yproba[:,1], pos_label='truth')\n",
    "    auc = metrics.roc_auc_score(test[outcome], yproba[:,1])\n",
    "    \n",
    "    # log loss\n",
    "    log_loss = metrics.log_loss(test[outcome], yproba[:,1])\n",
    "    \n",
    "    # add some other stats based on confusion matrix\n",
    "    clf_report = metrics.classification_report(test[outcome], yclass)\n",
    "    \n",
    "    \n",
    "    result_table = result_table.append({'classifier_name':str(clf.estimator),\n",
    "                                        'fpr':fpr, \n",
    "                                        'tpr':tpr, \n",
    "                                        'auc':auc,\n",
    "                                        'log_loss': log_loss,\n",
    "                                        'clf_report': clf_report}, ignore_index=True)\n",
    "    \n",
    "\n",
    "\n",
    "result_table.set_index('classifier_name', inplace=True)\n",
    "# print(result_table)\n",
    "\n",
    "\n",
    "\n",
    "fig = plt.figure(figsize=(14,12))\n",
    "\n",
    "for i in result_table.index:\n",
    "    plt.plot(result_table.loc[i]['fpr'], \n",
    "             result_table.loc[i]['tpr'], \n",
    "             label=\"{}, AUC={:.3f}\".format(i, result_table.loc[i]['auc']))\n",
    "    \n",
    "plt.plot([0,1], [0,1], color='orange', linestyle='--')\n",
    "\n",
    "plt.xticks(np.arange(0.0, 1.1, step=0.1))\n",
    "plt.xlabel(\"False Positive Rate\", fontsize=15)\n",
    "\n",
    "plt.yticks(np.arange(0.0, 1.1, step=0.1))\n",
    "plt.ylabel(\"True Positive Rate\", fontsize=15)\n",
    "\n",
    "plt.title('ROC Curve Analysis', fontweight='bold', fontsize=15)\n",
    "plt.legend(prop={'size':13}, loc='lower right')\n",
    "\n",
    "plt.show()"
   ]
  },
  {
   "cell_type": "code",
   "execution_count": 45,
   "id": "b04f8db9",
   "metadata": {},
   "outputs": [
    {
     "name": "stdout",
     "output_type": "stream",
     "text": [
      "\n",
      "---- statistics for RandomForestClassifier() ----\n",
      "\n",
      "              precision    recall  f1-score   support\n",
      "\n",
      "         lie       0.64      0.58      0.61        12\n",
      "       truth       0.62      0.67      0.64        12\n",
      "\n",
      "    accuracy                           0.62        24\n",
      "   macro avg       0.63      0.62      0.62        24\n",
      "weighted avg       0.63      0.62      0.62        24\n",
      "\n",
      "Model log loss: 0.5786251311993914\n",
      "\n",
      "---- statistics for MLPClassifier() ----\n",
      "\n",
      "              precision    recall  f1-score   support\n",
      "\n",
      "         lie       0.62      0.83      0.71        12\n",
      "       truth       0.75      0.50      0.60        12\n",
      "\n",
      "    accuracy                           0.67        24\n",
      "   macro avg       0.69      0.67      0.66        24\n",
      "weighted avg       0.69      0.67      0.66        24\n",
      "\n",
      "Model log loss: 0.6515220593365888\n",
      "\n",
      "---- statistics for AdaBoostClassifier() ----\n",
      "\n",
      "              precision    recall  f1-score   support\n",
      "\n",
      "         lie       0.45      0.42      0.43        12\n",
      "       truth       0.46      0.50      0.48        12\n",
      "\n",
      "    accuracy                           0.46        24\n",
      "   macro avg       0.46      0.46      0.46        24\n",
      "weighted avg       0.46      0.46      0.46        24\n",
      "\n",
      "Model log loss: 0.6921308828500048\n"
     ]
    }
   ],
   "source": [
    "for i in result_table.index:\n",
    "    print('\\n---- statistics for', i, \"----\\n\")\n",
    "    print(result_table.loc[i, 'clf_report'])\n",
    "    print(\"Model log loss:\", result_table.loc[i, 'log_loss'])"
   ]
  },
  {
   "cell_type": "markdown",
   "id": "c775b602",
   "metadata": {},
   "source": [
    "Adding the number of I's said in each transcipt made the models worse except for the the Random Forest Model."
   ]
  },
  {
   "cell_type": "code",
   "execution_count": null,
   "id": "a0e795d0",
   "metadata": {},
   "outputs": [],
   "source": []
  }
 ],
 "metadata": {
  "kernelspec": {
   "display_name": "Python 3",
   "language": "python",
   "name": "python3"
  },
  "language_info": {
   "codemirror_mode": {
    "name": "ipython",
    "version": 3
   },
   "file_extension": ".py",
   "mimetype": "text/x-python",
   "name": "python",
   "nbconvert_exporter": "python",
   "pygments_lexer": "ipython3",
   "version": "3.8.8"
  }
 },
 "nbformat": 4,
 "nbformat_minor": 5
}
