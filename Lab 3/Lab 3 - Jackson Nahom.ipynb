{
 "cells": [
  {
   "cell_type": "code",
   "execution_count": 1,
   "id": "dcaff456",
   "metadata": {},
   "outputs": [],
   "source": [
    "import pandas as pd\n",
    "import numpy as np\n",
    "import matplotlib.pyplot as plt\n",
    "from sklearn.model_selection import train_test_split \n",
    "from sklearn import tree\n",
    "from sklearn import metrics"
   ]
  },
  {
   "cell_type": "code",
   "execution_count": 2,
   "id": "0e86587e",
   "metadata": {},
   "outputs": [],
   "source": [
    "# load txt file\n",
    "names = pd.read_csv('data/kddcup.names.txt', header=None, delimiter=':',skiprows=1)\n",
    "\n",
    "# make column 0 into a list\n",
    "name_list = names[0].tolist()\n",
    "\n",
    "# add the last column with type\n",
    "name_list.append('type')"
   ]
  },
  {
   "cell_type": "code",
   "execution_count": 3,
   "id": "58a03d8a",
   "metadata": {},
   "outputs": [],
   "source": [
    "# use the column names\n",
    "netattacks = pd.read_csv('data/kddcup.data_10_percent.gz', names=name_list, header=None, index_col=None)\n",
    "\n",
    "# netattacks.head()\n",
    "# netattacks.describe(include='all')"
   ]
  },
  {
   "cell_type": "code",
   "execution_count": 4,
   "id": "931cd007",
   "metadata": {},
   "outputs": [],
   "source": [
    "netattacks['label'] = np.where(netattacks['type'] == 'normal.', 'good', 'bad')\n",
    "# netattacks['label'].value_counts()"
   ]
  },
  {
   "cell_type": "code",
   "execution_count": 5,
   "id": "932d3732",
   "metadata": {},
   "outputs": [
    {
     "name": "stdout",
     "output_type": "stream",
     "text": [
      "Rows in train: 370515\n",
      "Rows in test: 123506\n"
     ]
    }
   ],
   "source": [
    "train, test = train_test_split(netattacks, test_size=0.25)\n",
    "print(\"Rows in train:\", len(train))\n",
    "print(\"Rows in test:\", len(test))"
   ]
  },
  {
   "cell_type": "code",
   "execution_count": 6,
   "id": "c2b2e838",
   "metadata": {},
   "outputs": [
    {
     "data": {
      "text/plain": [
       "DecisionTreeClassifier()"
      ]
     },
     "execution_count": 6,
     "metadata": {},
     "output_type": "execute_result"
    }
   ],
   "source": [
    "# define new tree\n",
    "dt = tree.DecisionTreeClassifier()\n",
    "# train the model using a list of column names\n",
    "pred_vars = ['duration', 'src_bytes', 'dst_bytes']\n",
    "# The value we are trying to predict is 'label'\n",
    "dt.fit(train.loc[:, pred_vars], train['label'])\n",
    "# tree.plot_tree(dt)"
   ]
  },
  {
   "cell_type": "code",
   "execution_count": 7,
   "id": "1489530f",
   "metadata": {},
   "outputs": [
    {
     "name": "stdout",
     "output_type": "stream",
     "text": [
      "['bad' 'bad' 'bad' 'bad' 'bad']\n"
     ]
    }
   ],
   "source": [
    "predicted = dt.predict(test.loc[:, pred_vars])\n",
    "print(predicted[:5]) # show first five predictions"
   ]
  },
  {
   "cell_type": "code",
   "execution_count": 8,
   "id": "3daeeced",
   "metadata": {},
   "outputs": [
    {
     "name": "stdout",
     "output_type": "stream",
     "text": [
      "Labels in the test data: Counter({'bad': 99028, 'good': 24478})\n",
      "Labels in the predictions: Counter({'bad': 100403, 'good': 23103})\n"
     ]
    }
   ],
   "source": [
    "from collections import Counter\n",
    "# count test data\n",
    "test_labels_stats = Counter(test['label'])\n",
    "print(\"Labels in the test data:\", test_labels_stats)\n",
    "\n",
    "# count predicted\n",
    "predicted_labels_stats = Counter(predicted)\n",
    "print(\"Labels in the predictions:\", predicted_labels_stats)"
   ]
  },
  {
   "cell_type": "code",
   "execution_count": 9,
   "id": "07434e91",
   "metadata": {},
   "outputs": [
    {
     "data": {
      "text/plain": [
       "array([[23092,  1386],\n",
       "       [   11, 99017]], dtype=int64)"
      ]
     },
     "execution_count": 9,
     "metadata": {},
     "output_type": "execute_result"
    }
   ],
   "source": [
    "metrics.confusion_matrix(y_true=test['label'], y_pred=predicted, labels=['good', 'bad'])"
   ]
  },
  {
   "cell_type": "code",
   "execution_count": 10,
   "id": "6efd3ec5",
   "metadata": {},
   "outputs": [
    {
     "data": {
      "image/png": "[encoded data removed]",
      "text/plain": [
       "<Figure size 432x288 with 2 Axes>"
      ]
     },
     "metadata": {
      "needs_background": "light"
     },
     "output_type": "display_data"
    }
   ],
   "source": [
    "metrics.plot_confusion_matrix(dt, test.loc[:, pred_vars], test['label'], labels=['good', 'bad'])\n",
    "plt.show()"
   ]
  },
  {
   "cell_type": "code",
   "execution_count": 11,
   "id": "30ccd617",
   "metadata": {},
   "outputs": [
    {
     "name": "stdout",
     "output_type": "stream",
     "text": [
      "Baseline accuracy is: 0.8018071996502194\n",
      "Observed accuracy is: 0.9886888086408757\n"
     ]
    }
   ],
   "source": [
    "# compute baseline accuracy (predict all bad)\n",
    "baseline = test_labels_stats['bad'] / (test_labels_stats['good'] + test_labels_stats['bad'])\n",
    "print(\"Baseline accuracy is:\", baseline)\n",
    "\n",
    "# compute the observed accuracy\n",
    "acc = metrics.accuracy_score(test['label'], predicted)\n",
    "print(\"Observed accuracy is:\", acc)"
   ]
  },
  {
   "cell_type": "code",
   "execution_count": 12,
   "id": "1c9ad8a1",
   "metadata": {},
   "outputs": [
    {
     "name": "stdout",
     "output_type": "stream",
     "text": [
      "              precision    recall  f1-score   support\n",
      "\n",
      "         bad     0.9862    0.9999    0.9930     99028\n",
      "        good     0.9995    0.9434    0.9706     24478\n",
      "\n",
      "    accuracy                         0.9887    123506\n",
      "   macro avg     0.9929    0.9716    0.9818    123506\n",
      "weighted avg     0.9888    0.9887    0.9886    123506\n",
      "\n"
     ]
    }
   ],
   "source": [
    "result = metrics.classification_report(test['label'], predicted, digits=4)\n",
    "print(result)"
   ]
  },
  {
   "cell_type": "markdown",
   "id": "c00dae0a",
   "metadata": {},
   "source": [
    "# Exercises\n",
    "\n",
    "    Try with different predictor variables. Does the model improve?\n",
    "    Try with different parameters for the tree. The list of adjustable parameters is here\n",
    "    (Optional): Try running the models with the full dataset."
   ]
  },
  {
   "cell_type": "markdown",
   "id": "0eb27fba",
   "metadata": {},
   "source": [
    "# Task 1\n",
    "3 models a base, a improvement one, and changing parameters."
   ]
  },
  {
   "cell_type": "code",
   "execution_count": 13,
   "id": "8f73b7ae",
   "metadata": {},
   "outputs": [
    {
     "data": {
      "text/plain": [
       "DecisionTreeClassifier()"
      ]
     },
     "execution_count": 13,
     "metadata": {},
     "output_type": "execute_result"
    }
   ],
   "source": [
    "# define new tree\n",
    "dt_2 = tree.DecisionTreeClassifier()\n",
    "# train the model using a list of column names\n",
    "pred_vars_2 = ['count', 'num_root']\n",
    "# The value we are trying to predict is 'label'\n",
    "dt_2.fit(train.loc[:, pred_vars_2], train['label'])\n",
    "# tree.plot_tree(dt)"
   ]
  },
  {
   "cell_type": "code",
   "execution_count": 14,
   "id": "ac13ebde",
   "metadata": {},
   "outputs": [
    {
     "name": "stdout",
     "output_type": "stream",
     "text": [
      "Rows in train: 370515\n",
      "Rows in test: 123506\n"
     ]
    }
   ],
   "source": [
    "train, test = train_test_split(netattacks, test_size=0.25)\n",
    "print(\"Rows in train:\", len(train))\n",
    "print(\"Rows in test:\", len(test))"
   ]
  },
  {
   "cell_type": "code",
   "execution_count": 15,
   "id": "3d6316bb",
   "metadata": {},
   "outputs": [
    {
     "name": "stdout",
     "output_type": "stream",
     "text": [
      "['bad' 'bad' 'bad' 'good' 'bad']\n"
     ]
    }
   ],
   "source": [
    "predicted_2 = dt_2.predict(test.loc[:, pred_vars_2])\n",
    "print(predicted_2[:5]) # show first five predictions"
   ]
  },
  {
   "cell_type": "code",
   "execution_count": 16,
   "id": "7703c79c",
   "metadata": {},
   "outputs": [
    {
     "name": "stdout",
     "output_type": "stream",
     "text": [
      "Labels in the test data: Counter({'bad': 99223, 'good': 24283})\n",
      "Labels in the predictions: Counter({'bad': 97446, 'good': 26060})\n"
     ]
    }
   ],
   "source": [
    "from collections import Counter\n",
    "# count test data\n",
    "test_labels_stats_2 = Counter(test['label'])\n",
    "print(\"Labels in the test data:\", test_labels_stats_2)\n",
    "\n",
    "# count predicted\n",
    "predicted_labels_stats_2 = Counter(predicted_2)\n",
    "print(\"Labels in the predictions:\", predicted_labels_stats_2)"
   ]
  },
  {
   "cell_type": "code",
   "execution_count": 17,
   "id": "c5cb7e5c",
   "metadata": {},
   "outputs": [
    {
     "data": {
      "text/plain": [
       "array([[23954,   329],\n",
       "       [ 2106, 97117]], dtype=int64)"
      ]
     },
     "execution_count": 17,
     "metadata": {},
     "output_type": "execute_result"
    }
   ],
   "source": [
    "metrics.confusion_matrix(y_true=test['label'], y_pred=predicted_2, labels=['good', 'bad'])"
   ]
  },
  {
   "cell_type": "code",
   "execution_count": 18,
   "id": "707cbcf4",
   "metadata": {},
   "outputs": [
    {
     "data": {
      "image/png": "[encoded data removed]",
      "text/plain": [
       "<Figure size 432x288 with 2 Axes>"
      ]
     },
     "metadata": {
      "needs_background": "light"
     },
     "output_type": "display_data"
    }
   ],
   "source": [
    "metrics.plot_confusion_matrix(dt_2, test.loc[:, pred_vars_2], test['label'], labels=['good', 'bad'])\n",
    "plt.show()"
   ]
  },
  {
   "cell_type": "code",
   "execution_count": 19,
   "id": "95df9467",
   "metadata": {},
   "outputs": [
    {
     "name": "stdout",
     "output_type": "stream",
     "text": [
      "Baseline accuracy is: 0.8033860703123735\n",
      "Observed accuracy is: 0.9802843586546403\n"
     ]
    }
   ],
   "source": [
    "# compute baseline accuracy (predict all bad)\n",
    "baseline = test_labels_stats_2['bad'] / (test_labels_stats_2['good'] + test_labels_stats_2['bad'])\n",
    "print(\"Baseline accuracy is:\", baseline)\n",
    "\n",
    "# compute the observed accuracy\n",
    "acc = metrics.accuracy_score(test['label'], predicted_2)\n",
    "print(\"Observed accuracy is:\", acc)"
   ]
  },
  {
   "cell_type": "code",
   "execution_count": 20,
   "id": "8b464839",
   "metadata": {},
   "outputs": [
    {
     "name": "stdout",
     "output_type": "stream",
     "text": [
      "              precision    recall  f1-score   support\n",
      "\n",
      "         bad     0.9966    0.9788    0.9876     99223\n",
      "        good     0.9192    0.9865    0.9516     24283\n",
      "\n",
      "    accuracy                         0.9803    123506\n",
      "   macro avg     0.9579    0.9826    0.9696    123506\n",
      "weighted avg     0.9814    0.9803    0.9805    123506\n",
      "\n"
     ]
    }
   ],
   "source": [
    "result = metrics.classification_report(test['label'], predicted_2, digits=4)\n",
    "print(result)"
   ]
  },
  {
   "cell_type": "markdown",
   "id": "2696f627",
   "metadata": {},
   "source": [
    "### Improvement"
   ]
  },
  {
   "cell_type": "code",
   "execution_count": 22,
   "id": "a3c4ecf5",
   "metadata": {},
   "outputs": [
    {
     "name": "stdout",
     "output_type": "stream",
     "text": [
      "['count', 'num_root', 'wrong_fragment']  Greater than first run:  0.9811588100982949\n",
      "['count', 'num_root', 'hot']  Greater than first run:  0.9850938415947403\n",
      "['count', 'num_root', 'num_compromised']  Greater than first run:  0.9838226482923906\n",
      "['count', 'num_root', 'serror_rate']  Greater than first run:  0.9838793257007756\n",
      "['count', 'num_root', 'rerror_rate']  Greater than first run:  0.9808835198289961\n",
      "['count', 'num_root', 'same_srv_rate']  Greater than first run:  0.9841222288795686\n",
      "['count', 'num_root', 'diff_srv_rate']  Greater than first run:  0.9840088740627986\n",
      "['count', 'num_root', 'srv_count']  Greater than first run:  0.9853367447735333\n",
      "['count', 'num_root', 'srv_serror_rate']  Greater than first run:  0.9846566158729131\n",
      "['count', 'num_root', 'srv_rerror_rate']  Greater than first run:  0.9808187456479848\n",
      "['count', 'num_root', 'srv_diff_host_rate']  Greater than first run:  0.9809644875552604\n"
     ]
    }
   ],
   "source": [
    "#for loop to add one to see if I can beat 98.9\n",
    "var_list = ['wrong_fragment','urgent','hot', 'num_failed_logins', 'num_compromised', \n",
    "            'num_file_creations', 'num_shells', 'num_access_files', 'num_outbound_cmds',\n",
    "           'serror_rate', 'rerror_rate', 'same_srv_rate', 'diff_srv_rate', 'srv_count',\n",
    "           'srv_serror_rate', 'srv_rerror_rate', 'srv_diff_host_rate']\n",
    "\n",
    "from collections import Counter\n",
    "\n",
    "for i in var_list:\n",
    "    dt_loop = tree.DecisionTreeClassifier()\n",
    "    pred_vars_loop = ['count', 'num_root', i]\n",
    "    dt_loop.fit(train.loc[:, pred_vars_loop], train['label'])\n",
    "    train, test = train_test_split(netattacks, test_size=0.25)\n",
    "    predicted_loop = dt_loop.predict(test.loc[:, pred_vars_loop])\n",
    "    test_labels_stats_loop = Counter(test['label'])\n",
    "    predicted_labels_stats_loop = Counter(predicted_loop)\n",
    "    acc = metrics.accuracy_score(test['label'], predicted_loop)\n",
    "    if acc > .9803:\n",
    "        print(pred_vars_loop, ' Greater than first run: ', acc)\n",
    "        \n",
    "    if acc > .989:\n",
    "        print(pred_vars_loop, ' Greater than professor run!')\n",
    "    "
   ]
  },
  {
   "cell_type": "code",
   "execution_count": 23,
   "id": "5f86376e",
   "metadata": {},
   "outputs": [
    {
     "name": "stdout",
     "output_type": "stream",
     "text": [
      "['count', 'num_root', 'srv_count', 'wrong_fragment']  Greater than first run:  0.9871504218418539\n",
      "['count', 'num_root', 'srv_count', 'urgent']  Greater than first run:  0.9856363253607112\n",
      "['count', 'num_root', 'srv_count', 'hot']  Greater than first run:  0.9905591631175813\n",
      "['count', 'num_root', 'srv_count', 'hot']  Greater than professor run!\n",
      "['count', 'num_root', 'srv_count', 'num_failed_logins']  Greater than first run:  0.985425809272424\n",
      "['count', 'num_root', 'srv_count', 'num_compromised']  Greater than first run:  0.9899761954884783\n",
      "['count', 'num_root', 'srv_count', 'num_compromised']  Greater than professor run!\n",
      "['count', 'num_root', 'srv_count', 'num_file_creations']  Greater than first run:  0.985782067267987\n",
      "['count', 'num_root', 'srv_count', 'num_shells']  Greater than first run:  0.9855310673165676\n",
      "['count', 'num_root', 'srv_count', 'num_access_files']  Greater than first run:  0.985199099638884\n",
      "['count', 'num_root', 'srv_count', 'num_outbound_cmds']  Greater than first run:  0.9859035188573835\n",
      "['count', 'num_root', 'srv_count', 'serror_rate']  Greater than first run:  0.9862597768529464\n",
      "['count', 'num_root', 'srv_count', 'rerror_rate']  Greater than first run:  0.9861383252635499\n",
      "['count', 'num_root', 'srv_count', 'same_srv_rate']  Greater than first run:  0.9856768092238434\n",
      "['count', 'num_root', 'srv_count', 'diff_srv_rate']  Greater than first run:  0.9854581963629298\n",
      "['count', 'num_root', 'srv_count', 'srv_serror_rate']  Greater than first run:  0.9868832283451816\n",
      "['count', 'num_root', 'srv_count', 'srv_rerror_rate']  Greater than first run:  0.9864864864864865\n",
      "['count', 'num_root', 'srv_count', 'srv_diff_host_rate']  Greater than first run:  0.9868265509367966\n"
     ]
    }
   ],
   "source": [
    "var_list = ['wrong_fragment','urgent','hot', 'num_failed_logins', 'num_compromised', \n",
    "            'num_file_creations', 'num_shells', 'num_access_files', 'num_outbound_cmds',\n",
    "           'serror_rate', 'rerror_rate', 'same_srv_rate', 'diff_srv_rate',\n",
    "           'srv_serror_rate', 'srv_rerror_rate', 'srv_diff_host_rate']\n",
    "\n",
    "for i in var_list:\n",
    "    dt_loop = tree.DecisionTreeClassifier()\n",
    "    pred_vars_loop = ['count', 'num_root', 'srv_count', i]\n",
    "    dt_loop.fit(train.loc[:, pred_vars_loop], train['label'])\n",
    "    train, test = train_test_split(netattacks, test_size=0.25)\n",
    "    predicted_loop = dt_loop.predict(test.loc[:, pred_vars_loop])\n",
    "    test_labels_stats_loop = Counter(test['label'])\n",
    "    predicted_labels_stats_loop = Counter(predicted_loop)\n",
    "    acc = metrics.accuracy_score(test['label'], predicted_loop)\n",
    "    if acc > .9803:\n",
    "        print(pred_vars_loop, ' Greater than first run: ', acc)\n",
    "        \n",
    "    if acc > .989:\n",
    "        print(pred_vars_loop, ' Greater than professor run!')"
   ]
  },
  {
   "cell_type": "code",
   "execution_count": 27,
   "id": "6d571b6e",
   "metadata": {},
   "outputs": [
    {
     "name": "stdout",
     "output_type": "stream",
     "text": [
      "0.9908587437047592\n"
     ]
    },
    {
     "data": {
      "image/png": "[encoded data removed]",
      "text/plain": [
       "<Figure size 432x288 with 2 Axes>"
      ]
     },
     "metadata": {
      "needs_background": "light"
     },
     "output_type": "display_data"
    }
   ],
   "source": [
    "dt_loop = tree.DecisionTreeClassifier()\n",
    "pred_vars_loop = ['count', 'num_root', 'srv_count', 'hot']\n",
    "dt_loop.fit(train.loc[:, pred_vars_loop], train['label'])\n",
    "train, test = train_test_split(netattacks, test_size=0.25)\n",
    "predicted_loop = dt_loop.predict(test.loc[:, pred_vars_loop])\n",
    "test_labels_stats_loop = Counter(test['label'])\n",
    "metrics.plot_confusion_matrix(dt_loop, test.loc[:, pred_vars_loop], test['label'], labels=['good', 'bad'])\n",
    "predicted_labels_stats_loop = Counter(predicted_loop)\n",
    "acc = metrics.accuracy_score(test['label'], predicted_loop)\n",
    "print(acc)\n",
    "plt.show()"
   ]
  },
  {
   "cell_type": "markdown",
   "id": "2c001993",
   "metadata": {},
   "source": [
    "# Task 2"
   ]
  },
  {
   "cell_type": "code",
   "execution_count": 35,
   "id": "35682fe4",
   "metadata": {},
   "outputs": [
    {
     "name": "stdout",
     "output_type": "stream",
     "text": [
      "0.9906482276164721\n"
     ]
    },
    {
     "data": {
      "image/png": "[encoded data removed]",
      "text/plain": [
       "<Figure size 432x288 with 2 Axes>"
      ]
     },
     "metadata": {
      "needs_background": "light"
     },
     "output_type": "display_data"
    }
   ],
   "source": [
    "dt_loop = tree.DecisionTreeClassifier(criterion='entropy', max_features='sqrt')\n",
    "pred_vars_loop = ['count', 'num_root', 'srv_count', 'hot']\n",
    "dt_loop.fit(train.loc[:, pred_vars_loop], train['label'])\n",
    "train, test = train_test_split(netattacks, test_size=0.25)\n",
    "predicted_loop = dt_loop.predict(test.loc[:, pred_vars_loop])\n",
    "test_labels_stats_loop = Counter(test['label'])\n",
    "metrics.plot_confusion_matrix(dt_loop, test.loc[:, pred_vars_loop], test['label'], labels=['good', 'bad'])\n",
    "predicted_labels_stats_loop = Counter(predicted_loop)\n",
    "acc = metrics.accuracy_score(test['label'], predicted_loop)\n",
    "print(acc)\n",
    "plt.show()"
   ]
  },
  {
   "cell_type": "markdown",
   "id": "005ae91f",
   "metadata": {},
   "source": [
    "# Optional Model on full Dataset"
   ]
  },
  {
   "cell_type": "code",
   "execution_count": 39,
   "id": "fe248863",
   "metadata": {},
   "outputs": [],
   "source": [
    "# use the column names\n",
    "netattacksfull = pd.read_csv('data/kddcup.data.gz', names=name_list, header=None, index_col=None)\n",
    "netattacksfull['label'] = np.where(netattacksfull['type'] == 'normal.', 'good', 'bad')"
   ]
  },
  {
   "cell_type": "code",
   "execution_count": 41,
   "id": "fbf3cef3",
   "metadata": {},
   "outputs": [
    {
     "name": "stdout",
     "output_type": "stream",
     "text": [
      "0.993478729519977\n"
     ]
    },
    {
     "data": {
      "image/png": "[encoded data removed]",
      "text/plain": [
       "<Figure size 432x288 with 2 Axes>"
      ]
     },
     "metadata": {
      "needs_background": "light"
     },
     "output_type": "display_data"
    }
   ],
   "source": [
    "dt_loop = tree.DecisionTreeClassifier(criterion='entropy', max_features='sqrt')\n",
    "pred_vars_loop = ['count', 'num_root', 'srv_count', 'hot']\n",
    "train, test = train_test_split(netattacksfull, test_size=0.25)\n",
    "dt_loop.fit(train.loc[:, pred_vars_loop], train['label'])\n",
    "predicted_loop = dt_loop.predict(test.loc[:, pred_vars_loop])\n",
    "test_labels_stats_loop = Counter(test['label'])\n",
    "metrics.plot_confusion_matrix(dt_loop, test.loc[:, pred_vars_loop], test['label'], labels=['good', 'bad'])\n",
    "predicted_labels_stats_loop = Counter(predicted_loop)\n",
    "acc = metrics.accuracy_score(test['label'], predicted_loop)\n",
    "print(acc)\n",
    "plt.show()"
   ]
  },
  {
   "cell_type": "code",
   "execution_count": null,
   "id": "c1e65826",
   "metadata": {},
   "outputs": [],
   "source": []
  }
 ],
 "metadata": {
  "kernelspec": {
   "display_name": "Python 3",
   "language": "python",
   "name": "python3"
  },
  "language_info": {
   "codemirror_mode": {
    "name": "ipython",
    "version": 3
   },
   "file_extension": ".py",
   "mimetype": "text/x-python",
   "name": "python",
   "nbconvert_exporter": "python",
   "pygments_lexer": "ipython3",
   "version": "3.8.8"
  }
 },
 "nbformat": 4,
 "nbformat_minor": 5
}
