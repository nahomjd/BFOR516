{
 "cells": [
  {
   "cell_type": "code",
   "execution_count": 1,
   "id": "b9635245",
   "metadata": {},
   "outputs": [],
   "source": [
    "import pandas as pd\n",
    "import numpy as np\n",
    "import statsmodels.api as sm\n",
    "from sklearn import metrics"
   ]
  },
  {
   "cell_type": "code",
   "execution_count": 2,
   "id": "8ad4b4fa",
   "metadata": {},
   "outputs": [
    {
     "name": "stderr",
     "output_type": "stream",
     "text": [
      "C:\\ProgramData\\Anaconda3\\lib\\site-packages\\IPython\\core\\interactiveshell.py:3165: DtypeWarning: Columns (20,60,119,130,131,132,135,136,137,140,146,147,148) have mixed types.Specify dtype option on import or set low_memory=False.\n",
      "  has_raised = await self.run_ast_nodes(code_ast.body, cell_name,\n"
     ]
    }
   ],
   "source": [
    "ld = pd.read_csv('data/lendingclub_2015-2018.csv')"
   ]
  },
  {
   "cell_type": "code",
   "execution_count": 3,
   "id": "498c5448",
   "metadata": {},
   "outputs": [],
   "source": [
    "ld = ld.sample(100000, random_state=516)"
   ]
  },
  {
   "cell_type": "code",
   "execution_count": 4,
   "id": "474a9143",
   "metadata": {},
   "outputs": [
    {
     "data": {
      "text/plain": [
       "<AxesSubplot:>"
      ]
     },
     "execution_count": 4,
     "metadata": {},
     "output_type": "execute_result"
    },
    {
     "data": {
      "image/png": "[encoded data removed]",
      "text/plain": [
       "<Figure size 432x288 with 1 Axes>"
      ]
     },
     "metadata": {
      "needs_background": "light"
     },
     "output_type": "display_data"
    }
   ],
   "source": [
    "ld['loan_amnt'].hist()"
   ]
  },
  {
   "cell_type": "code",
   "execution_count": 5,
   "id": "51fd10d1",
   "metadata": {},
   "outputs": [
    {
     "data": {
      "text/plain": [
       "<AxesSubplot:>"
      ]
     },
     "execution_count": 5,
     "metadata": {},
     "output_type": "execute_result"
    },
    {
     "data": {
      "image/png": "[encoded data removed]",
      "text/plain": [
       "<Figure size 432x288 with 1 Axes>"
      ]
     },
     "metadata": {
      "needs_background": "light"
     },
     "output_type": "display_data"
    }
   ],
   "source": [
    "ld['annual_inc'].hist()"
   ]
  },
  {
   "cell_type": "code",
   "execution_count": 6,
   "id": "ab7dc6ff",
   "metadata": {},
   "outputs": [
    {
     "data": {
      "text/plain": [
       "<AxesSubplot:>"
      ]
     },
     "execution_count": 6,
     "metadata": {},
     "output_type": "execute_result"
    },
    {
     "data": {
      "image/png": "[encoded data removed]",
      "text/plain": [
       "<Figure size 432x288 with 1 Axes>"
      ]
     },
     "metadata": {
      "needs_background": "light"
     },
     "output_type": "display_data"
    }
   ],
   "source": [
    "ld['log_annual_inc'] = np.log(ld['annual_inc']+1)\n",
    "ld['log_annual_inc'].hist()"
   ]
  },
  {
   "cell_type": "code",
   "execution_count": 7,
   "id": "24278f6d",
   "metadata": {},
   "outputs": [
    {
     "name": "stdout",
     "output_type": "stream",
     "text": [
      "138233    [, 36, months]\n",
      "75960     [, 36, months]\n",
      "58028     [, 60, months]\n",
      "42825     [, 60, months]\n",
      "352       [, 36, months]\n",
      "Name: term, dtype: object\n"
     ]
    }
   ],
   "source": [
    "# view unique values\n",
    "ld['term'].unique()\n",
    "\n",
    "# split rows into parts\n",
    "term_split = ld['term'].str.split(' ')\n",
    "\n",
    "# view first five rows\n",
    "print(term_split[:5])"
   ]
  },
  {
   "cell_type": "code",
   "execution_count": 8,
   "id": "4fa164ca",
   "metadata": {},
   "outputs": [
    {
     "data": {
      "text/plain": [
       "138233    36\n",
       "75960     36\n",
       "58028     60\n",
       "42825     60\n",
       "352       36\n",
       "Name: duration, dtype: object"
      ]
     },
     "metadata": {},
     "output_type": "display_data"
    }
   ],
   "source": [
    "# the str function can retrieve a specific list element for all rows\n",
    "term_split.str[1]\n",
    "ld['duration'] = term_split.str[1]\n",
    "\n",
    "# add this to the dataframe\n",
    "display(ld['duration'].head())\n",
    "# this column is not in integer format. Must fix!"
   ]
  },
  {
   "cell_type": "code",
   "execution_count": 9,
   "id": "81b3008a",
   "metadata": {},
   "outputs": [
    {
     "data": {
      "text/plain": [
       "138233    36\n",
       "75960     36\n",
       "58028     60\n",
       "42825     60\n",
       "352       36\n",
       "Name: duration, dtype: int64"
      ]
     },
     "metadata": {},
     "output_type": "display_data"
    }
   ],
   "source": [
    "# convert column to integer\n",
    "ld['duration'] = ld['duration'].apply(int)\n",
    "display(ld['duration'].head())"
   ]
  },
  {
   "cell_type": "code",
   "execution_count": 10,
   "id": "a7024dc7",
   "metadata": {},
   "outputs": [
    {
     "data": {
      "text/html": [
       "<style  type=\"text/css\" >\n",
       "#T_ed107_row0_col0,#T_ed107_row1_col1,#T_ed107_row2_col2,#T_ed107_row3_col3,#T_ed107_row4_col4,#T_ed107_row5_col5,#T_ed107_row6_col6,#T_ed107_row7_col7{\n",
       "            background-color:  #b40426;\n",
       "            color:  #f1f1f1;\n",
       "        }#T_ed107_row0_col1{\n",
       "            background-color:  #4b64d5;\n",
       "            color:  #f1f1f1;\n",
       "        }#T_ed107_row0_col2,#T_ed107_row6_col2{\n",
       "            background-color:  #5470de;\n",
       "            color:  #000000;\n",
       "        }#T_ed107_row0_col3{\n",
       "            background-color:  #5a78e4;\n",
       "            color:  #000000;\n",
       "        }#T_ed107_row0_col4,#T_ed107_row3_col1,#T_ed107_row4_col1{\n",
       "            background-color:  #b6cefa;\n",
       "            color:  #000000;\n",
       "        }#T_ed107_row0_col5{\n",
       "            background-color:  #465ecf;\n",
       "            color:  #f1f1f1;\n",
       "        }#T_ed107_row0_col6{\n",
       "            background-color:  #dddcdc;\n",
       "            color:  #000000;\n",
       "        }#T_ed107_row0_col7{\n",
       "            background-color:  #9bbcff;\n",
       "            color:  #000000;\n",
       "        }#T_ed107_row1_col0,#T_ed107_row2_col5,#T_ed107_row3_col5{\n",
       "            background-color:  #b3cdfb;\n",
       "            color:  #000000;\n",
       "        }#T_ed107_row1_col2,#T_ed107_row2_col1{\n",
       "            background-color:  #c83836;\n",
       "            color:  #f1f1f1;\n",
       "        }#T_ed107_row1_col3{\n",
       "            background-color:  #dfdbd9;\n",
       "            color:  #000000;\n",
       "        }#T_ed107_row1_col4,#T_ed107_row1_col6{\n",
       "            background-color:  #bed2f6;\n",
       "            color:  #000000;\n",
       "        }#T_ed107_row1_col5{\n",
       "            background-color:  #bfd3f6;\n",
       "            color:  #000000;\n",
       "        }#T_ed107_row1_col7,#T_ed107_row2_col7{\n",
       "            background-color:  #85a8fc;\n",
       "            color:  #000000;\n",
       "        }#T_ed107_row2_col0,#T_ed107_row7_col0{\n",
       "            background-color:  #bad0f8;\n",
       "            color:  #000000;\n",
       "        }#T_ed107_row2_col3{\n",
       "            background-color:  #dbdcde;\n",
       "            color:  #000000;\n",
       "        }#T_ed107_row2_col4{\n",
       "            background-color:  #6485ec;\n",
       "            color:  #000000;\n",
       "        }#T_ed107_row2_col6{\n",
       "            background-color:  #c3d5f4;\n",
       "            color:  #000000;\n",
       "        }#T_ed107_row3_col0{\n",
       "            background-color:  #81a4fb;\n",
       "            color:  #000000;\n",
       "        }#T_ed107_row3_col2{\n",
       "            background-color:  #aec9fc;\n",
       "            color:  #000000;\n",
       "        }#T_ed107_row3_col4{\n",
       "            background-color:  #5673e0;\n",
       "            color:  #000000;\n",
       "        }#T_ed107_row3_col6,#T_ed107_row4_col6{\n",
       "            background-color:  #b7cff9;\n",
       "            color:  #000000;\n",
       "        }#T_ed107_row3_col7,#T_ed107_row5_col0,#T_ed107_row5_col4,#T_ed107_row5_col6,#T_ed107_row6_col5,#T_ed107_row7_col1,#T_ed107_row7_col2,#T_ed107_row7_col3{\n",
       "            background-color:  #3b4cc0;\n",
       "            color:  #f1f1f1;\n",
       "        }#T_ed107_row4_col0{\n",
       "            background-color:  #ebd3c6;\n",
       "            color:  #000000;\n",
       "        }#T_ed107_row4_col2{\n",
       "            background-color:  #5977e3;\n",
       "            color:  #000000;\n",
       "        }#T_ed107_row4_col3{\n",
       "            background-color:  #94b6ff;\n",
       "            color:  #000000;\n",
       "        }#T_ed107_row4_col5{\n",
       "            background-color:  #a9c6fd;\n",
       "            color:  #000000;\n",
       "        }#T_ed107_row4_col7{\n",
       "            background-color:  #88abfd;\n",
       "            color:  #000000;\n",
       "        }#T_ed107_row5_col1{\n",
       "            background-color:  #506bda;\n",
       "            color:  #000000;\n",
       "        }#T_ed107_row5_col2{\n",
       "            background-color:  #3d50c3;\n",
       "            color:  #f1f1f1;\n",
       "        }#T_ed107_row5_col3{\n",
       "            background-color:  #89acfd;\n",
       "            color:  #000000;\n",
       "        }#T_ed107_row5_col7{\n",
       "            background-color:  #7093f3;\n",
       "            color:  #000000;\n",
       "        }#T_ed107_row6_col0{\n",
       "            background-color:  #d7dce3;\n",
       "            color:  #000000;\n",
       "        }#T_ed107_row6_col1,#T_ed107_row6_col4{\n",
       "            background-color:  #4e68d8;\n",
       "            color:  #000000;\n",
       "        }#T_ed107_row6_col3{\n",
       "            background-color:  #8caffe;\n",
       "            color:  #000000;\n",
       "        }#T_ed107_row6_col7{\n",
       "            background-color:  #9abbff;\n",
       "            color:  #000000;\n",
       "        }#T_ed107_row7_col4{\n",
       "            background-color:  #4961d2;\n",
       "            color:  #f1f1f1;\n",
       "        }#T_ed107_row7_col5{\n",
       "            background-color:  #9fbfff;\n",
       "            color:  #000000;\n",
       "        }#T_ed107_row7_col6{\n",
       "            background-color:  #c1d4f4;\n",
       "            color:  #000000;\n",
       "        }</style><table id=\"T_ed107_\" ><thead>    <tr>        <th class=\"blank level0\" ></th>        <th class=\"col_heading level0 col0\" >int_rate</th>        <th class=\"col_heading level0 col1\" >loan_amnt</th>        <th class=\"col_heading level0 col2\" >installment</th>        <th class=\"col_heading level0 col3\" >log_annual_inc</th>        <th class=\"col_heading level0 col4\" >duration</th>        <th class=\"col_heading level0 col5\" >fico_range_low</th>        <th class=\"col_heading level0 col6\" >revol_util</th>        <th class=\"col_heading level0 col7\" >dti</th>    </tr></thead><tbody>\n",
       "                <tr>\n",
       "                        <th id=\"T_ed107_level0_row0\" class=\"row_heading level0 row0\" >int_rate</th>\n",
       "                        <td id=\"T_ed107_row0_col0\" class=\"data row0 col0\" >1.000000</td>\n",
       "                        <td id=\"T_ed107_row0_col1\" class=\"data row0 col1\" >0.098393</td>\n",
       "                        <td id=\"T_ed107_row0_col2\" class=\"data row0 col2\" >0.124241</td>\n",
       "                        <td id=\"T_ed107_row0_col3\" class=\"data row0 col3\" >-0.107833</td>\n",
       "                        <td id=\"T_ed107_row0_col4\" class=\"data row0 col4\" >0.375283</td>\n",
       "                        <td id=\"T_ed107_row0_col5\" class=\"data row0 col5\" >-0.415808</td>\n",
       "                        <td id=\"T_ed107_row0_col6\" class=\"data row0 col6\" >0.263990</td>\n",
       "                        <td id=\"T_ed107_row0_col7\" class=\"data row0 col7\" >0.121790</td>\n",
       "            </tr>\n",
       "            <tr>\n",
       "                        <th id=\"T_ed107_level0_row1\" class=\"row_heading level0 row1\" >loan_amnt</th>\n",
       "                        <td id=\"T_ed107_row1_col0\" class=\"data row1 col0\" >0.098393</td>\n",
       "                        <td id=\"T_ed107_row1_col1\" class=\"data row1 col1\" >1.000000</td>\n",
       "                        <td id=\"T_ed107_row1_col2\" class=\"data row1 col2\" >0.945351</td>\n",
       "                        <td id=\"T_ed107_row1_col3\" class=\"data row1 col3\" >0.395225</td>\n",
       "                        <td id=\"T_ed107_row1_col4\" class=\"data row1 col4\" >0.395852</td>\n",
       "                        <td id=\"T_ed107_row1_col5\" class=\"data row1 col5\" >0.110605</td>\n",
       "                        <td id=\"T_ed107_row1_col6\" class=\"data row1 col6\" >0.104963</td>\n",
       "                        <td id=\"T_ed107_row1_col7\" class=\"data row1 col7\" >0.042877</td>\n",
       "            </tr>\n",
       "            <tr>\n",
       "                        <th id=\"T_ed107_level0_row2\" class=\"row_heading level0 row2\" >installment</th>\n",
       "                        <td id=\"T_ed107_row2_col0\" class=\"data row2 col0\" >0.124241</td>\n",
       "                        <td id=\"T_ed107_row2_col1\" class=\"data row2 col1\" >0.945351</td>\n",
       "                        <td id=\"T_ed107_row2_col2\" class=\"data row2 col2\" >1.000000</td>\n",
       "                        <td id=\"T_ed107_row2_col3\" class=\"data row2 col3\" >0.376131</td>\n",
       "                        <td id=\"T_ed107_row2_col4\" class=\"data row2 col4\" >0.141211</td>\n",
       "                        <td id=\"T_ed107_row2_col5\" class=\"data row2 col5\" >0.054452</td>\n",
       "                        <td id=\"T_ed107_row2_col6\" class=\"data row2 col6\" >0.125901</td>\n",
       "                        <td id=\"T_ed107_row2_col7\" class=\"data row2 col7\" >0.044725</td>\n",
       "            </tr>\n",
       "            <tr>\n",
       "                        <th id=\"T_ed107_level0_row3\" class=\"row_heading level0 row3\" >log_annual_inc</th>\n",
       "                        <td id=\"T_ed107_row3_col0\" class=\"data row3 col0\" >-0.107833</td>\n",
       "                        <td id=\"T_ed107_row3_col1\" class=\"data row3 col1\" >0.395225</td>\n",
       "                        <td id=\"T_ed107_row3_col2\" class=\"data row3 col2\" >0.376131</td>\n",
       "                        <td id=\"T_ed107_row3_col3\" class=\"data row3 col3\" >1.000000</td>\n",
       "                        <td id=\"T_ed107_row3_col4\" class=\"data row3 col4\" >0.100590</td>\n",
       "                        <td id=\"T_ed107_row3_col5\" class=\"data row3 col5\" >0.058930</td>\n",
       "                        <td id=\"T_ed107_row3_col6\" class=\"data row3 col6\" >0.071495</td>\n",
       "                        <td id=\"T_ed107_row3_col7\" class=\"data row3 col7\" >-0.237856</td>\n",
       "            </tr>\n",
       "            <tr>\n",
       "                        <th id=\"T_ed107_level0_row4\" class=\"row_heading level0 row4\" >duration</th>\n",
       "                        <td id=\"T_ed107_row4_col0\" class=\"data row4 col0\" >0.375283</td>\n",
       "                        <td id=\"T_ed107_row4_col1\" class=\"data row4 col1\" >0.395852</td>\n",
       "                        <td id=\"T_ed107_row4_col2\" class=\"data row4 col2\" >0.141211</td>\n",
       "                        <td id=\"T_ed107_row4_col3\" class=\"data row4 col3\" >0.100590</td>\n",
       "                        <td id=\"T_ed107_row4_col4\" class=\"data row4 col4\" >1.000000</td>\n",
       "                        <td id=\"T_ed107_row4_col5\" class=\"data row4 col5\" >0.007665</td>\n",
       "                        <td id=\"T_ed107_row4_col6\" class=\"data row4 col6\" >0.071969</td>\n",
       "                        <td id=\"T_ed107_row4_col7\" class=\"data row4 col7\" >0.055733</td>\n",
       "            </tr>\n",
       "            <tr>\n",
       "                        <th id=\"T_ed107_level0_row5\" class=\"row_heading level0 row5\" >fico_range_low</th>\n",
       "                        <td id=\"T_ed107_row5_col0\" class=\"data row5 col0\" >-0.415808</td>\n",
       "                        <td id=\"T_ed107_row5_col1\" class=\"data row5 col1\" >0.110605</td>\n",
       "                        <td id=\"T_ed107_row5_col2\" class=\"data row5 col2\" >0.054452</td>\n",
       "                        <td id=\"T_ed107_row5_col3\" class=\"data row5 col3\" >0.058930</td>\n",
       "                        <td id=\"T_ed107_row5_col4\" class=\"data row5 col4\" >0.007665</td>\n",
       "                        <td id=\"T_ed107_row5_col5\" class=\"data row5 col5\" >1.000000</td>\n",
       "                        <td id=\"T_ed107_row5_col6\" class=\"data row5 col6\" >-0.477472</td>\n",
       "                        <td id=\"T_ed107_row5_col7\" class=\"data row5 col7\" >-0.027856</td>\n",
       "            </tr>\n",
       "            <tr>\n",
       "                        <th id=\"T_ed107_level0_row6\" class=\"row_heading level0 row6\" >revol_util</th>\n",
       "                        <td id=\"T_ed107_row6_col0\" class=\"data row6 col0\" >0.263990</td>\n",
       "                        <td id=\"T_ed107_row6_col1\" class=\"data row6 col1\" >0.104963</td>\n",
       "                        <td id=\"T_ed107_row6_col2\" class=\"data row6 col2\" >0.125901</td>\n",
       "                        <td id=\"T_ed107_row6_col3\" class=\"data row6 col3\" >0.071495</td>\n",
       "                        <td id=\"T_ed107_row6_col4\" class=\"data row6 col4\" >0.071969</td>\n",
       "                        <td id=\"T_ed107_row6_col5\" class=\"data row6 col5\" >-0.477472</td>\n",
       "                        <td id=\"T_ed107_row6_col6\" class=\"data row6 col6\" >1.000000</td>\n",
       "                        <td id=\"T_ed107_row6_col7\" class=\"data row6 col7\" >0.117155</td>\n",
       "            </tr>\n",
       "            <tr>\n",
       "                        <th id=\"T_ed107_level0_row7\" class=\"row_heading level0 row7\" >dti</th>\n",
       "                        <td id=\"T_ed107_row7_col0\" class=\"data row7 col0\" >0.121790</td>\n",
       "                        <td id=\"T_ed107_row7_col1\" class=\"data row7 col1\" >0.042877</td>\n",
       "                        <td id=\"T_ed107_row7_col2\" class=\"data row7 col2\" >0.044725</td>\n",
       "                        <td id=\"T_ed107_row7_col3\" class=\"data row7 col3\" >-0.237856</td>\n",
       "                        <td id=\"T_ed107_row7_col4\" class=\"data row7 col4\" >0.055733</td>\n",
       "                        <td id=\"T_ed107_row7_col5\" class=\"data row7 col5\" >-0.027856</td>\n",
       "                        <td id=\"T_ed107_row7_col6\" class=\"data row7 col6\" >0.117155</td>\n",
       "                        <td id=\"T_ed107_row7_col7\" class=\"data row7 col7\" >1.000000</td>\n",
       "            </tr>\n",
       "    </tbody></table>"
      ],
      "text/plain": [
       "<pandas.io.formats.style.Styler at 0x1cd00e75370>"
      ]
     },
     "execution_count": 10,
     "metadata": {},
     "output_type": "execute_result"
    }
   ],
   "source": [
    "cols = ['int_rate', 'loan_amnt', 'installment', 'log_annual_inc', 'duration', 'fico_range_low', 'revol_util', 'dti']\n",
    "corr = ld[cols].corr()\n",
    "corr.style.background_gradient(cmap='coolwarm')\n",
    "\n",
    "# ld[cols].corr() # <--- use this if you just want the table in non-graphical format"
   ]
  },
  {
   "cell_type": "code",
   "execution_count": 11,
   "id": "627e655b",
   "metadata": {},
   "outputs": [],
   "source": [
    "pred_vars = ['loan_amnt', 'log_annual_inc', 'fico_range_low', 'revol_util', 'dti', 'duration']"
   ]
  },
  {
   "cell_type": "code",
   "execution_count": 12,
   "id": "7b5e42d9",
   "metadata": {},
   "outputs": [
    {
     "name": "stdout",
     "output_type": "stream",
     "text": [
      "before dropping rows with missing data 100000\n",
      "after dropping rows with missing data 99822\n"
     ]
    }
   ],
   "source": [
    "print(\"before dropping rows with missing data\", len(ld))\n",
    "ld = ld.dropna(subset=pred_vars)\n",
    "print(\"after dropping rows with missing data\", len(ld))"
   ]
  },
  {
   "cell_type": "code",
   "execution_count": 13,
   "id": "fd59f528",
   "metadata": {},
   "outputs": [],
   "source": [
    "from sklearn.model_selection import train_test_split\n",
    "\n",
    "# use index-based sampling since we have time series data\n",
    "train, test = train_test_split(ld, test_size=0.25, shuffle=False)"
   ]
  },
  {
   "cell_type": "code",
   "execution_count": 14,
   "id": "47366e06",
   "metadata": {},
   "outputs": [
    {
     "name": "stdout",
     "output_type": "stream",
     "text": [
      "training data starts\n",
      " 138233    Oct-2016\n",
      "75960     Aug-2015\n",
      "58028     Feb-2015\n",
      "42825     Sep-2014\n",
      "352       Jan-2009\n",
      "Name: issue_d, dtype: object\n",
      "training data ends\n",
      " 126476    Jul-2016\n",
      "37791     Jun-2014\n",
      "125601    Jul-2016\n",
      "88562     Oct-2015\n",
      "68643     May-2015\n",
      "Name: issue_d, dtype: object\n",
      "testing data starts\n",
      " 230       Jun-2008\n",
      "110235    Apr-2016\n",
      "239195    Oct-2018\n",
      "232688    Sep-2018\n",
      "237085    Oct-2018\n",
      "Name: issue_d, dtype: object\n",
      "testing data ends\n",
      " 113860    Apr-2016\n",
      "91441     Dec-2015\n",
      "91903     Nov-2015\n",
      "119500    May-2016\n",
      "229221    Aug-2018\n",
      "Name: issue_d, dtype: object\n"
     ]
    }
   ],
   "source": [
    "# earliest and latest dates in train\n",
    "print(\"training data starts\\n\", train['issue_d'].head())\n",
    "print(\"training data ends\\n\", train['issue_d'].tail())\n",
    "# earliest and latest in test\n",
    "print(\"testing data starts\\n\", test['issue_d'].head())\n",
    "print(\"testing data ends\\n\", test['issue_d'].tail())"
   ]
  },
  {
   "cell_type": "code",
   "execution_count": 15,
   "id": "972594aa",
   "metadata": {},
   "outputs": [
    {
     "data": {
      "text/plain": [
       "RandomForestRegressor()"
      ]
     },
     "execution_count": 15,
     "metadata": {},
     "output_type": "execute_result"
    }
   ],
   "source": [
    "from sklearn.ensemble import RandomForestRegressor\n",
    "\n",
    "rf_reg = RandomForestRegressor()\n",
    "\n",
    "rf_reg.fit(train[pred_vars], train['int_rate'])"
   ]
  },
  {
   "cell_type": "code",
   "execution_count": 19,
   "id": "e6b1a549",
   "metadata": {},
   "outputs": [
    {
     "data": {
      "text/html": [
       "<table class=\"simpletable\">\n",
       "<caption>OLS Regression Results</caption>\n",
       "<tr>\n",
       "  <th>Dep. Variable:</th>        <td>int_rate</td>     <th>  R-squared (uncentered):</th>       <td>   0.904</td>  \n",
       "</tr>\n",
       "<tr>\n",
       "  <th>Model:</th>                   <td>OLS</td>       <th>  Adj. R-squared (uncentered):</th>  <td>   0.904</td>  \n",
       "</tr>\n",
       "<tr>\n",
       "  <th>Method:</th>             <td>Least Squares</td>  <th>  F-statistic:       </th>           <td>1.182e+05</td> \n",
       "</tr>\n",
       "<tr>\n",
       "  <th>Date:</th>             <td>Wed, 20 Oct 2021</td> <th>  Prob (F-statistic):</th>            <td>  0.00</td>   \n",
       "</tr>\n",
       "<tr>\n",
       "  <th>Time:</th>                 <td>18:25:27</td>     <th>  Log-Likelihood:    </th>          <td>-2.1554e+05</td>\n",
       "</tr>\n",
       "<tr>\n",
       "  <th>No. Observations:</th>      <td> 74866</td>      <th>  AIC:               </th>           <td>4.311e+05</td> \n",
       "</tr>\n",
       "<tr>\n",
       "  <th>Df Residuals:</th>          <td> 74860</td>      <th>  BIC:               </th>           <td>4.311e+05</td> \n",
       "</tr>\n",
       "<tr>\n",
       "  <th>Df Model:</th>              <td>     6</td>      <th>                     </th>               <td> </td>     \n",
       "</tr>\n",
       "<tr>\n",
       "  <th>Covariance Type:</th>      <td>nonrobust</td>    <th>                     </th>               <td> </td>     \n",
       "</tr>\n",
       "</table>\n",
       "<table class=\"simpletable\">\n",
       "<tr>\n",
       "         <td></td>           <th>coef</th>     <th>std err</th>      <th>t</th>      <th>P>|t|</th>  <th>[0.025</th>    <th>0.975]</th>  \n",
       "</tr>\n",
       "<tr>\n",
       "  <th>loan_amnt</th>      <td>-6.867e-05</td> <td> 1.95e-06</td> <td>  -35.162</td> <td> 0.000</td> <td>-7.25e-05</td> <td>-6.48e-05</td>\n",
       "</tr>\n",
       "<tr>\n",
       "  <th>log_annual_inc</th> <td>    0.9998</td> <td>    0.026</td> <td>   38.879</td> <td> 0.000</td> <td>    0.949</td> <td>    1.050</td>\n",
       "</tr>\n",
       "<tr>\n",
       "  <th>fico_range_low</th> <td>   -0.0115</td> <td>    0.000</td> <td>  -29.707</td> <td> 0.000</td> <td>   -0.012</td> <td>   -0.011</td>\n",
       "</tr>\n",
       "<tr>\n",
       "  <th>revol_util</th>     <td>    0.0416</td> <td>    0.001</td> <td>   59.439</td> <td> 0.000</td> <td>    0.040</td> <td>    0.043</td>\n",
       "</tr>\n",
       "<tr>\n",
       "  <th>dti</th>            <td>    0.0364</td> <td>    0.001</td> <td>   33.717</td> <td> 0.000</td> <td>    0.034</td> <td>    0.038</td>\n",
       "</tr>\n",
       "<tr>\n",
       "  <th>duration</th>       <td>    0.1915</td> <td>    0.002</td> <td>  122.819</td> <td> 0.000</td> <td>    0.188</td> <td>    0.195</td>\n",
       "</tr>\n",
       "</table>\n",
       "<table class=\"simpletable\">\n",
       "<tr>\n",
       "  <th>Omnibus:</th>       <td>8092.942</td> <th>  Durbin-Watson:     </th> <td>   1.989</td> \n",
       "</tr>\n",
       "<tr>\n",
       "  <th>Prob(Omnibus):</th>  <td> 0.000</td>  <th>  Jarque-Bera (JB):  </th> <td>12609.976</td>\n",
       "</tr>\n",
       "<tr>\n",
       "  <th>Skew:</th>           <td> 0.793</td>  <th>  Prob(JB):          </th> <td>    0.00</td> \n",
       "</tr>\n",
       "<tr>\n",
       "  <th>Kurtosis:</th>       <td> 4.236</td>  <th>  Cond. No.          </th> <td>2.88e+04</td> \n",
       "</tr>\n",
       "</table><br/><br/>Notes:<br/>[1] R² is computed without centering (uncentered) since the model does not contain a constant.<br/>[2] Standard Errors assume that the covariance matrix of the errors is correctly specified.<br/>[3] The condition number is large, 2.88e+04. This might indicate that there are<br/>strong multicollinearity or other numerical problems."
      ],
      "text/plain": [
       "<class 'statsmodels.iolib.summary.Summary'>\n",
       "\"\"\"\n",
       "                                 OLS Regression Results                                \n",
       "=======================================================================================\n",
       "Dep. Variable:               int_rate   R-squared (uncentered):                   0.904\n",
       "Model:                            OLS   Adj. R-squared (uncentered):              0.904\n",
       "Method:                 Least Squares   F-statistic:                          1.182e+05\n",
       "Date:                Wed, 20 Oct 2021   Prob (F-statistic):                        0.00\n",
       "Time:                        18:25:27   Log-Likelihood:                     -2.1554e+05\n",
       "No. Observations:               74866   AIC:                                  4.311e+05\n",
       "Df Residuals:                   74860   BIC:                                  4.311e+05\n",
       "Df Model:                           6                                                  \n",
       "Covariance Type:            nonrobust                                                  \n",
       "==================================================================================\n",
       "                     coef    std err          t      P>|t|      [0.025      0.975]\n",
       "----------------------------------------------------------------------------------\n",
       "loan_amnt      -6.867e-05   1.95e-06    -35.162      0.000   -7.25e-05   -6.48e-05\n",
       "log_annual_inc     0.9998      0.026     38.879      0.000       0.949       1.050\n",
       "fico_range_low    -0.0115      0.000    -29.707      0.000      -0.012      -0.011\n",
       "revol_util         0.0416      0.001     59.439      0.000       0.040       0.043\n",
       "dti                0.0364      0.001     33.717      0.000       0.034       0.038\n",
       "duration           0.1915      0.002    122.819      0.000       0.188       0.195\n",
       "==============================================================================\n",
       "Omnibus:                     8092.942   Durbin-Watson:                   1.989\n",
       "Prob(Omnibus):                  0.000   Jarque-Bera (JB):            12609.976\n",
       "Skew:                           0.793   Prob(JB):                         0.00\n",
       "Kurtosis:                       4.236   Cond. No.                     2.88e+04\n",
       "==============================================================================\n",
       "\n",
       "Notes:\n",
       "[1] R² is computed without centering (uncentered) since the model does not contain a constant.\n",
       "[2] Standard Errors assume that the covariance matrix of the errors is correctly specified.\n",
       "[3] The condition number is large, 2.88e+04. This might indicate that there are\n",
       "strong multicollinearity or other numerical problems.\n",
       "\"\"\""
      ]
     },
     "execution_count": 19,
     "metadata": {},
     "output_type": "execute_result"
    }
   ],
   "source": [
    "reg_multi = sm.OLS(train['int_rate'], train[pred_vars], hasconst=False).fit()\n",
    "reg_multi.summary()"
   ]
  },
  {
   "cell_type": "code",
   "execution_count": 16,
   "id": "2f803b42",
   "metadata": {},
   "outputs": [
    {
     "data": {
      "text/plain": [
       "SVR()"
      ]
     },
     "execution_count": 16,
     "metadata": {},
     "output_type": "execute_result"
    }
   ],
   "source": [
    "from sklearn.svm import SVR\n",
    "\n",
    "svr_reg = SVR()\n",
    "\n",
    "svr_reg.fit(train[pred_vars], train['int_rate'])"
   ]
  },
  {
   "cell_type": "code",
   "execution_count": 17,
   "id": "689eca57",
   "metadata": {},
   "outputs": [
    {
     "data": {
      "text/plain": [
       "MLPRegressor()"
      ]
     },
     "execution_count": 17,
     "metadata": {},
     "output_type": "execute_result"
    }
   ],
   "source": [
    "from sklearn.neural_network import MLPRegressor\n",
    "\n",
    "mlp_reg = MLPRegressor()\n",
    "\n",
    "mlp_reg.fit(train[pred_vars], train['int_rate'])"
   ]
  },
  {
   "cell_type": "code",
   "execution_count": 20,
   "id": "a6c1d064",
   "metadata": {},
   "outputs": [
    {
     "name": "stdout",
     "output_type": "stream",
     "text": [
      "<statsmodels.regression.linear_model.RegressionResultsWrapper object at 0x000001CD003162E0> RMSE: 4.312693552331951\n",
      "RandomForestRegressor() RMSE: 3.9174048997664697\n",
      "SVR() RMSE: 4.7771657073737925\n",
      "MLPRegressor() RMSE: 4.964039557015436\n"
     ]
    }
   ],
   "source": [
    "models = [reg_multi, rf_reg, svr_reg, mlp_reg]\n",
    "\n",
    "for reg in models:\n",
    "    \n",
    "    reg_pred = reg.predict(test[pred_vars])\n",
    "\n",
    "    reg_rmse = metrics.mean_squared_error(test['int_rate'], reg_pred, squared=False)\n",
    "    print(reg, \"RMSE:\", reg_rmse)"
   ]
  },
  {
   "cell_type": "markdown",
   "id": "a38cc52a",
   "metadata": {},
   "source": [
    "# Tasks\n",
    "\n",
    "1. Use another algorithm for regression (See this list) https://scikit-learn.org/stable/supervised_learning.html. Compare the models again. Which performed best?\n",
    "    \n",
    "2. In last week's lab, you were asked to add additional variables to try improving the predictions. Use those variables again on each of these models and evaluate. How does the RMSE change with the additional predictors? Which model was best?\n"
   ]
  },
  {
   "cell_type": "markdown",
   "id": "dc5f8e8e",
   "metadata": {},
   "source": [
    "### Task 1\n",
    "\n",
    "Use another algorithm for regression (See this list) https://scikit-learn.org/stable/supervised_learning.html. Compare the models again. Which performed best?"
   ]
  },
  {
   "cell_type": "code",
   "execution_count": 49,
   "id": "7a5b0537",
   "metadata": {},
   "outputs": [
    {
     "data": {
      "text/plain": [
       "PLSRegression(copy=False, n_components=6)"
      ]
     },
     "execution_count": 49,
     "metadata": {},
     "output_type": "execute_result"
    }
   ],
   "source": [
    "from sklearn.cross_decomposition import PLSRegression\n",
    "\n",
    "pls2 = PLSRegression(n_components=6, max_iter=500, scale=True, copy=True)\n",
    "pls2.fit(train[pred_vars], train['int_rate'])"
   ]
  },
  {
   "cell_type": "code",
   "execution_count": 52,
   "id": "809b0992",
   "metadata": {},
   "outputs": [
    {
     "name": "stdout",
     "output_type": "stream",
     "text": [
      "<statsmodels.regression.linear_model.RegressionResultsWrapper object at 0x000001CD003162E0> RMSE: 4.312693552331951\n",
      "RandomForestRegressor() RMSE: 3.9174048997664697\n",
      "SVR() RMSE: 4.7771657073737925\n",
      "MLPRegressor() RMSE: 4.964039557015436\n",
      "PLSRegression(copy=False, n_components=6) RMSE: 3.928986485391665\n"
     ]
    }
   ],
   "source": [
    "models = [reg_multi, rf_reg, svr_reg, mlp_reg, pls2]\n",
    "\n",
    "for reg in models:\n",
    "    \n",
    "    reg_pred = reg.predict(test[pred_vars])\n",
    "\n",
    "    reg_rmse = metrics.mean_squared_error(test['int_rate'], reg_pred, squared=False)\n",
    "    print(reg, \"RMSE:\", reg_rmse)"
   ]
  },
  {
   "cell_type": "code",
   "execution_count": 53,
   "id": "51bf4744",
   "metadata": {},
   "outputs": [
    {
     "name": "stdout",
     "output_type": "stream",
     "text": [
      "rf_reg difference with pls2  0.011581585625195512\n"
     ]
    }
   ],
   "source": [
    "print('rf_reg difference with pls2 ', 3.928986485391665-3.9174048997664697)"
   ]
  },
  {
   "cell_type": "code",
   "execution_count": null,
   "id": "0184ef7b",
   "metadata": {},
   "outputs": [],
   "source": []
  }
 ],
 "metadata": {
  "kernelspec": {
   "display_name": "Python 3",
   "language": "python",
   "name": "python3"
  },
  "language_info": {
   "codemirror_mode": {
    "name": "ipython",
    "version": 3
   },
   "file_extension": ".py",
   "mimetype": "text/x-python",
   "name": "python",
   "nbconvert_exporter": "python",
   "pygments_lexer": "ipython3",
   "version": "3.8.8"
  }
 },
 "nbformat": 4,
 "nbformat_minor": 5
}
