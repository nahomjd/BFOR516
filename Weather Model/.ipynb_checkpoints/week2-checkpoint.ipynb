{
 "cells": [
  {
   "cell_type": "code",
   "execution_count": 1,
   "id": "911b36bc",
   "metadata": {},
   "outputs": [],
   "source": [
    "USERNAME = 'jnahom'\n",
    "import pandas as pd\n",
    "from datetime import datetime, timedelta\n",
    "import forecast_functions"
   ]
  },
  {
   "cell_type": "code",
   "execution_count": 4,
   "id": "85711a6c",
   "metadata": {},
   "outputs": [],
   "source": [
    "#Data\n",
    "last_ten_alb = pd.read_csv('last_ten_alb(2).csv')"
   ]
  },
  {
   "cell_type": "code",
   "execution_count": 5,
   "id": "80c9df39",
   "metadata": {},
   "outputs": [
    {
     "name": "stdout",
     "output_type": "stream",
     "text": [
      "Most recent date in data: 2021-09-27 00:00:00\n"
     ]
    }
   ],
   "source": [
    "# set YEARMODA (Year-month-day) to datetime format\n",
    "last_ten_alb['YEARMODA'] = pd.to_datetime(last_ten_alb['YEARMODA'])\n",
    "print(\"Most recent date in data:\", last_ten_alb['YEARMODA'].max())"
   ]
  },
  {
   "cell_type": "code",
   "execution_count": 6,
   "id": "4360dd40",
   "metadata": {},
   "outputs": [
    {
     "name": "stdout",
     "output_type": "stream",
     "text": [
      "When should the prediction start? Enter date in YYYY-MM-DD [Enter=tomorrow]: 2021-09-29\n"
     ]
    }
   ],
   "source": [
    "# get date from user to start forecasting\n",
    "prompt_str = \"When should the prediction start? Enter date in YYYY-MM-DD [Enter=tomorrow]: \"\n",
    "prediction_start = input(prompt_str)"
   ]
  },
  {
   "cell_type": "code",
   "execution_count": 7,
   "id": "5f0b75af",
   "metadata": {},
   "outputs": [],
   "source": [
    "# user hits enter, then just give tomorrow's date\n",
    "if not prediction_start:\n",
    "    prediction_start = datetime.today() + timedelta(days=1)\n",
    "    prediction_start = prediction_start.strftime(\"%Y-%m-%d\")"
   ]
  },
  {
   "cell_type": "code",
   "execution_count": 8,
   "id": "c71fba47",
   "metadata": {},
   "outputs": [],
   "source": [
    "# establish important dates\n",
    "prediction_start = datetime.strptime(prediction_start, \"%Y-%m-%d\")\n",
    "start_prev_seven = prediction_start - timedelta(days=7)"
   ]
  },
  {
   "cell_type": "code",
   "execution_count": 9,
   "id": "28445480",
   "metadata": {},
   "outputs": [],
   "source": [
    "# create list of dates to submit for forecast evaluation\n",
    "eval_dates = pd.date_range(prediction_start, periods=7).tolist()"
   ]
  },
  {
   "cell_type": "code",
   "execution_count": 10,
   "id": "30768317",
   "metadata": {},
   "outputs": [
    {
     "name": "stdout",
     "output_type": "stream",
     "text": [
      "[Timestamp('2021-09-22 00:00:00', freq='D'), Timestamp('2021-09-23 00:00:00', freq='D'), Timestamp('2021-09-24 00:00:00', freq='D'), Timestamp('2021-09-25 00:00:00', freq='D'), Timestamp('2021-09-26 00:00:00', freq='D'), Timestamp('2021-09-27 00:00:00', freq='D'), Timestamp('2021-09-28 00:00:00', freq='D'), Timestamp('2020-09-22 00:00:00', freq='D'), Timestamp('2020-09-23 00:00:00', freq='D'), Timestamp('2020-09-24 00:00:00', freq='D'), Timestamp('2020-09-25 00:00:00', freq='D'), Timestamp('2020-09-26 00:00:00', freq='D'), Timestamp('2020-09-27 00:00:00', freq='D'), Timestamp('2020-09-28 00:00:00', freq='D'), Timestamp('2019-09-23 00:00:00', freq='D'), Timestamp('2019-09-24 00:00:00', freq='D'), Timestamp('2019-09-25 00:00:00', freq='D'), Timestamp('2019-09-26 00:00:00', freq='D'), Timestamp('2019-09-27 00:00:00', freq='D'), Timestamp('2019-09-28 00:00:00', freq='D'), Timestamp('2019-09-29 00:00:00', freq='D'), Timestamp('2018-09-23 00:00:00', freq='D'), Timestamp('2018-09-24 00:00:00', freq='D'), Timestamp('2018-09-25 00:00:00', freq='D'), Timestamp('2018-09-26 00:00:00', freq='D'), Timestamp('2018-09-27 00:00:00', freq='D'), Timestamp('2018-09-28 00:00:00', freq='D'), Timestamp('2018-09-29 00:00:00', freq='D'), Timestamp('2017-09-23 00:00:00', freq='D'), Timestamp('2017-09-24 00:00:00', freq='D'), Timestamp('2017-09-25 00:00:00', freq='D'), Timestamp('2017-09-26 00:00:00', freq='D'), Timestamp('2017-09-27 00:00:00', freq='D'), Timestamp('2017-09-28 00:00:00', freq='D'), Timestamp('2017-09-29 00:00:00', freq='D'), Timestamp('2016-09-23 00:00:00', freq='D'), Timestamp('2016-09-24 00:00:00', freq='D'), Timestamp('2016-09-25 00:00:00', freq='D'), Timestamp('2016-09-26 00:00:00', freq='D'), Timestamp('2016-09-27 00:00:00', freq='D'), Timestamp('2016-09-28 00:00:00', freq='D'), Timestamp('2016-09-29 00:00:00', freq='D'), Timestamp('2015-09-24 00:00:00', freq='D'), Timestamp('2015-09-25 00:00:00', freq='D'), Timestamp('2015-09-26 00:00:00', freq='D'), Timestamp('2015-09-27 00:00:00', freq='D'), Timestamp('2015-09-28 00:00:00', freq='D'), Timestamp('2015-09-29 00:00:00', freq='D'), Timestamp('2015-09-30 00:00:00', freq='D'), Timestamp('2014-09-24 00:00:00', freq='D'), Timestamp('2014-09-25 00:00:00', freq='D'), Timestamp('2014-09-26 00:00:00', freq='D'), Timestamp('2014-09-27 00:00:00', freq='D'), Timestamp('2014-09-28 00:00:00', freq='D'), Timestamp('2014-09-29 00:00:00', freq='D'), Timestamp('2014-09-30 00:00:00', freq='D'), Timestamp('2013-09-24 00:00:00', freq='D'), Timestamp('2013-09-25 00:00:00', freq='D'), Timestamp('2013-09-26 00:00:00', freq='D'), Timestamp('2013-09-27 00:00:00', freq='D'), Timestamp('2013-09-28 00:00:00', freq='D'), Timestamp('2013-09-29 00:00:00', freq='D'), Timestamp('2013-09-30 00:00:00', freq='D')]\n"
     ]
    }
   ],
   "source": [
    "#%% create training subset\n",
    "train_dates = []\n",
    "for i in range(0,9):\n",
    "    #print(i)\n",
    "    train_dates_temp = pd.date_range(start_prev_seven - timedelta(days=365*i), periods=7)\n",
    "    train_dates_temp = train_dates_temp.tolist()\n",
    "    for j in train_dates_temp:\n",
    "        train_dates.append(j)\n",
    "\n",
    "#print(train_dates)\n",
    "#train_dates = pd.DatetimeIndex(train_dates.values)\n",
    "print(train_dates)\n",
    "train_data = last_ten_alb.loc[last_ten_alb['YEARMODA'].isin(train_dates)]"
   ]
  },
  {
   "cell_type": "code",
   "execution_count": 11,
   "id": "b9020d18",
   "metadata": {},
   "outputs": [],
   "source": [
    "#%% get average values based on last 7 days\n",
    "avg_max = train_data['MAX'].mean()\n",
    "avg_min = train_data['MIN'].mean()\n",
    "avg_prcp = train_data['I_PRCP'].mean()"
   ]
  },
  {
   "cell_type": "code",
   "execution_count": 12,
   "id": "d9d99291",
   "metadata": {},
   "outputs": [],
   "source": [
    "# format forecasts\n",
    "fc_max = forecast_functions.construct_mean_forecast_df(eval_dates, USERNAME, 'MAX', avg_max)\n",
    "fc_min = forecast_functions.construct_mean_forecast_df(eval_dates, USERNAME, 'MIN', avg_min)\n",
    "fc_prcp = forecast_functions.construct_mean_forecast_df(eval_dates, USERNAME, 'P_PRCP', avg_prcp)"
   ]
  },
  {
   "cell_type": "code",
   "execution_count": 13,
   "id": "09c87145",
   "metadata": {},
   "outputs": [],
   "source": [
    "# define columns\n",
    "column_names = ['fc_date', 'fc_name', 'fc_var', 'fc_value']\n",
    "# create empty df\n",
    "eval_df_base = pd.DataFrame(columns=column_names)"
   ]
  },
  {
   "cell_type": "code",
   "execution_count": 14,
   "id": "f469859a",
   "metadata": {},
   "outputs": [],
   "source": [
    "# append forecasts to dataframe\n",
    "eval_df_base = eval_df_base.append(fc_max, ignore_index=True)\n",
    "eval_df_base = eval_df_base.append(fc_min, ignore_index=True)\n",
    "eval_df_base = eval_df_base.append(fc_prcp, ignore_index=True)"
   ]
  },
  {
   "cell_type": "code",
   "execution_count": 15,
   "id": "72afdf68",
   "metadata": {},
   "outputs": [],
   "source": [
    "#%% save output\n",
    "outfile_name = USERNAME + '_' + prediction_start.strftime(\"%Y-%m-%d\") + '.csv'\n",
    "eval_df_base.to_csv(outfile_name, index=False)"
   ]
  },
  {
   "cell_type": "code",
   "execution_count": null,
   "id": "129c522f",
   "metadata": {},
   "outputs": [],
   "source": []
  }
 ],
 "metadata": {
  "kernelspec": {
   "display_name": "Python 3",
   "language": "python",
   "name": "python3"
  },
  "language_info": {
   "codemirror_mode": {
    "name": "ipython",
    "version": 3
   },
   "file_extension": ".py",
   "mimetype": "text/x-python",
   "name": "python",
   "nbconvert_exporter": "python",
   "pygments_lexer": "ipython3",
   "version": "3.8.8"
  }
 },
 "nbformat": 4,
 "nbformat_minor": 5
}
