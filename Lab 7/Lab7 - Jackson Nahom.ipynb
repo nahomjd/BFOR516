{
 "cells": [
  {
   "cell_type": "code",
   "execution_count": 1,
   "id": "41d74629",
   "metadata": {},
   "outputs": [],
   "source": [
    "import pandas as pd\n",
    "import numpy as np\n",
    "from datetime import datetime, timedelta\n",
    "from sklearn.ensemble import RandomForestClassifier\n",
    "from sklearn import metrics"
   ]
  },
  {
   "cell_type": "code",
   "execution_count": 2,
   "id": "a8493c47",
   "metadata": {},
   "outputs": [
    {
     "name": "stdout",
     "output_type": "stream",
     "text": [
      "Most recent date in data: 2021-10-04 00:00:00\n"
     ]
    }
   ],
   "source": [
    "weather = pd.read_csv('data/last_ten_alb.csv')\n",
    "\n",
    "\n",
    "weather['YEARMODA'] = pd.to_datetime(weather['YEARMODA'])\n",
    "print(\"Most recent date in data:\", weather['YEARMODA'].max())"
   ]
  },
  {
   "cell_type": "code",
   "execution_count": 3,
   "id": "a1a10133",
   "metadata": {},
   "outputs": [],
   "source": [
    "weather['SLP1'] = weather['SLP'].shift(1)\n",
    "weather['SLP2'] = weather['SLP'].shift(2)\n",
    "weather['SLP3'] = weather['SLP'].shift(3)"
   ]
  },
  {
   "cell_type": "code",
   "execution_count": 4,
   "id": "aff62570",
   "metadata": {},
   "outputs": [
    {
     "data": {
      "text/html": [
       "<div>\n",
       "<style scoped>\n",
       "    .dataframe tbody tr th:only-of-type {\n",
       "        vertical-align: middle;\n",
       "    }\n",
       "\n",
       "    .dataframe tbody tr th {\n",
       "        vertical-align: top;\n",
       "    }\n",
       "\n",
       "    .dataframe thead th {\n",
       "        text-align: right;\n",
       "    }\n",
       "</style>\n",
       "<table border=\"1\" class=\"dataframe\">\n",
       "  <thead>\n",
       "    <tr style=\"text-align: right;\">\n",
       "      <th></th>\n",
       "      <th>YEARMODA</th>\n",
       "      <th>SLP</th>\n",
       "      <th>SLP1</th>\n",
       "      <th>SLP2</th>\n",
       "      <th>SLP3</th>\n",
       "    </tr>\n",
       "  </thead>\n",
       "  <tbody>\n",
       "    <tr>\n",
       "      <th>0</th>\n",
       "      <td>2011-01-01</td>\n",
       "      <td>1017.7</td>\n",
       "      <td>NaN</td>\n",
       "      <td>NaN</td>\n",
       "      <td>NaN</td>\n",
       "    </tr>\n",
       "    <tr>\n",
       "      <th>1</th>\n",
       "      <td>2011-01-02</td>\n",
       "      <td>1014.2</td>\n",
       "      <td>1017.7</td>\n",
       "      <td>NaN</td>\n",
       "      <td>NaN</td>\n",
       "    </tr>\n",
       "    <tr>\n",
       "      <th>2</th>\n",
       "      <td>2011-01-03</td>\n",
       "      <td>1018.5</td>\n",
       "      <td>1014.2</td>\n",
       "      <td>1017.7</td>\n",
       "      <td>NaN</td>\n",
       "    </tr>\n",
       "    <tr>\n",
       "      <th>3</th>\n",
       "      <td>2011-01-04</td>\n",
       "      <td>1015.2</td>\n",
       "      <td>1018.5</td>\n",
       "      <td>1014.2</td>\n",
       "      <td>1017.7</td>\n",
       "    </tr>\n",
       "    <tr>\n",
       "      <th>4</th>\n",
       "      <td>2011-01-05</td>\n",
       "      <td>1009.0</td>\n",
       "      <td>1015.2</td>\n",
       "      <td>1018.5</td>\n",
       "      <td>1014.2</td>\n",
       "    </tr>\n",
       "  </tbody>\n",
       "</table>\n",
       "</div>"
      ],
      "text/plain": [
       "    YEARMODA     SLP    SLP1    SLP2    SLP3\n",
       "0 2011-01-01  1017.7     NaN     NaN     NaN\n",
       "1 2011-01-02  1014.2  1017.7     NaN     NaN\n",
       "2 2011-01-03  1018.5  1014.2  1017.7     NaN\n",
       "3 2011-01-04  1015.2  1018.5  1014.2  1017.7\n",
       "4 2011-01-05  1009.0  1015.2  1018.5  1014.2"
      ]
     },
     "metadata": {},
     "output_type": "display_data"
    }
   ],
   "source": [
    "display(weather[['YEARMODA', 'SLP', 'SLP1', 'SLP2', 'SLP3']].head())"
   ]
  },
  {
   "cell_type": "code",
   "execution_count": 5,
   "id": "72a63166",
   "metadata": {},
   "outputs": [],
   "source": [
    "pred_vars = ['YDAY', 'SLP1']\n",
    "\n",
    "# make list of all variables required to generate a forecast\n",
    "model_vars = pred_vars + ['I_PRCP']\n",
    "\n",
    "weather.dropna(subset=model_vars, inplace=True)"
   ]
  },
  {
   "cell_type": "code",
   "execution_count": 6,
   "id": "13455ea4",
   "metadata": {},
   "outputs": [],
   "source": [
    "train, test= np.split(weather, [int(.67 *len(weather))])"
   ]
  },
  {
   "cell_type": "code",
   "execution_count": 7,
   "id": "34f28d3a",
   "metadata": {},
   "outputs": [
    {
     "data": {
      "text/plain": [
       "RandomForestClassifier()"
      ]
     },
     "execution_count": 7,
     "metadata": {},
     "output_type": "execute_result"
    }
   ],
   "source": [
    "rf = RandomForestClassifier()\n",
    "\n",
    "rf.fit(train[pred_vars], train['I_PRCP'])"
   ]
  },
  {
   "cell_type": "code",
   "execution_count": 8,
   "id": "ba53862d",
   "metadata": {},
   "outputs": [
    {
     "name": "stdout",
     "output_type": "stream",
     "text": [
      "              precision    recall  f1-score   support\n",
      "\n",
      "           0    0.60195   0.67442   0.63613       731\n",
      "           1    0.50209   0.42403   0.45977       566\n",
      "\n",
      "    accuracy                        0.56515      1297\n",
      "   macro avg    0.55202   0.54922   0.54795      1297\n",
      "weighted avg    0.55837   0.56515   0.55917      1297\n",
      "\n"
     ]
    },
    {
     "data": {
      "image/png": "[encoded data removed]",
      "text/plain": [
       "<Figure size 432x288 with 2 Axes>"
      ]
     },
     "metadata": {
      "needs_background": "light"
     },
     "output_type": "display_data"
    }
   ],
   "source": [
    "# get predictions\n",
    "pred_p_prcp = rf.predict_proba(test.loc[:, pred_vars])\n",
    "pred_i_prcp = rf.predict(test.loc[:, pred_vars])\n",
    "\n",
    "# evaluation\n",
    "\n",
    "metrics.plot_confusion_matrix(rf, test.loc[:, pred_vars], test['I_PRCP'])\n",
    "print(metrics.classification_report(test['I_PRCP'], pred_i_prcp, digits=5))"
   ]
  },
  {
   "cell_type": "code",
   "execution_count": 9,
   "id": "c49b862e",
   "metadata": {},
   "outputs": [],
   "source": [
    "#https://machinelearningmastery.com/save-load-machine-learning-models-python-scikit-learn/\n",
    "import pickle\n",
    "file_name = 'rf_1day_prcp.sav' \n",
    "pickle.dump(rf, open(file_name, 'wb'))"
   ]
  },
  {
   "cell_type": "code",
   "execution_count": 10,
   "id": "fd399918",
   "metadata": {},
   "outputs": [
    {
     "name": "stdout",
     "output_type": "stream",
     "text": [
      "Most recent date in data: 2021-10-04 00:00:00\n"
     ]
    }
   ],
   "source": [
    "weather = pd.read_csv('data/last_ten_alb.csv')\n",
    "\n",
    "\n",
    "weather['YEARMODA'] = pd.to_datetime(weather['YEARMODA'])\n",
    "print(\"Most recent date in data:\", weather['YEARMODA'].max())"
   ]
  },
  {
   "cell_type": "code",
   "execution_count": 11,
   "id": "318d94f2",
   "metadata": {},
   "outputs": [
    {
     "name": "stdout",
     "output_type": "stream",
     "text": [
      "Most recent date in data: 2021-10-04 00:00:00\n"
     ]
    }
   ],
   "source": [
    "most_recent_data = weather['YEARMODA'].max()\n",
    "# https://stackoverflow.com/questions/39964558/pandas-max-value-index\n",
    "most_recent_yday = weather.loc[weather['YEARMODA'].idxmax(), 'YDAY']\n",
    "print(\"Most recent date in data:\", weather['YEARMODA'].max())\n",
    "\n",
    "\n",
    "# figure out starting dates for predictions\n",
    "prediction_start = most_recent_data + timedelta(days=1)\n",
    "prediction_start_yday = list(most_recent_yday + range(1,2))\n",
    "\n",
    "# generate list of dates for predictions\n",
    "eval_dates = pd.date_range(prediction_start, periods=1).tolist()"
   ]
  },
  {
   "cell_type": "code",
   "execution_count": 12,
   "id": "f7402357",
   "metadata": {},
   "outputs": [
    {
     "data": {
      "text/html": [
       "<div>\n",
       "<style scoped>\n",
       "    .dataframe tbody tr th:only-of-type {\n",
       "        vertical-align: middle;\n",
       "    }\n",
       "\n",
       "    .dataframe tbody tr th {\n",
       "        vertical-align: top;\n",
       "    }\n",
       "\n",
       "    .dataframe thead th {\n",
       "        text-align: right;\n",
       "    }\n",
       "</style>\n",
       "<table border=\"1\" class=\"dataframe\">\n",
       "  <thead>\n",
       "    <tr style=\"text-align: right;\">\n",
       "      <th></th>\n",
       "      <th>YEARMODA</th>\n",
       "      <th>YDAY</th>\n",
       "      <th>SLP</th>\n",
       "      <th>I_PRCP</th>\n",
       "    </tr>\n",
       "  </thead>\n",
       "  <tbody>\n",
       "    <tr>\n",
       "      <th>3926</th>\n",
       "      <td>2021-10-01</td>\n",
       "      <td>274</td>\n",
       "      <td>1022.8</td>\n",
       "      <td>0.0</td>\n",
       "    </tr>\n",
       "    <tr>\n",
       "      <th>3927</th>\n",
       "      <td>2021-10-02</td>\n",
       "      <td>275</td>\n",
       "      <td>1020.0</td>\n",
       "      <td>0.0</td>\n",
       "    </tr>\n",
       "    <tr>\n",
       "      <th>3928</th>\n",
       "      <td>2021-10-03</td>\n",
       "      <td>276</td>\n",
       "      <td>1015.1</td>\n",
       "      <td>0.0</td>\n",
       "    </tr>\n",
       "    <tr>\n",
       "      <th>3929</th>\n",
       "      <td>2021-10-04</td>\n",
       "      <td>277</td>\n",
       "      <td>1015.2</td>\n",
       "      <td>1.0</td>\n",
       "    </tr>\n",
       "    <tr>\n",
       "      <th>3930</th>\n",
       "      <td>2021-10-05</td>\n",
       "      <td>278</td>\n",
       "      <td>NaN</td>\n",
       "      <td>NaN</td>\n",
       "    </tr>\n",
       "  </tbody>\n",
       "</table>\n",
       "</div>"
      ],
      "text/plain": [
       "       YEARMODA  YDAY     SLP  I_PRCP\n",
       "3926 2021-10-01   274  1022.8     0.0\n",
       "3927 2021-10-02   275  1020.0     0.0\n",
       "3928 2021-10-03   276  1015.1     0.0\n",
       "3929 2021-10-04   277  1015.2     1.0\n",
       "3930 2021-10-05   278     NaN     NaN"
      ]
     },
     "execution_count": 12,
     "metadata": {},
     "output_type": "execute_result"
    }
   ],
   "source": [
    "predictions_df = pd.DataFrame(eval_dates, columns=['YEARMODA'])\n",
    "predictions_df['YDAY'] = prediction_start_yday\n",
    "\n",
    "\n",
    "# add these to the main dataframe\n",
    "weather = weather.append(predictions_df, ignore_index=True)\n",
    "weather[['YEARMODA', 'YDAY', 'SLP', 'I_PRCP']].tail()"
   ]
  },
  {
   "cell_type": "code",
   "execution_count": 13,
   "id": "19d446ab",
   "metadata": {},
   "outputs": [],
   "source": [
    "weather['SLP1'] = weather['SLP'].shift(1)\n",
    "weather['SLP2'] = weather['SLP'].shift(2)\n",
    "weather['SLP3'] = weather['SLP'].shift(3)"
   ]
  },
  {
   "cell_type": "code",
   "execution_count": 14,
   "id": "4aa13994",
   "metadata": {},
   "outputs": [],
   "source": [
    "prediction_set = weather[(weather['YEARMODA'] >= prediction_start)].copy()"
   ]
  },
  {
   "cell_type": "code",
   "execution_count": 15,
   "id": "34c0ce2b",
   "metadata": {},
   "outputs": [
    {
     "data": {
      "text/html": [
       "<div>\n",
       "<style scoped>\n",
       "    .dataframe tbody tr th:only-of-type {\n",
       "        vertical-align: middle;\n",
       "    }\n",
       "\n",
       "    .dataframe tbody tr th {\n",
       "        vertical-align: top;\n",
       "    }\n",
       "\n",
       "    .dataframe thead th {\n",
       "        text-align: right;\n",
       "    }\n",
       "</style>\n",
       "<table border=\"1\" class=\"dataframe\">\n",
       "  <thead>\n",
       "    <tr style=\"text-align: right;\">\n",
       "      <th></th>\n",
       "      <th>Unnamed: 0</th>\n",
       "      <th>STNID</th>\n",
       "      <th>NAME</th>\n",
       "      <th>CTRY</th>\n",
       "      <th>COUNTRY_NAME</th>\n",
       "      <th>ISO2C</th>\n",
       "      <th>ISO3C</th>\n",
       "      <th>STATE</th>\n",
       "      <th>LATITUDE</th>\n",
       "      <th>LONGITUDE</th>\n",
       "      <th>...</th>\n",
       "      <th>I_HAIL</th>\n",
       "      <th>I_THUNDER</th>\n",
       "      <th>I_TORNADO_FUNNEL</th>\n",
       "      <th>EA</th>\n",
       "      <th>ES</th>\n",
       "      <th>RH</th>\n",
       "      <th>I_PRCP</th>\n",
       "      <th>SLP1</th>\n",
       "      <th>SLP2</th>\n",
       "      <th>SLP3</th>\n",
       "    </tr>\n",
       "  </thead>\n",
       "  <tbody>\n",
       "    <tr>\n",
       "      <th>3930</th>\n",
       "      <td>NaN</td>\n",
       "      <td>NaN</td>\n",
       "      <td>NaN</td>\n",
       "      <td>NaN</td>\n",
       "      <td>NaN</td>\n",
       "      <td>NaN</td>\n",
       "      <td>NaN</td>\n",
       "      <td>NaN</td>\n",
       "      <td>NaN</td>\n",
       "      <td>NaN</td>\n",
       "      <td>...</td>\n",
       "      <td>NaN</td>\n",
       "      <td>NaN</td>\n",
       "      <td>NaN</td>\n",
       "      <td>NaN</td>\n",
       "      <td>NaN</td>\n",
       "      <td>NaN</td>\n",
       "      <td>NaN</td>\n",
       "      <td>1015.2</td>\n",
       "      <td>1015.1</td>\n",
       "      <td>1020.0</td>\n",
       "    </tr>\n",
       "  </tbody>\n",
       "</table>\n",
       "<p>1 rows × 52 columns</p>\n",
       "</div>"
      ],
      "text/plain": [
       "      Unnamed: 0 STNID NAME CTRY COUNTRY_NAME ISO2C ISO3C STATE  LATITUDE  \\\n",
       "3930         NaN   NaN  NaN  NaN          NaN   NaN   NaN   NaN       NaN   \n",
       "\n",
       "      LONGITUDE  ...  I_HAIL  I_THUNDER  I_TORNADO_FUNNEL  EA  ES  RH  I_PRCP  \\\n",
       "3930        NaN  ...     NaN        NaN               NaN NaN NaN NaN     NaN   \n",
       "\n",
       "        SLP1    SLP2    SLP3  \n",
       "3930  1015.2  1015.1  1020.0  \n",
       "\n",
       "[1 rows x 52 columns]"
      ]
     },
     "execution_count": 15,
     "metadata": {},
     "output_type": "execute_result"
    }
   ],
   "source": [
    "prediction_set.head() # see the lagged columns on the end?"
   ]
  },
  {
   "cell_type": "code",
   "execution_count": 16,
   "id": "3a4bc54e",
   "metadata": {},
   "outputs": [],
   "source": [
    "rf = pickle.load(open(file_name, 'rb'))"
   ]
  },
  {
   "cell_type": "code",
   "execution_count": 17,
   "id": "867abdee",
   "metadata": {},
   "outputs": [],
   "source": [
    "prediction_set['P_PRCP'] = rf.predict_proba(prediction_set[pred_vars])[:,1]"
   ]
  },
  {
   "cell_type": "code",
   "execution_count": 18,
   "id": "a680eb5f",
   "metadata": {},
   "outputs": [
    {
     "data": {
      "text/html": [
       "<div>\n",
       "<style scoped>\n",
       "    .dataframe tbody tr th:only-of-type {\n",
       "        vertical-align: middle;\n",
       "    }\n",
       "\n",
       "    .dataframe tbody tr th {\n",
       "        vertical-align: top;\n",
       "    }\n",
       "\n",
       "    .dataframe thead th {\n",
       "        text-align: right;\n",
       "    }\n",
       "</style>\n",
       "<table border=\"1\" class=\"dataframe\">\n",
       "  <thead>\n",
       "    <tr style=\"text-align: right;\">\n",
       "      <th></th>\n",
       "      <th>Unnamed: 0</th>\n",
       "      <th>STNID</th>\n",
       "      <th>NAME</th>\n",
       "      <th>CTRY</th>\n",
       "      <th>COUNTRY_NAME</th>\n",
       "      <th>ISO2C</th>\n",
       "      <th>ISO3C</th>\n",
       "      <th>STATE</th>\n",
       "      <th>LATITUDE</th>\n",
       "      <th>LONGITUDE</th>\n",
       "      <th>...</th>\n",
       "      <th>I_THUNDER</th>\n",
       "      <th>I_TORNADO_FUNNEL</th>\n",
       "      <th>EA</th>\n",
       "      <th>ES</th>\n",
       "      <th>RH</th>\n",
       "      <th>I_PRCP</th>\n",
       "      <th>SLP1</th>\n",
       "      <th>SLP2</th>\n",
       "      <th>SLP3</th>\n",
       "      <th>P_PRCP</th>\n",
       "    </tr>\n",
       "  </thead>\n",
       "  <tbody>\n",
       "    <tr>\n",
       "      <th>3930</th>\n",
       "      <td>NaN</td>\n",
       "      <td>NaN</td>\n",
       "      <td>NaN</td>\n",
       "      <td>NaN</td>\n",
       "      <td>NaN</td>\n",
       "      <td>NaN</td>\n",
       "      <td>NaN</td>\n",
       "      <td>NaN</td>\n",
       "      <td>NaN</td>\n",
       "      <td>NaN</td>\n",
       "      <td>...</td>\n",
       "      <td>NaN</td>\n",
       "      <td>NaN</td>\n",
       "      <td>NaN</td>\n",
       "      <td>NaN</td>\n",
       "      <td>NaN</td>\n",
       "      <td>NaN</td>\n",
       "      <td>1015.2</td>\n",
       "      <td>1015.1</td>\n",
       "      <td>1020.0</td>\n",
       "      <td>0.61</td>\n",
       "    </tr>\n",
       "  </tbody>\n",
       "</table>\n",
       "<p>1 rows × 53 columns</p>\n",
       "</div>"
      ],
      "text/plain": [
       "      Unnamed: 0 STNID NAME CTRY COUNTRY_NAME ISO2C ISO3C STATE  LATITUDE  \\\n",
       "3930         NaN   NaN  NaN  NaN          NaN   NaN   NaN   NaN       NaN   \n",
       "\n",
       "      LONGITUDE  ...  I_THUNDER  I_TORNADO_FUNNEL  EA  ES  RH  I_PRCP    SLP1  \\\n",
       "3930        NaN  ...        NaN               NaN NaN NaN NaN     NaN  1015.2   \n",
       "\n",
       "        SLP2    SLP3  P_PRCP  \n",
       "3930  1015.1  1020.0    0.61  \n",
       "\n",
       "[1 rows x 53 columns]"
      ]
     },
     "execution_count": 18,
     "metadata": {},
     "output_type": "execute_result"
    }
   ],
   "source": [
    "prediction_set.head() # now  we have a probability of  rain for a date not yet in the data!"
   ]
  },
  {
   "cell_type": "markdown",
   "id": "377595dd",
   "metadata": {},
   "source": [
    "# Tasks\n",
    "\n",
    "\n",
    "1. How would you go about building a model that predicts more than a day ahead? Implement a model that can predict precipitation three days in the future. Evaluation statistics.\n",
    "    \n",
    "2. Try using at least one other data type (rather than SLP (sea-level pressure) to predict the probability of rain. Does your model improve? Evaluation statistics."
   ]
  },
  {
   "cell_type": "code",
   "execution_count": 22,
   "id": "60bee530",
   "metadata": {},
   "outputs": [
    {
     "name": "stdout",
     "output_type": "stream",
     "text": [
      "Most recent date in data: 2021-10-04 00:00:00\n"
     ]
    }
   ],
   "source": [
    "weather_2 = pd.read_csv('data/last_ten_alb.csv')\n",
    "\n",
    "\n",
    "weather_2['YEARMODA'] = pd.to_datetime(weather_2['YEARMODA'])\n",
    "print(\"Most recent date in data:\", weather_2['YEARMODA'].max())"
   ]
  },
  {
   "cell_type": "code",
   "execution_count": 23,
   "id": "698fb994",
   "metadata": {},
   "outputs": [],
   "source": [
    "weather_2['SLP1'] = weather_2['SLP'].shift(1)\n",
    "weather_2['SLP2'] = weather_2['SLP'].shift(2)\n",
    "weather_2['SLP3'] = weather_2['SLP'].shift(3)"
   ]
  },
  {
   "cell_type": "code",
   "execution_count": 24,
   "id": "1de87cc7",
   "metadata": {},
   "outputs": [
    {
     "data": {
      "text/html": [
       "<div>\n",
       "<style scoped>\n",
       "    .dataframe tbody tr th:only-of-type {\n",
       "        vertical-align: middle;\n",
       "    }\n",
       "\n",
       "    .dataframe tbody tr th {\n",
       "        vertical-align: top;\n",
       "    }\n",
       "\n",
       "    .dataframe thead th {\n",
       "        text-align: right;\n",
       "    }\n",
       "</style>\n",
       "<table border=\"1\" class=\"dataframe\">\n",
       "  <thead>\n",
       "    <tr style=\"text-align: right;\">\n",
       "      <th></th>\n",
       "      <th>YEARMODA</th>\n",
       "      <th>SLP</th>\n",
       "      <th>SLP1</th>\n",
       "      <th>SLP2</th>\n",
       "      <th>SLP3</th>\n",
       "    </tr>\n",
       "  </thead>\n",
       "  <tbody>\n",
       "    <tr>\n",
       "      <th>0</th>\n",
       "      <td>2011-01-01</td>\n",
       "      <td>1017.7</td>\n",
       "      <td>NaN</td>\n",
       "      <td>NaN</td>\n",
       "      <td>NaN</td>\n",
       "    </tr>\n",
       "    <tr>\n",
       "      <th>1</th>\n",
       "      <td>2011-01-02</td>\n",
       "      <td>1014.2</td>\n",
       "      <td>1017.7</td>\n",
       "      <td>NaN</td>\n",
       "      <td>NaN</td>\n",
       "    </tr>\n",
       "    <tr>\n",
       "      <th>2</th>\n",
       "      <td>2011-01-03</td>\n",
       "      <td>1018.5</td>\n",
       "      <td>1014.2</td>\n",
       "      <td>1017.7</td>\n",
       "      <td>NaN</td>\n",
       "    </tr>\n",
       "    <tr>\n",
       "      <th>3</th>\n",
       "      <td>2011-01-04</td>\n",
       "      <td>1015.2</td>\n",
       "      <td>1018.5</td>\n",
       "      <td>1014.2</td>\n",
       "      <td>1017.7</td>\n",
       "    </tr>\n",
       "    <tr>\n",
       "      <th>4</th>\n",
       "      <td>2011-01-05</td>\n",
       "      <td>1009.0</td>\n",
       "      <td>1015.2</td>\n",
       "      <td>1018.5</td>\n",
       "      <td>1014.2</td>\n",
       "    </tr>\n",
       "  </tbody>\n",
       "</table>\n",
       "</div>"
      ],
      "text/plain": [
       "    YEARMODA     SLP    SLP1    SLP2    SLP3\n",
       "0 2011-01-01  1017.7     NaN     NaN     NaN\n",
       "1 2011-01-02  1014.2  1017.7     NaN     NaN\n",
       "2 2011-01-03  1018.5  1014.2  1017.7     NaN\n",
       "3 2011-01-04  1015.2  1018.5  1014.2  1017.7\n",
       "4 2011-01-05  1009.0  1015.2  1018.5  1014.2"
      ]
     },
     "metadata": {},
     "output_type": "display_data"
    }
   ],
   "source": [
    "display(weather_2[['YEARMODA', 'SLP', 'SLP1', 'SLP2', 'SLP3']].head())"
   ]
  },
  {
   "cell_type": "code",
   "execution_count": 25,
   "id": "65b8f3ae",
   "metadata": {},
   "outputs": [],
   "source": [
    "pred_vars_2 = ['YDAY', 'SLP3']\n",
    "\n",
    "# make list of all variables required to generate a forecast\n",
    "model_vars = pred_vars_2 + ['I_PRCP']\n",
    "\n",
    "weather_2.dropna(subset=model_vars, inplace=True)"
   ]
  },
  {
   "cell_type": "code",
   "execution_count": 26,
   "id": "cc0ad03a",
   "metadata": {},
   "outputs": [],
   "source": [
    "train, test_2= np.split(weather_2, [int(.67 *len(weather_2))])"
   ]
  },
  {
   "cell_type": "code",
   "execution_count": 27,
   "id": "f6059ac5",
   "metadata": {},
   "outputs": [
    {
     "data": {
      "text/plain": [
       "RandomForestClassifier()"
      ]
     },
     "execution_count": 27,
     "metadata": {},
     "output_type": "execute_result"
    }
   ],
   "source": [
    "rf_2 = RandomForestClassifier()\n",
    "\n",
    "rf_2.fit(train[pred_vars], train['I_PRCP'])"
   ]
  },
  {
   "cell_type": "code",
   "execution_count": 28,
   "id": "5cf27213",
   "metadata": {},
   "outputs": [
    {
     "name": "stdout",
     "output_type": "stream",
     "text": [
      "              precision    recall  f1-score   support\n",
      "\n",
      "           0    0.56459   0.64658   0.60281       730\n",
      "           1    0.43913   0.35689   0.39376       566\n",
      "\n",
      "    accuracy                        0.52006      1296\n",
      "   macro avg    0.50186   0.50173   0.49829      1296\n",
      "weighted avg    0.50980   0.52006   0.51151      1296\n",
      "\n"
     ]
    },
    {
     "data": {
      "image/png": "[encoded data removed]",
      "text/plain": [
       "<Figure size 432x288 with 2 Axes>"
      ]
     },
     "metadata": {
      "needs_background": "light"
     },
     "output_type": "display_data"
    }
   ],
   "source": [
    "# get predictions\n",
    "pred_p_prcp = rf_2.predict_proba(test_2.loc[:, pred_vars_2])\n",
    "pred_i_prcp = rf_2.predict(test_2.loc[:, pred_vars_2])\n",
    "\n",
    "# evaluation\n",
    "\n",
    "metrics.plot_confusion_matrix(rf_2, test_2.loc[:, pred_vars_2], test_2['I_PRCP'])\n",
    "print(metrics.classification_report(test_2['I_PRCP'], pred_i_prcp, digits=5))"
   ]
  },
  {
   "cell_type": "code",
   "execution_count": 29,
   "id": "3d5abcb8",
   "metadata": {},
   "outputs": [],
   "source": [
    "#https://machinelearningmastery.com/save-load-machine-learning-models-python-scikit-learn/\n",
    "import pickle\n",
    "file_name = 'rf_3day_prcp.sav' \n",
    "pickle.dump(rf_2, open(file_name, 'wb'))"
   ]
  },
  {
   "cell_type": "code",
   "execution_count": 30,
   "id": "780b24a0",
   "metadata": {},
   "outputs": [
    {
     "name": "stdout",
     "output_type": "stream",
     "text": [
      "Most recent date in data: 2021-10-04 00:00:00\n"
     ]
    }
   ],
   "source": [
    "weather_test = pd.read_csv('data/last_ten_alb.csv')\n",
    "\n",
    "\n",
    "weather_test['YEARMODA'] = pd.to_datetime(weather_test['YEARMODA'])\n",
    "print(\"Most recent date in data:\", weather_test['YEARMODA'].max())"
   ]
  },
  {
   "cell_type": "code",
   "execution_count": 31,
   "id": "2ca6f919",
   "metadata": {},
   "outputs": [
    {
     "name": "stdout",
     "output_type": "stream",
     "text": [
      "Most recent date in data: 2021-10-04 00:00:00\n"
     ]
    }
   ],
   "source": [
    "most_recent_data = weather['YEARMODA'].max()\n",
    "# https://stackoverflow.com/questions/39964558/pandas-max-value-index\n",
    "most_recent_yday = weather_test.loc[weather_test['YEARMODA'].idxmax(), 'YDAY']\n",
    "print(\"Most recent date in data:\", weather_test['YEARMODA'].max())\n",
    "\n",
    "\n",
    "# figure out starting dates for predictions\n",
    "prediction_start = most_recent_data + timedelta(days=1)\n",
    "prediction_start_yday = list(most_recent_yday + range(1,4))\n",
    "\n",
    "# generate list of dates for predictions\n",
    "eval_dates = pd.date_range(prediction_start, periods=3).tolist()"
   ]
  },
  {
   "cell_type": "code",
   "execution_count": 32,
   "id": "8436c0ee",
   "metadata": {},
   "outputs": [
    {
     "data": {
      "text/plain": [
       "[278, 279, 280]"
      ]
     },
     "execution_count": 32,
     "metadata": {},
     "output_type": "execute_result"
    }
   ],
   "source": [
    "prediction_start_yday"
   ]
  },
  {
   "cell_type": "code",
   "execution_count": 33,
   "id": "4ab73c2c",
   "metadata": {},
   "outputs": [
    {
     "data": {
      "text/html": [
       "<div>\n",
       "<style scoped>\n",
       "    .dataframe tbody tr th:only-of-type {\n",
       "        vertical-align: middle;\n",
       "    }\n",
       "\n",
       "    .dataframe tbody tr th {\n",
       "        vertical-align: top;\n",
       "    }\n",
       "\n",
       "    .dataframe thead th {\n",
       "        text-align: right;\n",
       "    }\n",
       "</style>\n",
       "<table border=\"1\" class=\"dataframe\">\n",
       "  <thead>\n",
       "    <tr style=\"text-align: right;\">\n",
       "      <th></th>\n",
       "      <th>YEARMODA</th>\n",
       "      <th>YDAY</th>\n",
       "      <th>SLP</th>\n",
       "      <th>I_PRCP</th>\n",
       "    </tr>\n",
       "  </thead>\n",
       "  <tbody>\n",
       "    <tr>\n",
       "      <th>3928</th>\n",
       "      <td>2021-10-03</td>\n",
       "      <td>276</td>\n",
       "      <td>1015.1</td>\n",
       "      <td>0.0</td>\n",
       "    </tr>\n",
       "    <tr>\n",
       "      <th>3929</th>\n",
       "      <td>2021-10-04</td>\n",
       "      <td>277</td>\n",
       "      <td>1015.2</td>\n",
       "      <td>1.0</td>\n",
       "    </tr>\n",
       "    <tr>\n",
       "      <th>3930</th>\n",
       "      <td>2021-10-06</td>\n",
       "      <td>278</td>\n",
       "      <td>NaN</td>\n",
       "      <td>NaN</td>\n",
       "    </tr>\n",
       "    <tr>\n",
       "      <th>3931</th>\n",
       "      <td>2021-10-07</td>\n",
       "      <td>279</td>\n",
       "      <td>NaN</td>\n",
       "      <td>NaN</td>\n",
       "    </tr>\n",
       "    <tr>\n",
       "      <th>3932</th>\n",
       "      <td>2021-10-08</td>\n",
       "      <td>280</td>\n",
       "      <td>NaN</td>\n",
       "      <td>NaN</td>\n",
       "    </tr>\n",
       "  </tbody>\n",
       "</table>\n",
       "</div>"
      ],
      "text/plain": [
       "       YEARMODA  YDAY     SLP  I_PRCP\n",
       "3928 2021-10-03   276  1015.1     0.0\n",
       "3929 2021-10-04   277  1015.2     1.0\n",
       "3930 2021-10-06   278     NaN     NaN\n",
       "3931 2021-10-07   279     NaN     NaN\n",
       "3932 2021-10-08   280     NaN     NaN"
      ]
     },
     "execution_count": 33,
     "metadata": {},
     "output_type": "execute_result"
    }
   ],
   "source": [
    "predictions_df = pd.DataFrame(eval_dates, columns=['YEARMODA'])\n",
    "predictions_df['YDAY'] = prediction_start_yday\n",
    "\n",
    "\n",
    "# add these to the main dataframe\n",
    "weather_test = weather_test.append(predictions_df, ignore_index=True)\n",
    "weather_test[['YEARMODA', 'YDAY', 'SLP', 'I_PRCP']].tail()"
   ]
  },
  {
   "cell_type": "code",
   "execution_count": 34,
   "id": "145c29a3",
   "metadata": {},
   "outputs": [],
   "source": [
    "weather_test['SLP1'] = weather_test['SLP'].shift(1)\n",
    "weather_test['SLP2'] = weather_test['SLP'].shift(2)\n",
    "weather_test['SLP3'] = weather_test['SLP'].shift(3)"
   ]
  },
  {
   "cell_type": "code",
   "execution_count": 35,
   "id": "875c7d92",
   "metadata": {},
   "outputs": [],
   "source": [
    "prediction_set = weather_test[(weather_test['YEARMODA'] >= prediction_start)].copy()"
   ]
  },
  {
   "cell_type": "code",
   "execution_count": 36,
   "id": "e9410225",
   "metadata": {},
   "outputs": [
    {
     "data": {
      "text/html": [
       "<div>\n",
       "<style scoped>\n",
       "    .dataframe tbody tr th:only-of-type {\n",
       "        vertical-align: middle;\n",
       "    }\n",
       "\n",
       "    .dataframe tbody tr th {\n",
       "        vertical-align: top;\n",
       "    }\n",
       "\n",
       "    .dataframe thead th {\n",
       "        text-align: right;\n",
       "    }\n",
       "</style>\n",
       "<table border=\"1\" class=\"dataframe\">\n",
       "  <thead>\n",
       "    <tr style=\"text-align: right;\">\n",
       "      <th></th>\n",
       "      <th>Unnamed: 0</th>\n",
       "      <th>STNID</th>\n",
       "      <th>NAME</th>\n",
       "      <th>CTRY</th>\n",
       "      <th>COUNTRY_NAME</th>\n",
       "      <th>ISO2C</th>\n",
       "      <th>ISO3C</th>\n",
       "      <th>STATE</th>\n",
       "      <th>LATITUDE</th>\n",
       "      <th>LONGITUDE</th>\n",
       "      <th>...</th>\n",
       "      <th>I_HAIL</th>\n",
       "      <th>I_THUNDER</th>\n",
       "      <th>I_TORNADO_FUNNEL</th>\n",
       "      <th>EA</th>\n",
       "      <th>ES</th>\n",
       "      <th>RH</th>\n",
       "      <th>I_PRCP</th>\n",
       "      <th>SLP1</th>\n",
       "      <th>SLP2</th>\n",
       "      <th>SLP3</th>\n",
       "    </tr>\n",
       "  </thead>\n",
       "  <tbody>\n",
       "    <tr>\n",
       "      <th>3930</th>\n",
       "      <td>NaN</td>\n",
       "      <td>NaN</td>\n",
       "      <td>NaN</td>\n",
       "      <td>NaN</td>\n",
       "      <td>NaN</td>\n",
       "      <td>NaN</td>\n",
       "      <td>NaN</td>\n",
       "      <td>NaN</td>\n",
       "      <td>NaN</td>\n",
       "      <td>NaN</td>\n",
       "      <td>...</td>\n",
       "      <td>NaN</td>\n",
       "      <td>NaN</td>\n",
       "      <td>NaN</td>\n",
       "      <td>NaN</td>\n",
       "      <td>NaN</td>\n",
       "      <td>NaN</td>\n",
       "      <td>NaN</td>\n",
       "      <td>1015.2</td>\n",
       "      <td>1015.1</td>\n",
       "      <td>1020.0</td>\n",
       "    </tr>\n",
       "    <tr>\n",
       "      <th>3931</th>\n",
       "      <td>NaN</td>\n",
       "      <td>NaN</td>\n",
       "      <td>NaN</td>\n",
       "      <td>NaN</td>\n",
       "      <td>NaN</td>\n",
       "      <td>NaN</td>\n",
       "      <td>NaN</td>\n",
       "      <td>NaN</td>\n",
       "      <td>NaN</td>\n",
       "      <td>NaN</td>\n",
       "      <td>...</td>\n",
       "      <td>NaN</td>\n",
       "      <td>NaN</td>\n",
       "      <td>NaN</td>\n",
       "      <td>NaN</td>\n",
       "      <td>NaN</td>\n",
       "      <td>NaN</td>\n",
       "      <td>NaN</td>\n",
       "      <td>NaN</td>\n",
       "      <td>1015.2</td>\n",
       "      <td>1015.1</td>\n",
       "    </tr>\n",
       "    <tr>\n",
       "      <th>3932</th>\n",
       "      <td>NaN</td>\n",
       "      <td>NaN</td>\n",
       "      <td>NaN</td>\n",
       "      <td>NaN</td>\n",
       "      <td>NaN</td>\n",
       "      <td>NaN</td>\n",
       "      <td>NaN</td>\n",
       "      <td>NaN</td>\n",
       "      <td>NaN</td>\n",
       "      <td>NaN</td>\n",
       "      <td>...</td>\n",
       "      <td>NaN</td>\n",
       "      <td>NaN</td>\n",
       "      <td>NaN</td>\n",
       "      <td>NaN</td>\n",
       "      <td>NaN</td>\n",
       "      <td>NaN</td>\n",
       "      <td>NaN</td>\n",
       "      <td>NaN</td>\n",
       "      <td>NaN</td>\n",
       "      <td>1015.2</td>\n",
       "    </tr>\n",
       "  </tbody>\n",
       "</table>\n",
       "<p>3 rows × 52 columns</p>\n",
       "</div>"
      ],
      "text/plain": [
       "      Unnamed: 0 STNID NAME CTRY COUNTRY_NAME ISO2C ISO3C STATE  LATITUDE  \\\n",
       "3930         NaN   NaN  NaN  NaN          NaN   NaN   NaN   NaN       NaN   \n",
       "3931         NaN   NaN  NaN  NaN          NaN   NaN   NaN   NaN       NaN   \n",
       "3932         NaN   NaN  NaN  NaN          NaN   NaN   NaN   NaN       NaN   \n",
       "\n",
       "      LONGITUDE  ...  I_HAIL  I_THUNDER  I_TORNADO_FUNNEL  EA  ES  RH  I_PRCP  \\\n",
       "3930        NaN  ...     NaN        NaN               NaN NaN NaN NaN     NaN   \n",
       "3931        NaN  ...     NaN        NaN               NaN NaN NaN NaN     NaN   \n",
       "3932        NaN  ...     NaN        NaN               NaN NaN NaN NaN     NaN   \n",
       "\n",
       "        SLP1    SLP2    SLP3  \n",
       "3930  1015.2  1015.1  1020.0  \n",
       "3931     NaN  1015.2  1015.1  \n",
       "3932     NaN     NaN  1015.2  \n",
       "\n",
       "[3 rows x 52 columns]"
      ]
     },
     "execution_count": 36,
     "metadata": {},
     "output_type": "execute_result"
    }
   ],
   "source": [
    "prediction_set.head()"
   ]
  },
  {
   "cell_type": "code",
   "execution_count": 37,
   "id": "41a1f616",
   "metadata": {},
   "outputs": [],
   "source": [
    "rf_2 = pickle.load(open(file_name, 'rb'))"
   ]
  },
  {
   "cell_type": "code",
   "execution_count": 38,
   "id": "48305737",
   "metadata": {},
   "outputs": [],
   "source": [
    "prediction_set['P_PRCP'] = rf_2.predict_proba(prediction_set[pred_vars_2])[:,1]"
   ]
  },
  {
   "cell_type": "code",
   "execution_count": 39,
   "id": "06dda76a",
   "metadata": {},
   "outputs": [
    {
     "data": {
      "text/html": [
       "<div>\n",
       "<style scoped>\n",
       "    .dataframe tbody tr th:only-of-type {\n",
       "        vertical-align: middle;\n",
       "    }\n",
       "\n",
       "    .dataframe tbody tr th {\n",
       "        vertical-align: top;\n",
       "    }\n",
       "\n",
       "    .dataframe thead th {\n",
       "        text-align: right;\n",
       "    }\n",
       "</style>\n",
       "<table border=\"1\" class=\"dataframe\">\n",
       "  <thead>\n",
       "    <tr style=\"text-align: right;\">\n",
       "      <th></th>\n",
       "      <th>Unnamed: 0</th>\n",
       "      <th>STNID</th>\n",
       "      <th>NAME</th>\n",
       "      <th>CTRY</th>\n",
       "      <th>COUNTRY_NAME</th>\n",
       "      <th>ISO2C</th>\n",
       "      <th>ISO3C</th>\n",
       "      <th>STATE</th>\n",
       "      <th>LATITUDE</th>\n",
       "      <th>LONGITUDE</th>\n",
       "      <th>...</th>\n",
       "      <th>I_THUNDER</th>\n",
       "      <th>I_TORNADO_FUNNEL</th>\n",
       "      <th>EA</th>\n",
       "      <th>ES</th>\n",
       "      <th>RH</th>\n",
       "      <th>I_PRCP</th>\n",
       "      <th>SLP1</th>\n",
       "      <th>SLP2</th>\n",
       "      <th>SLP3</th>\n",
       "      <th>P_PRCP</th>\n",
       "    </tr>\n",
       "  </thead>\n",
       "  <tbody>\n",
       "    <tr>\n",
       "      <th>3930</th>\n",
       "      <td>NaN</td>\n",
       "      <td>NaN</td>\n",
       "      <td>NaN</td>\n",
       "      <td>NaN</td>\n",
       "      <td>NaN</td>\n",
       "      <td>NaN</td>\n",
       "      <td>NaN</td>\n",
       "      <td>NaN</td>\n",
       "      <td>NaN</td>\n",
       "      <td>NaN</td>\n",
       "      <td>...</td>\n",
       "      <td>NaN</td>\n",
       "      <td>NaN</td>\n",
       "      <td>NaN</td>\n",
       "      <td>NaN</td>\n",
       "      <td>NaN</td>\n",
       "      <td>NaN</td>\n",
       "      <td>1015.2</td>\n",
       "      <td>1015.1</td>\n",
       "      <td>1020.0</td>\n",
       "      <td>0.25</td>\n",
       "    </tr>\n",
       "    <tr>\n",
       "      <th>3931</th>\n",
       "      <td>NaN</td>\n",
       "      <td>NaN</td>\n",
       "      <td>NaN</td>\n",
       "      <td>NaN</td>\n",
       "      <td>NaN</td>\n",
       "      <td>NaN</td>\n",
       "      <td>NaN</td>\n",
       "      <td>NaN</td>\n",
       "      <td>NaN</td>\n",
       "      <td>NaN</td>\n",
       "      <td>...</td>\n",
       "      <td>NaN</td>\n",
       "      <td>NaN</td>\n",
       "      <td>NaN</td>\n",
       "      <td>NaN</td>\n",
       "      <td>NaN</td>\n",
       "      <td>NaN</td>\n",
       "      <td>NaN</td>\n",
       "      <td>1015.2</td>\n",
       "      <td>1015.1</td>\n",
       "      <td>0.69</td>\n",
       "    </tr>\n",
       "    <tr>\n",
       "      <th>3932</th>\n",
       "      <td>NaN</td>\n",
       "      <td>NaN</td>\n",
       "      <td>NaN</td>\n",
       "      <td>NaN</td>\n",
       "      <td>NaN</td>\n",
       "      <td>NaN</td>\n",
       "      <td>NaN</td>\n",
       "      <td>NaN</td>\n",
       "      <td>NaN</td>\n",
       "      <td>NaN</td>\n",
       "      <td>...</td>\n",
       "      <td>NaN</td>\n",
       "      <td>NaN</td>\n",
       "      <td>NaN</td>\n",
       "      <td>NaN</td>\n",
       "      <td>NaN</td>\n",
       "      <td>NaN</td>\n",
       "      <td>NaN</td>\n",
       "      <td>NaN</td>\n",
       "      <td>1015.2</td>\n",
       "      <td>0.73</td>\n",
       "    </tr>\n",
       "  </tbody>\n",
       "</table>\n",
       "<p>3 rows × 53 columns</p>\n",
       "</div>"
      ],
      "text/plain": [
       "      Unnamed: 0 STNID NAME CTRY COUNTRY_NAME ISO2C ISO3C STATE  LATITUDE  \\\n",
       "3930         NaN   NaN  NaN  NaN          NaN   NaN   NaN   NaN       NaN   \n",
       "3931         NaN   NaN  NaN  NaN          NaN   NaN   NaN   NaN       NaN   \n",
       "3932         NaN   NaN  NaN  NaN          NaN   NaN   NaN   NaN       NaN   \n",
       "\n",
       "      LONGITUDE  ...  I_THUNDER  I_TORNADO_FUNNEL  EA  ES  RH  I_PRCP    SLP1  \\\n",
       "3930        NaN  ...        NaN               NaN NaN NaN NaN     NaN  1015.2   \n",
       "3931        NaN  ...        NaN               NaN NaN NaN NaN     NaN     NaN   \n",
       "3932        NaN  ...        NaN               NaN NaN NaN NaN     NaN     NaN   \n",
       "\n",
       "        SLP2    SLP3  P_PRCP  \n",
       "3930  1015.1  1020.0    0.25  \n",
       "3931  1015.2  1015.1    0.69  \n",
       "3932     NaN  1015.2    0.73  \n",
       "\n",
       "[3 rows x 53 columns]"
      ]
     },
     "execution_count": 39,
     "metadata": {},
     "output_type": "execute_result"
    }
   ],
   "source": [
    "prediction_set.head() # now  we have a probability of  rain for a date not yet in the data!"
   ]
  },
  {
   "cell_type": "code",
   "execution_count": 40,
   "id": "07f8e4a5",
   "metadata": {},
   "outputs": [],
   "source": [
    "prediction_set.to_csv('3dayPred.csv')"
   ]
  },
  {
   "cell_type": "markdown",
   "id": "0987eee9",
   "metadata": {},
   "source": [
    "# Task 2\n",
    "\n",
    "Try using at least one other data type (rather than SLP (sea-level pressure) to predict the probability of rain. Does your model improve? Evaluation statistics."
   ]
  },
  {
   "cell_type": "code",
   "execution_count": 41,
   "id": "51f81e61",
   "metadata": {},
   "outputs": [
    {
     "name": "stdout",
     "output_type": "stream",
     "text": [
      "Most recent date in data: 2021-10-04 00:00:00\n"
     ]
    }
   ],
   "source": [
    "weather_3 = pd.read_csv('data/last_ten_alb.csv')\n",
    "\n",
    "\n",
    "weather_3['YEARMODA'] = pd.to_datetime(weather_3['YEARMODA'])\n",
    "print(\"Most recent date in data:\", weather_3['YEARMODA'].max())"
   ]
  },
  {
   "cell_type": "code",
   "execution_count": 42,
   "id": "863cd7eb",
   "metadata": {},
   "outputs": [
    {
     "data": {
      "text/html": [
       "<div>\n",
       "<style scoped>\n",
       "    .dataframe tbody tr th:only-of-type {\n",
       "        vertical-align: middle;\n",
       "    }\n",
       "\n",
       "    .dataframe tbody tr th {\n",
       "        vertical-align: top;\n",
       "    }\n",
       "\n",
       "    .dataframe thead th {\n",
       "        text-align: right;\n",
       "    }\n",
       "</style>\n",
       "<table border=\"1\" class=\"dataframe\">\n",
       "  <thead>\n",
       "    <tr style=\"text-align: right;\">\n",
       "      <th></th>\n",
       "      <th>Unnamed: 0</th>\n",
       "      <th>STNID</th>\n",
       "      <th>NAME</th>\n",
       "      <th>CTRY</th>\n",
       "      <th>COUNTRY_NAME</th>\n",
       "      <th>ISO2C</th>\n",
       "      <th>ISO3C</th>\n",
       "      <th>STATE</th>\n",
       "      <th>LATITUDE</th>\n",
       "      <th>LONGITUDE</th>\n",
       "      <th>...</th>\n",
       "      <th>I_FOG</th>\n",
       "      <th>I_RAIN_DRIZZLE</th>\n",
       "      <th>I_SNOW_ICE</th>\n",
       "      <th>I_HAIL</th>\n",
       "      <th>I_THUNDER</th>\n",
       "      <th>I_TORNADO_FUNNEL</th>\n",
       "      <th>EA</th>\n",
       "      <th>ES</th>\n",
       "      <th>RH</th>\n",
       "      <th>I_PRCP</th>\n",
       "    </tr>\n",
       "  </thead>\n",
       "  <tbody>\n",
       "    <tr>\n",
       "      <th>0</th>\n",
       "      <td>1</td>\n",
       "      <td>725180-14735</td>\n",
       "      <td>ALBANY INTERNATIONAL AIRPORT</td>\n",
       "      <td>US</td>\n",
       "      <td>UNITED STATES</td>\n",
       "      <td>US</td>\n",
       "      <td>USA</td>\n",
       "      <td>NY</td>\n",
       "      <td>42.747</td>\n",
       "      <td>-73.799</td>\n",
       "      <td>...</td>\n",
       "      <td>0</td>\n",
       "      <td>0</td>\n",
       "      <td>0.0</td>\n",
       "      <td>0.0</td>\n",
       "      <td>0.0</td>\n",
       "      <td>0.0</td>\n",
       "      <td>0.6</td>\n",
       "      <td>0.9</td>\n",
       "      <td>67.1</td>\n",
       "      <td>0</td>\n",
       "    </tr>\n",
       "    <tr>\n",
       "      <th>1</th>\n",
       "      <td>2</td>\n",
       "      <td>725180-14735</td>\n",
       "      <td>ALBANY INTERNATIONAL AIRPORT</td>\n",
       "      <td>US</td>\n",
       "      <td>UNITED STATES</td>\n",
       "      <td>US</td>\n",
       "      <td>USA</td>\n",
       "      <td>NY</td>\n",
       "      <td>42.747</td>\n",
       "      <td>-73.799</td>\n",
       "      <td>...</td>\n",
       "      <td>1</td>\n",
       "      <td>0</td>\n",
       "      <td>0.0</td>\n",
       "      <td>0.0</td>\n",
       "      <td>0.0</td>\n",
       "      <td>NaN</td>\n",
       "      <td>0.7</td>\n",
       "      <td>0.9</td>\n",
       "      <td>75.4</td>\n",
       "      <td>1</td>\n",
       "    </tr>\n",
       "    <tr>\n",
       "      <th>2</th>\n",
       "      <td>3</td>\n",
       "      <td>725180-14735</td>\n",
       "      <td>ALBANY INTERNATIONAL AIRPORT</td>\n",
       "      <td>US</td>\n",
       "      <td>UNITED STATES</td>\n",
       "      <td>US</td>\n",
       "      <td>USA</td>\n",
       "      <td>NY</td>\n",
       "      <td>42.747</td>\n",
       "      <td>-73.799</td>\n",
       "      <td>...</td>\n",
       "      <td>1</td>\n",
       "      <td>0</td>\n",
       "      <td>0.0</td>\n",
       "      <td>0.0</td>\n",
       "      <td>NaN</td>\n",
       "      <td>NaN</td>\n",
       "      <td>0.3</td>\n",
       "      <td>0.5</td>\n",
       "      <td>59.7</td>\n",
       "      <td>1</td>\n",
       "    </tr>\n",
       "    <tr>\n",
       "      <th>3</th>\n",
       "      <td>4</td>\n",
       "      <td>725180-14735</td>\n",
       "      <td>ALBANY INTERNATIONAL AIRPORT</td>\n",
       "      <td>US</td>\n",
       "      <td>UNITED STATES</td>\n",
       "      <td>US</td>\n",
       "      <td>USA</td>\n",
       "      <td>NY</td>\n",
       "      <td>42.747</td>\n",
       "      <td>-73.799</td>\n",
       "      <td>...</td>\n",
       "      <td>1</td>\n",
       "      <td>0</td>\n",
       "      <td>0.0</td>\n",
       "      <td>0.0</td>\n",
       "      <td>NaN</td>\n",
       "      <td>NaN</td>\n",
       "      <td>0.3</td>\n",
       "      <td>0.5</td>\n",
       "      <td>67.7</td>\n",
       "      <td>0</td>\n",
       "    </tr>\n",
       "    <tr>\n",
       "      <th>4</th>\n",
       "      <td>5</td>\n",
       "      <td>725180-14735</td>\n",
       "      <td>ALBANY INTERNATIONAL AIRPORT</td>\n",
       "      <td>US</td>\n",
       "      <td>UNITED STATES</td>\n",
       "      <td>US</td>\n",
       "      <td>USA</td>\n",
       "      <td>NY</td>\n",
       "      <td>42.747</td>\n",
       "      <td>-73.799</td>\n",
       "      <td>...</td>\n",
       "      <td>0</td>\n",
       "      <td>0</td>\n",
       "      <td>0.0</td>\n",
       "      <td>0.0</td>\n",
       "      <td>0.0</td>\n",
       "      <td>0.0</td>\n",
       "      <td>0.3</td>\n",
       "      <td>0.5</td>\n",
       "      <td>68.0</td>\n",
       "      <td>0</td>\n",
       "    </tr>\n",
       "    <tr>\n",
       "      <th>...</th>\n",
       "      <td>...</td>\n",
       "      <td>...</td>\n",
       "      <td>...</td>\n",
       "      <td>...</td>\n",
       "      <td>...</td>\n",
       "      <td>...</td>\n",
       "      <td>...</td>\n",
       "      <td>...</td>\n",
       "      <td>...</td>\n",
       "      <td>...</td>\n",
       "      <td>...</td>\n",
       "      <td>...</td>\n",
       "      <td>...</td>\n",
       "      <td>...</td>\n",
       "      <td>...</td>\n",
       "      <td>...</td>\n",
       "      <td>...</td>\n",
       "      <td>...</td>\n",
       "      <td>...</td>\n",
       "      <td>...</td>\n",
       "      <td>...</td>\n",
       "    </tr>\n",
       "    <tr>\n",
       "      <th>3925</th>\n",
       "      <td>3926</td>\n",
       "      <td>725180-14735</td>\n",
       "      <td>ALBANY INTERNATIONAL AIRPORT</td>\n",
       "      <td>US</td>\n",
       "      <td>UNITED STATES</td>\n",
       "      <td>US</td>\n",
       "      <td>USA</td>\n",
       "      <td>NY</td>\n",
       "      <td>42.747</td>\n",
       "      <td>-73.799</td>\n",
       "      <td>...</td>\n",
       "      <td>1</td>\n",
       "      <td>0</td>\n",
       "      <td>0.0</td>\n",
       "      <td>0.0</td>\n",
       "      <td>0.0</td>\n",
       "      <td>NaN</td>\n",
       "      <td>1.1</td>\n",
       "      <td>1.5</td>\n",
       "      <td>75.6</td>\n",
       "      <td>0</td>\n",
       "    </tr>\n",
       "    <tr>\n",
       "      <th>3926</th>\n",
       "      <td>3927</td>\n",
       "      <td>725180-14735</td>\n",
       "      <td>ALBANY INTERNATIONAL AIRPORT</td>\n",
       "      <td>US</td>\n",
       "      <td>UNITED STATES</td>\n",
       "      <td>US</td>\n",
       "      <td>USA</td>\n",
       "      <td>NY</td>\n",
       "      <td>42.747</td>\n",
       "      <td>-73.799</td>\n",
       "      <td>...</td>\n",
       "      <td>1</td>\n",
       "      <td>0</td>\n",
       "      <td>0.0</td>\n",
       "      <td>0.0</td>\n",
       "      <td>0.0</td>\n",
       "      <td>0.0</td>\n",
       "      <td>1.0</td>\n",
       "      <td>1.3</td>\n",
       "      <td>72.8</td>\n",
       "      <td>0</td>\n",
       "    </tr>\n",
       "    <tr>\n",
       "      <th>3927</th>\n",
       "      <td>3928</td>\n",
       "      <td>725180-14735</td>\n",
       "      <td>ALBANY INTERNATIONAL AIRPORT</td>\n",
       "      <td>US</td>\n",
       "      <td>UNITED STATES</td>\n",
       "      <td>US</td>\n",
       "      <td>USA</td>\n",
       "      <td>NY</td>\n",
       "      <td>42.747</td>\n",
       "      <td>-73.799</td>\n",
       "      <td>...</td>\n",
       "      <td>0</td>\n",
       "      <td>0</td>\n",
       "      <td>0.0</td>\n",
       "      <td>0.0</td>\n",
       "      <td>0.0</td>\n",
       "      <td>0.0</td>\n",
       "      <td>1.2</td>\n",
       "      <td>1.6</td>\n",
       "      <td>74.3</td>\n",
       "      <td>0</td>\n",
       "    </tr>\n",
       "    <tr>\n",
       "      <th>3928</th>\n",
       "      <td>3929</td>\n",
       "      <td>725180-14735</td>\n",
       "      <td>ALBANY INTERNATIONAL AIRPORT</td>\n",
       "      <td>US</td>\n",
       "      <td>UNITED STATES</td>\n",
       "      <td>US</td>\n",
       "      <td>USA</td>\n",
       "      <td>NY</td>\n",
       "      <td>42.747</td>\n",
       "      <td>-73.799</td>\n",
       "      <td>...</td>\n",
       "      <td>1</td>\n",
       "      <td>0</td>\n",
       "      <td>0.0</td>\n",
       "      <td>0.0</td>\n",
       "      <td>0.0</td>\n",
       "      <td>NaN</td>\n",
       "      <td>1.5</td>\n",
       "      <td>1.8</td>\n",
       "      <td>83.0</td>\n",
       "      <td>0</td>\n",
       "    </tr>\n",
       "    <tr>\n",
       "      <th>3929</th>\n",
       "      <td>3930</td>\n",
       "      <td>725180-14735</td>\n",
       "      <td>ALBANY INTERNATIONAL AIRPORT</td>\n",
       "      <td>US</td>\n",
       "      <td>UNITED STATES</td>\n",
       "      <td>US</td>\n",
       "      <td>USA</td>\n",
       "      <td>NY</td>\n",
       "      <td>42.747</td>\n",
       "      <td>-73.799</td>\n",
       "      <td>...</td>\n",
       "      <td>1</td>\n",
       "      <td>0</td>\n",
       "      <td>0.0</td>\n",
       "      <td>0.0</td>\n",
       "      <td>0.0</td>\n",
       "      <td>NaN</td>\n",
       "      <td>1.7</td>\n",
       "      <td>1.8</td>\n",
       "      <td>92.6</td>\n",
       "      <td>1</td>\n",
       "    </tr>\n",
       "  </tbody>\n",
       "</table>\n",
       "<p>3930 rows × 49 columns</p>\n",
       "</div>"
      ],
      "text/plain": [
       "      Unnamed: 0         STNID                          NAME CTRY  \\\n",
       "0              1  725180-14735  ALBANY INTERNATIONAL AIRPORT   US   \n",
       "1              2  725180-14735  ALBANY INTERNATIONAL AIRPORT   US   \n",
       "2              3  725180-14735  ALBANY INTERNATIONAL AIRPORT   US   \n",
       "3              4  725180-14735  ALBANY INTERNATIONAL AIRPORT   US   \n",
       "4              5  725180-14735  ALBANY INTERNATIONAL AIRPORT   US   \n",
       "...          ...           ...                           ...  ...   \n",
       "3925        3926  725180-14735  ALBANY INTERNATIONAL AIRPORT   US   \n",
       "3926        3927  725180-14735  ALBANY INTERNATIONAL AIRPORT   US   \n",
       "3927        3928  725180-14735  ALBANY INTERNATIONAL AIRPORT   US   \n",
       "3928        3929  725180-14735  ALBANY INTERNATIONAL AIRPORT   US   \n",
       "3929        3930  725180-14735  ALBANY INTERNATIONAL AIRPORT   US   \n",
       "\n",
       "       COUNTRY_NAME ISO2C ISO3C STATE  LATITUDE  LONGITUDE  ...  I_FOG  \\\n",
       "0     UNITED STATES    US   USA    NY    42.747    -73.799  ...      0   \n",
       "1     UNITED STATES    US   USA    NY    42.747    -73.799  ...      1   \n",
       "2     UNITED STATES    US   USA    NY    42.747    -73.799  ...      1   \n",
       "3     UNITED STATES    US   USA    NY    42.747    -73.799  ...      1   \n",
       "4     UNITED STATES    US   USA    NY    42.747    -73.799  ...      0   \n",
       "...             ...   ...   ...   ...       ...        ...  ...    ...   \n",
       "3925  UNITED STATES    US   USA    NY    42.747    -73.799  ...      1   \n",
       "3926  UNITED STATES    US   USA    NY    42.747    -73.799  ...      1   \n",
       "3927  UNITED STATES    US   USA    NY    42.747    -73.799  ...      0   \n",
       "3928  UNITED STATES    US   USA    NY    42.747    -73.799  ...      1   \n",
       "3929  UNITED STATES    US   USA    NY    42.747    -73.799  ...      1   \n",
       "\n",
       "      I_RAIN_DRIZZLE  I_SNOW_ICE I_HAIL  I_THUNDER  I_TORNADO_FUNNEL   EA  \\\n",
       "0                  0         0.0    0.0        0.0               0.0  0.6   \n",
       "1                  0         0.0    0.0        0.0               NaN  0.7   \n",
       "2                  0         0.0    0.0        NaN               NaN  0.3   \n",
       "3                  0         0.0    0.0        NaN               NaN  0.3   \n",
       "4                  0         0.0    0.0        0.0               0.0  0.3   \n",
       "...              ...         ...    ...        ...               ...  ...   \n",
       "3925               0         0.0    0.0        0.0               NaN  1.1   \n",
       "3926               0         0.0    0.0        0.0               0.0  1.0   \n",
       "3927               0         0.0    0.0        0.0               0.0  1.2   \n",
       "3928               0         0.0    0.0        0.0               NaN  1.5   \n",
       "3929               0         0.0    0.0        0.0               NaN  1.7   \n",
       "\n",
       "       ES    RH  I_PRCP  \n",
       "0     0.9  67.1       0  \n",
       "1     0.9  75.4       1  \n",
       "2     0.5  59.7       1  \n",
       "3     0.5  67.7       0  \n",
       "4     0.5  68.0       0  \n",
       "...   ...   ...     ...  \n",
       "3925  1.5  75.6       0  \n",
       "3926  1.3  72.8       0  \n",
       "3927  1.6  74.3       0  \n",
       "3928  1.8  83.0       0  \n",
       "3929  1.8  92.6       1  \n",
       "\n",
       "[3930 rows x 49 columns]"
      ]
     },
     "execution_count": 42,
     "metadata": {},
     "output_type": "execute_result"
    }
   ],
   "source": [
    "weather_3"
   ]
  },
  {
   "cell_type": "code",
   "execution_count": 43,
   "id": "f2844987",
   "metadata": {},
   "outputs": [],
   "source": [
    "weather_3['STP1'] = weather_3['STP'].shift(1)\n",
    "weather_3['STP2'] = weather_3['STP'].shift(2)\n",
    "weather_3['STP3'] = weather_3['STP'].shift(3)"
   ]
  },
  {
   "cell_type": "code",
   "execution_count": 44,
   "id": "6a5262f3",
   "metadata": {},
   "outputs": [
    {
     "data": {
      "text/html": [
       "<div>\n",
       "<style scoped>\n",
       "    .dataframe tbody tr th:only-of-type {\n",
       "        vertical-align: middle;\n",
       "    }\n",
       "\n",
       "    .dataframe tbody tr th {\n",
       "        vertical-align: top;\n",
       "    }\n",
       "\n",
       "    .dataframe thead th {\n",
       "        text-align: right;\n",
       "    }\n",
       "</style>\n",
       "<table border=\"1\" class=\"dataframe\">\n",
       "  <thead>\n",
       "    <tr style=\"text-align: right;\">\n",
       "      <th></th>\n",
       "      <th>YEARMODA</th>\n",
       "      <th>STP</th>\n",
       "      <th>STP1</th>\n",
       "      <th>STP2</th>\n",
       "      <th>STP3</th>\n",
       "    </tr>\n",
       "  </thead>\n",
       "  <tbody>\n",
       "    <tr>\n",
       "      <th>0</th>\n",
       "      <td>2011-01-01</td>\n",
       "      <td>7.0</td>\n",
       "      <td>NaN</td>\n",
       "      <td>NaN</td>\n",
       "      <td>NaN</td>\n",
       "    </tr>\n",
       "    <tr>\n",
       "      <th>1</th>\n",
       "      <td>2011-01-02</td>\n",
       "      <td>3.4</td>\n",
       "      <td>7.0</td>\n",
       "      <td>NaN</td>\n",
       "      <td>NaN</td>\n",
       "    </tr>\n",
       "    <tr>\n",
       "      <th>2</th>\n",
       "      <td>2011-01-03</td>\n",
       "      <td>7.6</td>\n",
       "      <td>3.4</td>\n",
       "      <td>7.0</td>\n",
       "      <td>NaN</td>\n",
       "    </tr>\n",
       "    <tr>\n",
       "      <th>3</th>\n",
       "      <td>2011-01-04</td>\n",
       "      <td>4.2</td>\n",
       "      <td>7.6</td>\n",
       "      <td>3.4</td>\n",
       "      <td>7.0</td>\n",
       "    </tr>\n",
       "    <tr>\n",
       "      <th>4</th>\n",
       "      <td>2011-01-05</td>\n",
       "      <td>998.1</td>\n",
       "      <td>4.2</td>\n",
       "      <td>7.6</td>\n",
       "      <td>3.4</td>\n",
       "    </tr>\n",
       "  </tbody>\n",
       "</table>\n",
       "</div>"
      ],
      "text/plain": [
       "    YEARMODA    STP  STP1  STP2  STP3\n",
       "0 2011-01-01    7.0   NaN   NaN   NaN\n",
       "1 2011-01-02    3.4   7.0   NaN   NaN\n",
       "2 2011-01-03    7.6   3.4   7.0   NaN\n",
       "3 2011-01-04    4.2   7.6   3.4   7.0\n",
       "4 2011-01-05  998.1   4.2   7.6   3.4"
      ]
     },
     "metadata": {},
     "output_type": "display_data"
    }
   ],
   "source": [
    "display(weather_3[['YEARMODA', 'STP', 'STP1', 'STP2', 'STP3']].head())"
   ]
  },
  {
   "cell_type": "code",
   "execution_count": 45,
   "id": "b06c9385",
   "metadata": {},
   "outputs": [],
   "source": [
    "pred_vars_3 = ['YDAY', 'STP1']\n",
    "\n",
    "# make list of all variables required to generate a forecast\n",
    "model_vars = pred_vars_3 + ['I_PRCP']\n",
    "\n",
    "weather_3.dropna(subset=model_vars, inplace=True)"
   ]
  },
  {
   "cell_type": "code",
   "execution_count": 46,
   "id": "bcf8526e",
   "metadata": {},
   "outputs": [],
   "source": [
    "train, test_3= np.split(weather_3, [int(.67 *len(weather_3))])"
   ]
  },
  {
   "cell_type": "code",
   "execution_count": 49,
   "id": "edce0821",
   "metadata": {},
   "outputs": [
    {
     "data": {
      "text/plain": [
       "RandomForestClassifier()"
      ]
     },
     "execution_count": 49,
     "metadata": {},
     "output_type": "execute_result"
    }
   ],
   "source": [
    "rf_3 = RandomForestClassifier()\n",
    "\n",
    "rf_3.fit(train[pred_vars_3], train['I_PRCP'])"
   ]
  },
  {
   "cell_type": "code",
   "execution_count": 50,
   "id": "feda2572",
   "metadata": {},
   "outputs": [
    {
     "name": "stdout",
     "output_type": "stream",
     "text": [
      "              precision    recall  f1-score   support\n",
      "\n",
      "           0    0.61125   0.68399   0.64558       731\n",
      "           1    0.51368   0.43416   0.47059       562\n",
      "\n",
      "    accuracy                        0.57541      1293\n",
      "   macro avg    0.56247   0.55908   0.55808      1293\n",
      "weighted avg    0.56884   0.57541   0.56952      1293\n",
      "\n"
     ]
    },
    {
     "data": {
      "image/png": "[encoded data removed]",
      "text/plain": [
       "<Figure size 432x288 with 2 Axes>"
      ]
     },
     "metadata": {
      "needs_background": "light"
     },
     "output_type": "display_data"
    }
   ],
   "source": [
    "# get predictions\n",
    "pred_p_prcp = rf_3.predict_proba(test_3.loc[:, pred_vars_3])\n",
    "pred_i_prcp = rf_3.predict(test_3.loc[:, pred_vars_3])\n",
    "\n",
    "# evaluation\n",
    "\n",
    "metrics.plot_confusion_matrix(rf_3, test_3.loc[:, pred_vars_3], test_3['I_PRCP'])\n",
    "print(metrics.classification_report(test_3['I_PRCP'], pred_i_prcp, digits=5))"
   ]
  },
  {
   "cell_type": "code",
   "execution_count": 51,
   "id": "a6ee9350",
   "metadata": {},
   "outputs": [
    {
     "name": "stdout",
     "output_type": "stream",
     "text": [
      "Most recent date in data: 2021-10-04 00:00:00\n"
     ]
    }
   ],
   "source": [
    "most_recent_data = weather_3['YEARMODA'].max()\n",
    "# https://stackoverflow.com/questions/39964558/pandas-max-value-index\n",
    "most_recent_yday = weather_3.loc[weather_3['YEARMODA'].idxmax(), 'YDAY']\n",
    "print(\"Most recent date in data:\", weather_3['YEARMODA'].max())\n",
    "\n",
    "\n",
    "# figure out starting dates for predictions\n",
    "prediction_start = most_recent_data + timedelta(days=1)\n",
    "prediction_start_yday = list(most_recent_yday + range(1,2))\n",
    "\n",
    "# generate list of dates for predictions\n",
    "eval_dates = pd.date_range(prediction_start, periods=1).tolist()"
   ]
  },
  {
   "cell_type": "code",
   "execution_count": 52,
   "id": "74af6c67",
   "metadata": {},
   "outputs": [
    {
     "data": {
      "text/plain": [
       "[278]"
      ]
     },
     "execution_count": 52,
     "metadata": {},
     "output_type": "execute_result"
    }
   ],
   "source": [
    "prediction_start_yday"
   ]
  },
  {
   "cell_type": "code",
   "execution_count": 53,
   "id": "ebde9a27",
   "metadata": {},
   "outputs": [
    {
     "data": {
      "text/html": [
       "<div>\n",
       "<style scoped>\n",
       "    .dataframe tbody tr th:only-of-type {\n",
       "        vertical-align: middle;\n",
       "    }\n",
       "\n",
       "    .dataframe tbody tr th {\n",
       "        vertical-align: top;\n",
       "    }\n",
       "\n",
       "    .dataframe thead th {\n",
       "        text-align: right;\n",
       "    }\n",
       "</style>\n",
       "<table border=\"1\" class=\"dataframe\">\n",
       "  <thead>\n",
       "    <tr style=\"text-align: right;\">\n",
       "      <th></th>\n",
       "      <th>YEARMODA</th>\n",
       "      <th>YDAY</th>\n",
       "      <th>STP</th>\n",
       "      <th>STP1</th>\n",
       "      <th>I_PRCP</th>\n",
       "    </tr>\n",
       "  </thead>\n",
       "  <tbody>\n",
       "    <tr>\n",
       "      <th>3912</th>\n",
       "      <td>2021-10-01</td>\n",
       "      <td>274</td>\n",
       "      <td>12.0</td>\n",
       "      <td>7.9</td>\n",
       "      <td>0.0</td>\n",
       "    </tr>\n",
       "    <tr>\n",
       "      <th>3913</th>\n",
       "      <td>2021-10-02</td>\n",
       "      <td>275</td>\n",
       "      <td>9.3</td>\n",
       "      <td>12.0</td>\n",
       "      <td>0.0</td>\n",
       "    </tr>\n",
       "    <tr>\n",
       "      <th>3914</th>\n",
       "      <td>2021-10-03</td>\n",
       "      <td>276</td>\n",
       "      <td>4.5</td>\n",
       "      <td>9.3</td>\n",
       "      <td>0.0</td>\n",
       "    </tr>\n",
       "    <tr>\n",
       "      <th>3915</th>\n",
       "      <td>2021-10-04</td>\n",
       "      <td>277</td>\n",
       "      <td>3.5</td>\n",
       "      <td>4.5</td>\n",
       "      <td>1.0</td>\n",
       "    </tr>\n",
       "    <tr>\n",
       "      <th>3916</th>\n",
       "      <td>2021-10-05</td>\n",
       "      <td>278</td>\n",
       "      <td>NaN</td>\n",
       "      <td>NaN</td>\n",
       "      <td>NaN</td>\n",
       "    </tr>\n",
       "  </tbody>\n",
       "</table>\n",
       "</div>"
      ],
      "text/plain": [
       "       YEARMODA  YDAY   STP  STP1  I_PRCP\n",
       "3912 2021-10-01   274  12.0   7.9     0.0\n",
       "3913 2021-10-02   275   9.3  12.0     0.0\n",
       "3914 2021-10-03   276   4.5   9.3     0.0\n",
       "3915 2021-10-04   277   3.5   4.5     1.0\n",
       "3916 2021-10-05   278   NaN   NaN     NaN"
      ]
     },
     "execution_count": 53,
     "metadata": {},
     "output_type": "execute_result"
    }
   ],
   "source": [
    "predictions_df = pd.DataFrame(eval_dates, columns=['YEARMODA'])\n",
    "predictions_df['YDAY'] = prediction_start_yday\n",
    "\n",
    "\n",
    "# add these to the main dataframe\n",
    "weather_3 = weather_3.append(predictions_df, ignore_index=True)\n",
    "weather_3[['YEARMODA', 'YDAY', 'STP', 'STP1', 'I_PRCP', ]].tail()"
   ]
  },
  {
   "cell_type": "code",
   "execution_count": 54,
   "id": "6ca7629e",
   "metadata": {},
   "outputs": [],
   "source": [
    "weather_3['STP1'] = weather_3['STP'].shift(1)\n",
    "weather_3['STP2'] = weather_3['STP'].shift(2)\n",
    "weather_3['STP3'] = weather_3['STP'].shift(3)"
   ]
  },
  {
   "cell_type": "code",
   "execution_count": 55,
   "id": "0e627d41",
   "metadata": {},
   "outputs": [],
   "source": [
    "prediction_set = weather_3[(weather_3['YEARMODA'] >= prediction_start)].copy()"
   ]
  },
  {
   "cell_type": "code",
   "execution_count": 56,
   "id": "12e7fcf4",
   "metadata": {},
   "outputs": [
    {
     "data": {
      "text/html": [
       "<div>\n",
       "<style scoped>\n",
       "    .dataframe tbody tr th:only-of-type {\n",
       "        vertical-align: middle;\n",
       "    }\n",
       "\n",
       "    .dataframe tbody tr th {\n",
       "        vertical-align: top;\n",
       "    }\n",
       "\n",
       "    .dataframe thead th {\n",
       "        text-align: right;\n",
       "    }\n",
       "</style>\n",
       "<table border=\"1\" class=\"dataframe\">\n",
       "  <thead>\n",
       "    <tr style=\"text-align: right;\">\n",
       "      <th></th>\n",
       "      <th>Unnamed: 0</th>\n",
       "      <th>STNID</th>\n",
       "      <th>NAME</th>\n",
       "      <th>CTRY</th>\n",
       "      <th>COUNTRY_NAME</th>\n",
       "      <th>ISO2C</th>\n",
       "      <th>ISO3C</th>\n",
       "      <th>STATE</th>\n",
       "      <th>LATITUDE</th>\n",
       "      <th>LONGITUDE</th>\n",
       "      <th>...</th>\n",
       "      <th>I_HAIL</th>\n",
       "      <th>I_THUNDER</th>\n",
       "      <th>I_TORNADO_FUNNEL</th>\n",
       "      <th>EA</th>\n",
       "      <th>ES</th>\n",
       "      <th>RH</th>\n",
       "      <th>I_PRCP</th>\n",
       "      <th>STP1</th>\n",
       "      <th>STP2</th>\n",
       "      <th>STP3</th>\n",
       "    </tr>\n",
       "  </thead>\n",
       "  <tbody>\n",
       "    <tr>\n",
       "      <th>3916</th>\n",
       "      <td>NaN</td>\n",
       "      <td>NaN</td>\n",
       "      <td>NaN</td>\n",
       "      <td>NaN</td>\n",
       "      <td>NaN</td>\n",
       "      <td>NaN</td>\n",
       "      <td>NaN</td>\n",
       "      <td>NaN</td>\n",
       "      <td>NaN</td>\n",
       "      <td>NaN</td>\n",
       "      <td>...</td>\n",
       "      <td>NaN</td>\n",
       "      <td>NaN</td>\n",
       "      <td>NaN</td>\n",
       "      <td>NaN</td>\n",
       "      <td>NaN</td>\n",
       "      <td>NaN</td>\n",
       "      <td>NaN</td>\n",
       "      <td>3.5</td>\n",
       "      <td>4.5</td>\n",
       "      <td>9.3</td>\n",
       "    </tr>\n",
       "  </tbody>\n",
       "</table>\n",
       "<p>1 rows × 52 columns</p>\n",
       "</div>"
      ],
      "text/plain": [
       "      Unnamed: 0 STNID NAME CTRY COUNTRY_NAME ISO2C ISO3C STATE  LATITUDE  \\\n",
       "3916         NaN   NaN  NaN  NaN          NaN   NaN   NaN   NaN       NaN   \n",
       "\n",
       "      LONGITUDE  ...  I_HAIL  I_THUNDER  I_TORNADO_FUNNEL  EA  ES  RH  I_PRCP  \\\n",
       "3916        NaN  ...     NaN        NaN               NaN NaN NaN NaN     NaN   \n",
       "\n",
       "      STP1  STP2  STP3  \n",
       "3916   3.5   4.5   9.3  \n",
       "\n",
       "[1 rows x 52 columns]"
      ]
     },
     "execution_count": 56,
     "metadata": {},
     "output_type": "execute_result"
    }
   ],
   "source": [
    "prediction_set"
   ]
  },
  {
   "cell_type": "code",
   "execution_count": 57,
   "id": "a876ef75",
   "metadata": {},
   "outputs": [],
   "source": [
    "prediction_set['P_PRCP'] = rf_3.predict_proba(prediction_set[pred_vars_3])[:,1]"
   ]
  },
  {
   "cell_type": "code",
   "execution_count": 58,
   "id": "e6e8df19",
   "metadata": {},
   "outputs": [
    {
     "data": {
      "text/html": [
       "<div>\n",
       "<style scoped>\n",
       "    .dataframe tbody tr th:only-of-type {\n",
       "        vertical-align: middle;\n",
       "    }\n",
       "\n",
       "    .dataframe tbody tr th {\n",
       "        vertical-align: top;\n",
       "    }\n",
       "\n",
       "    .dataframe thead th {\n",
       "        text-align: right;\n",
       "    }\n",
       "</style>\n",
       "<table border=\"1\" class=\"dataframe\">\n",
       "  <thead>\n",
       "    <tr style=\"text-align: right;\">\n",
       "      <th></th>\n",
       "      <th>Unnamed: 0</th>\n",
       "      <th>STNID</th>\n",
       "      <th>NAME</th>\n",
       "      <th>CTRY</th>\n",
       "      <th>COUNTRY_NAME</th>\n",
       "      <th>ISO2C</th>\n",
       "      <th>ISO3C</th>\n",
       "      <th>STATE</th>\n",
       "      <th>LATITUDE</th>\n",
       "      <th>LONGITUDE</th>\n",
       "      <th>...</th>\n",
       "      <th>I_THUNDER</th>\n",
       "      <th>I_TORNADO_FUNNEL</th>\n",
       "      <th>EA</th>\n",
       "      <th>ES</th>\n",
       "      <th>RH</th>\n",
       "      <th>I_PRCP</th>\n",
       "      <th>STP1</th>\n",
       "      <th>STP2</th>\n",
       "      <th>STP3</th>\n",
       "      <th>P_PRCP</th>\n",
       "    </tr>\n",
       "  </thead>\n",
       "  <tbody>\n",
       "    <tr>\n",
       "      <th>3916</th>\n",
       "      <td>NaN</td>\n",
       "      <td>NaN</td>\n",
       "      <td>NaN</td>\n",
       "      <td>NaN</td>\n",
       "      <td>NaN</td>\n",
       "      <td>NaN</td>\n",
       "      <td>NaN</td>\n",
       "      <td>NaN</td>\n",
       "      <td>NaN</td>\n",
       "      <td>NaN</td>\n",
       "      <td>...</td>\n",
       "      <td>NaN</td>\n",
       "      <td>NaN</td>\n",
       "      <td>NaN</td>\n",
       "      <td>NaN</td>\n",
       "      <td>NaN</td>\n",
       "      <td>NaN</td>\n",
       "      <td>3.5</td>\n",
       "      <td>4.5</td>\n",
       "      <td>9.3</td>\n",
       "      <td>0.2</td>\n",
       "    </tr>\n",
       "  </tbody>\n",
       "</table>\n",
       "<p>1 rows × 53 columns</p>\n",
       "</div>"
      ],
      "text/plain": [
       "      Unnamed: 0 STNID NAME CTRY COUNTRY_NAME ISO2C ISO3C STATE  LATITUDE  \\\n",
       "3916         NaN   NaN  NaN  NaN          NaN   NaN   NaN   NaN       NaN   \n",
       "\n",
       "      LONGITUDE  ...  I_THUNDER  I_TORNADO_FUNNEL  EA  ES  RH  I_PRCP  STP1  \\\n",
       "3916        NaN  ...        NaN               NaN NaN NaN NaN     NaN   3.5   \n",
       "\n",
       "      STP2  STP3  P_PRCP  \n",
       "3916   4.5   9.3     0.2  \n",
       "\n",
       "[1 rows x 53 columns]"
      ]
     },
     "execution_count": 58,
     "metadata": {},
     "output_type": "execute_result"
    }
   ],
   "source": [
    "prediction_set.head()"
   ]
  },
  {
   "cell_type": "markdown",
   "id": "84f1163e",
   "metadata": {},
   "source": [
    "### Results\n",
    "\n",
    "In all cases the new model using STP shifted once outperformed the previous two models using SLP shifted once and three times. STP outperformed the other two in precision, recall, f1-score and accuracy."
   ]
  },
  {
   "cell_type": "code",
   "execution_count": 60,
   "id": "778fdfb6",
   "metadata": {},
   "outputs": [
    {
     "name": "stdout",
     "output_type": "stream",
     "text": [
      "SLP1\n",
      "              precision    recall  f1-score   support\n",
      "\n",
      "           0    0.60195   0.67442   0.63613       731\n",
      "           1    0.50209   0.42403   0.45977       566\n",
      "\n",
      "    accuracy                        0.56515      1297\n",
      "   macro avg    0.55202   0.54922   0.54795      1297\n",
      "weighted avg    0.55837   0.56515   0.55917      1297\n",
      "\n",
      "SLP3\n",
      "              precision    recall  f1-score   support\n",
      "\n",
      "           0    0.56459   0.64658   0.60281       730\n",
      "           1    0.43913   0.35689   0.39376       566\n",
      "\n",
      "    accuracy                        0.52006      1296\n",
      "   macro avg    0.50186   0.50173   0.49829      1296\n",
      "weighted avg    0.50980   0.52006   0.51151      1296\n",
      "\n",
      "STP1\n",
      "              precision    recall  f1-score   support\n",
      "\n",
      "           0    0.61125   0.68399   0.64558       731\n",
      "           1    0.51368   0.43416   0.47059       562\n",
      "\n",
      "    accuracy                        0.57541      1293\n",
      "   macro avg    0.56247   0.55908   0.55808      1293\n",
      "weighted avg    0.56884   0.57541   0.56952      1293\n",
      "\n"
     ]
    },
    {
     "data": {
      "image/png": "[encoded data removed]",
      "text/plain": [
       "<Figure size 432x288 with 2 Axes>"
      ]
     },
     "metadata": {
      "needs_background": "light"
     },
     "output_type": "display_data"
    },
    {
     "data": {
      "image/png": "[encoded data removed]",
      "text/plain": [
       "<Figure size 432x288 with 2 Axes>"
      ]
     },
     "metadata": {
      "needs_background": "light"
     },
     "output_type": "display_data"
    },
    {
     "data": {
      "image/png": "[encoded data removed]",
      "text/plain": [
       "<Figure size 432x288 with 2 Axes>"
      ]
     },
     "metadata": {
      "needs_background": "light"
     },
     "output_type": "display_data"
    }
   ],
   "source": [
    "# get predictions\n",
    "pred_p_prcp = rf.predict_proba(test.loc[:, pred_vars])\n",
    "pred_i_prcp = rf.predict(test.loc[:, pred_vars])\n",
    "\n",
    "# evaluation\n",
    "\n",
    "metrics.plot_confusion_matrix(rf, test.loc[:, pred_vars], test['I_PRCP'])\n",
    "print('SLP1')\n",
    "print(metrics.classification_report(test['I_PRCP'], pred_i_prcp, digits=5))\n",
    "\n",
    "# get predictions\n",
    "pred_p_prcp = rf_2.predict_proba(test_2.loc[:, pred_vars_2])\n",
    "pred_i_prcp = rf_2.predict(test_2.loc[:, pred_vars_2])\n",
    "\n",
    "# evaluation\n",
    "\n",
    "metrics.plot_confusion_matrix(rf_2, test_2.loc[:, pred_vars_2], test_2['I_PRCP'])\n",
    "print('SLP3')\n",
    "print(metrics.classification_report(test_2['I_PRCP'], pred_i_prcp, digits=5))\n",
    "\n",
    "# get predictions\n",
    "pred_p_prcp = rf_3.predict_proba(test_3.loc[:, pred_vars_3])\n",
    "pred_i_prcp = rf_3.predict(test_3.loc[:, pred_vars_3])\n",
    "\n",
    "# evaluation\n",
    "\n",
    "metrics.plot_confusion_matrix(rf_3, test_3.loc[:, pred_vars_3], test_3['I_PRCP'])\n",
    "print('STP1')\n",
    "print(metrics.classification_report(test_3['I_PRCP'], pred_i_prcp, digits=5))"
   ]
  }
 ],
 "metadata": {
  "kernelspec": {
   "display_name": "Python 3",
   "language": "python",
   "name": "python3"
  },
  "language_info": {
   "codemirror_mode": {
    "name": "ipython",
    "version": 3
   },
   "file_extension": ".py",
   "mimetype": "text/x-python",
   "name": "python",
   "nbconvert_exporter": "python",
   "pygments_lexer": "ipython3",
   "version": "3.8.8"
  }
 },
 "nbformat": 4,
 "nbformat_minor": 5
}
