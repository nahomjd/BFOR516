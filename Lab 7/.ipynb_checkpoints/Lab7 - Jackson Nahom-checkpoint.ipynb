{
 "cells": [
  {
   "cell_type": "code",
   "execution_count": 1,
   "id": "41d74629",
   "metadata": {},
   "outputs": [],
   "source": [
    "import pandas as pd\n",
    "import numpy as np\n",
    "from datetime import datetime, timedelta\n",
    "from sklearn.ensemble import RandomForestClassifier\n",
    "from sklearn import metrics"
   ]
  },
  {
   "cell_type": "code",
   "execution_count": 2,
   "id": "a8493c47",
   "metadata": {},
   "outputs": [
    {
     "name": "stdout",
     "output_type": "stream",
     "text": [
      "Most recent date in data: 2021-10-04 00:00:00\n"
     ]
    }
   ],
   "source": [
    "weather = pd.read_csv('data/last_ten_alb.csv')\n",
    "\n",
    "\n",
    "weather['YEARMODA'] = pd.to_datetime(weather['YEARMODA'])\n",
    "print(\"Most recent date in data:\", weather['YEARMODA'].max())"
   ]
  },
  {
   "cell_type": "code",
   "execution_count": 4,
   "id": "a1a10133",
   "metadata": {},
   "outputs": [],
   "source": [
    "weather['SLP1'] = weather['SLP'].shift(1)\n",
    "weather['SLP2'] = weather['SLP'].shift(2)\n",
    "weather['SLP3'] = weather['SLP'].shift(3)"
   ]
  },
  {
   "cell_type": "code",
   "execution_count": 5,
   "id": "aff62570",
   "metadata": {},
   "outputs": [
    {
     "data": {
      "text/html": [
       "<div>\n",
       "<style scoped>\n",
       "    .dataframe tbody tr th:only-of-type {\n",
       "        vertical-align: middle;\n",
       "    }\n",
       "\n",
       "    .dataframe tbody tr th {\n",
       "        vertical-align: top;\n",
       "    }\n",
       "\n",
       "    .dataframe thead th {\n",
       "        text-align: right;\n",
       "    }\n",
       "</style>\n",
       "<table border=\"1\" class=\"dataframe\">\n",
       "  <thead>\n",
       "    <tr style=\"text-align: right;\">\n",
       "      <th></th>\n",
       "      <th>YEARMODA</th>\n",
       "      <th>SLP</th>\n",
       "      <th>SLP1</th>\n",
       "      <th>SLP2</th>\n",
       "      <th>SLP3</th>\n",
       "    </tr>\n",
       "  </thead>\n",
       "  <tbody>\n",
       "    <tr>\n",
       "      <th>0</th>\n",
       "      <td>2011-01-01</td>\n",
       "      <td>1017.7</td>\n",
       "      <td>NaN</td>\n",
       "      <td>NaN</td>\n",
       "      <td>NaN</td>\n",
       "    </tr>\n",
       "    <tr>\n",
       "      <th>1</th>\n",
       "      <td>2011-01-02</td>\n",
       "      <td>1014.2</td>\n",
       "      <td>1017.7</td>\n",
       "      <td>NaN</td>\n",
       "      <td>NaN</td>\n",
       "    </tr>\n",
       "    <tr>\n",
       "      <th>2</th>\n",
       "      <td>2011-01-03</td>\n",
       "      <td>1018.5</td>\n",
       "      <td>1014.2</td>\n",
       "      <td>1017.7</td>\n",
       "      <td>NaN</td>\n",
       "    </tr>\n",
       "    <tr>\n",
       "      <th>3</th>\n",
       "      <td>2011-01-04</td>\n",
       "      <td>1015.2</td>\n",
       "      <td>1018.5</td>\n",
       "      <td>1014.2</td>\n",
       "      <td>1017.7</td>\n",
       "    </tr>\n",
       "    <tr>\n",
       "      <th>4</th>\n",
       "      <td>2011-01-05</td>\n",
       "      <td>1009.0</td>\n",
       "      <td>1015.2</td>\n",
       "      <td>1018.5</td>\n",
       "      <td>1014.2</td>\n",
       "    </tr>\n",
       "  </tbody>\n",
       "</table>\n",
       "</div>"
      ],
      "text/plain": [
       "    YEARMODA     SLP    SLP1    SLP2    SLP3\n",
       "0 2011-01-01  1017.7     NaN     NaN     NaN\n",
       "1 2011-01-02  1014.2  1017.7     NaN     NaN\n",
       "2 2011-01-03  1018.5  1014.2  1017.7     NaN\n",
       "3 2011-01-04  1015.2  1018.5  1014.2  1017.7\n",
       "4 2011-01-05  1009.0  1015.2  1018.5  1014.2"
      ]
     },
     "metadata": {},
     "output_type": "display_data"
    }
   ],
   "source": [
    "display(weather[['YEARMODA', 'SLP', 'SLP1', 'SLP2', 'SLP3']].head())"
   ]
  },
  {
   "cell_type": "code",
   "execution_count": 6,
   "id": "72a63166",
   "metadata": {},
   "outputs": [],
   "source": [
    "pred_vars = ['YDAY', 'SLP1']\n",
    "\n",
    "# make list of all variables required to generate a forecast\n",
    "model_vars = pred_vars + ['I_PRCP']\n",
    "\n",
    "weather.dropna(subset=model_vars, inplace=True)"
   ]
  },
  {
   "cell_type": "code",
   "execution_count": 7,
   "id": "13455ea4",
   "metadata": {},
   "outputs": [],
   "source": [
    "train, test= np.split(weather, [int(.67 *len(weather))])"
   ]
  },
  {
   "cell_type": "code",
   "execution_count": 8,
   "id": "34f28d3a",
   "metadata": {},
   "outputs": [
    {
     "data": {
      "text/plain": [
       "RandomForestClassifier()"
      ]
     },
     "execution_count": 8,
     "metadata": {},
     "output_type": "execute_result"
    }
   ],
   "source": [
    "rf = RandomForestClassifier()\n",
    "\n",
    "rf.fit(train[pred_vars], train['I_PRCP'])"
   ]
  },
  {
   "cell_type": "code",
   "execution_count": 9,
   "id": "ba53862d",
   "metadata": {},
   "outputs": [
    {
     "name": "stdout",
     "output_type": "stream",
     "text": [
      "              precision    recall  f1-score   support\n",
      "\n",
      "           0    0.60317   0.67579   0.63742       731\n",
      "           1    0.50418   0.42580   0.46169       566\n",
      "\n",
      "    accuracy                        0.56669      1297\n",
      "   macro avg    0.55368   0.55079   0.54955      1297\n",
      "weighted avg    0.55998   0.56669   0.56073      1297\n",
      "\n"
     ]
    },
    {
     "data": {
      "image/png": "[encoded data removed]",
      "text/plain": [
       "<Figure size 432x288 with 2 Axes>"
      ]
     },
     "metadata": {
      "needs_background": "light"
     },
     "output_type": "display_data"
    }
   ],
   "source": [
    "# get predictions\n",
    "pred_p_prcp = rf.predict_proba(test.loc[:, pred_vars])\n",
    "pred_i_prcp = rf.predict(test.loc[:, pred_vars])\n",
    "\n",
    "# evaluation\n",
    "\n",
    "metrics.plot_confusion_matrix(rf, test.loc[:, pred_vars], test['I_PRCP'])\n",
    "print(metrics.classification_report(test['I_PRCP'], pred_i_prcp, digits=5))"
   ]
  },
  {
   "cell_type": "code",
   "execution_count": 10,
   "id": "c49b862e",
   "metadata": {},
   "outputs": [],
   "source": [
    "#https://machinelearningmastery.com/save-load-machine-learning-models-python-scikit-learn/\n",
    "import pickle\n",
    "file_name = 'rf_1day_prcp.sav' \n",
    "pickle.dump(rf, open(file_name, 'wb'))"
   ]
  },
  {
   "cell_type": "code",
   "execution_count": 11,
   "id": "fd399918",
   "metadata": {},
   "outputs": [
    {
     "name": "stdout",
     "output_type": "stream",
     "text": [
      "Most recent date in data: 2021-10-04 00:00:00\n"
     ]
    }
   ],
   "source": [
    "weather = pd.read_csv('data/last_ten_alb.csv')\n",
    "\n",
    "\n",
    "weather['YEARMODA'] = pd.to_datetime(weather['YEARMODA'])\n",
    "print(\"Most recent date in data:\", weather['YEARMODA'].max())"
   ]
  },
  {
   "cell_type": "code",
   "execution_count": 12,
   "id": "318d94f2",
   "metadata": {},
   "outputs": [
    {
     "name": "stdout",
     "output_type": "stream",
     "text": [
      "Most recent date in data: 2021-10-04 00:00:00\n"
     ]
    }
   ],
   "source": [
    "most_recent_data = weather['YEARMODA'].max()\n",
    "# https://stackoverflow.com/questions/39964558/pandas-max-value-index\n",
    "most_recent_yday = weather.loc[weather['YEARMODA'].idxmax(), 'YDAY']\n",
    "print(\"Most recent date in data:\", weather['YEARMODA'].max())\n",
    "\n",
    "\n",
    "# figure out starting dates for predictions\n",
    "prediction_start = most_recent_data + timedelta(days=1)\n",
    "prediction_start_yday = list(most_recent_yday + range(1,2))\n",
    "\n",
    "# generate list of dates for predictions\n",
    "eval_dates = pd.date_range(prediction_start, periods=1).tolist()"
   ]
  },
  {
   "cell_type": "code",
   "execution_count": 13,
   "id": "f7402357",
   "metadata": {},
   "outputs": [
    {
     "data": {
      "text/html": [
       "<div>\n",
       "<style scoped>\n",
       "    .dataframe tbody tr th:only-of-type {\n",
       "        vertical-align: middle;\n",
       "    }\n",
       "\n",
       "    .dataframe tbody tr th {\n",
       "        vertical-align: top;\n",
       "    }\n",
       "\n",
       "    .dataframe thead th {\n",
       "        text-align: right;\n",
       "    }\n",
       "</style>\n",
       "<table border=\"1\" class=\"dataframe\">\n",
       "  <thead>\n",
       "    <tr style=\"text-align: right;\">\n",
       "      <th></th>\n",
       "      <th>YEARMODA</th>\n",
       "      <th>YDAY</th>\n",
       "      <th>SLP</th>\n",
       "      <th>I_PRCP</th>\n",
       "    </tr>\n",
       "  </thead>\n",
       "  <tbody>\n",
       "    <tr>\n",
       "      <th>3926</th>\n",
       "      <td>2021-10-01</td>\n",
       "      <td>274</td>\n",
       "      <td>1022.8</td>\n",
       "      <td>0.0</td>\n",
       "    </tr>\n",
       "    <tr>\n",
       "      <th>3927</th>\n",
       "      <td>2021-10-02</td>\n",
       "      <td>275</td>\n",
       "      <td>1020.0</td>\n",
       "      <td>0.0</td>\n",
       "    </tr>\n",
       "    <tr>\n",
       "      <th>3928</th>\n",
       "      <td>2021-10-03</td>\n",
       "      <td>276</td>\n",
       "      <td>1015.1</td>\n",
       "      <td>0.0</td>\n",
       "    </tr>\n",
       "    <tr>\n",
       "      <th>3929</th>\n",
       "      <td>2021-10-04</td>\n",
       "      <td>277</td>\n",
       "      <td>1015.2</td>\n",
       "      <td>1.0</td>\n",
       "    </tr>\n",
       "    <tr>\n",
       "      <th>3930</th>\n",
       "      <td>2021-10-05</td>\n",
       "      <td>278</td>\n",
       "      <td>NaN</td>\n",
       "      <td>NaN</td>\n",
       "    </tr>\n",
       "  </tbody>\n",
       "</table>\n",
       "</div>"
      ],
      "text/plain": [
       "       YEARMODA  YDAY     SLP  I_PRCP\n",
       "3926 2021-10-01   274  1022.8     0.0\n",
       "3927 2021-10-02   275  1020.0     0.0\n",
       "3928 2021-10-03   276  1015.1     0.0\n",
       "3929 2021-10-04   277  1015.2     1.0\n",
       "3930 2021-10-05   278     NaN     NaN"
      ]
     },
     "execution_count": 13,
     "metadata": {},
     "output_type": "execute_result"
    }
   ],
   "source": [
    "predictions_df = pd.DataFrame(eval_dates, columns=['YEARMODA'])\n",
    "predictions_df['YDAY'] = prediction_start_yday\n",
    "\n",
    "\n",
    "# add these to the main dataframe\n",
    "weather = weather.append(predictions_df, ignore_index=True)\n",
    "weather[['YEARMODA', 'YDAY', 'SLP', 'I_PRCP']].tail()"
   ]
  },
  {
   "cell_type": "code",
   "execution_count": 14,
   "id": "19d446ab",
   "metadata": {},
   "outputs": [],
   "source": [
    "weather['SLP1'] = weather['SLP'].shift(1)\n",
    "weather['SLP2'] = weather['SLP'].shift(2)\n",
    "weather['SLP3'] = weather['SLP'].shift(3)"
   ]
  },
  {
   "cell_type": "code",
   "execution_count": 15,
   "id": "4aa13994",
   "metadata": {},
   "outputs": [],
   "source": [
    "prediction_set = weather[(weather['YEARMODA'] >= prediction_start)].copy()"
   ]
  },
  {
   "cell_type": "code",
   "execution_count": 16,
   "id": "34c0ce2b",
   "metadata": {},
   "outputs": [
    {
     "data": {
      "text/html": [
       "<div>\n",
       "<style scoped>\n",
       "    .dataframe tbody tr th:only-of-type {\n",
       "        vertical-align: middle;\n",
       "    }\n",
       "\n",
       "    .dataframe tbody tr th {\n",
       "        vertical-align: top;\n",
       "    }\n",
       "\n",
       "    .dataframe thead th {\n",
       "        text-align: right;\n",
       "    }\n",
       "</style>\n",
       "<table border=\"1\" class=\"dataframe\">\n",
       "  <thead>\n",
       "    <tr style=\"text-align: right;\">\n",
       "      <th></th>\n",
       "      <th>Unnamed: 0</th>\n",
       "      <th>STNID</th>\n",
       "      <th>NAME</th>\n",
       "      <th>CTRY</th>\n",
       "      <th>COUNTRY_NAME</th>\n",
       "      <th>ISO2C</th>\n",
       "      <th>ISO3C</th>\n",
       "      <th>STATE</th>\n",
       "      <th>LATITUDE</th>\n",
       "      <th>LONGITUDE</th>\n",
       "      <th>...</th>\n",
       "      <th>I_HAIL</th>\n",
       "      <th>I_THUNDER</th>\n",
       "      <th>I_TORNADO_FUNNEL</th>\n",
       "      <th>EA</th>\n",
       "      <th>ES</th>\n",
       "      <th>RH</th>\n",
       "      <th>I_PRCP</th>\n",
       "      <th>SLP1</th>\n",
       "      <th>SLP2</th>\n",
       "      <th>SLP3</th>\n",
       "    </tr>\n",
       "  </thead>\n",
       "  <tbody>\n",
       "    <tr>\n",
       "      <th>3930</th>\n",
       "      <td>NaN</td>\n",
       "      <td>NaN</td>\n",
       "      <td>NaN</td>\n",
       "      <td>NaN</td>\n",
       "      <td>NaN</td>\n",
       "      <td>NaN</td>\n",
       "      <td>NaN</td>\n",
       "      <td>NaN</td>\n",
       "      <td>NaN</td>\n",
       "      <td>NaN</td>\n",
       "      <td>...</td>\n",
       "      <td>NaN</td>\n",
       "      <td>NaN</td>\n",
       "      <td>NaN</td>\n",
       "      <td>NaN</td>\n",
       "      <td>NaN</td>\n",
       "      <td>NaN</td>\n",
       "      <td>NaN</td>\n",
       "      <td>1015.2</td>\n",
       "      <td>1015.1</td>\n",
       "      <td>1020.0</td>\n",
       "    </tr>\n",
       "  </tbody>\n",
       "</table>\n",
       "<p>1 rows × 52 columns</p>\n",
       "</div>"
      ],
      "text/plain": [
       "      Unnamed: 0 STNID NAME CTRY COUNTRY_NAME ISO2C ISO3C STATE  LATITUDE  \\\n",
       "3930         NaN   NaN  NaN  NaN          NaN   NaN   NaN   NaN       NaN   \n",
       "\n",
       "      LONGITUDE  ...  I_HAIL  I_THUNDER  I_TORNADO_FUNNEL  EA  ES  RH  I_PRCP  \\\n",
       "3930        NaN  ...     NaN        NaN               NaN NaN NaN NaN     NaN   \n",
       "\n",
       "        SLP1    SLP2    SLP3  \n",
       "3930  1015.2  1015.1  1020.0  \n",
       "\n",
       "[1 rows x 52 columns]"
      ]
     },
     "execution_count": 16,
     "metadata": {},
     "output_type": "execute_result"
    }
   ],
   "source": [
    "prediction_set.head() # see the lagged columns on the end?"
   ]
  },
  {
   "cell_type": "code",
   "execution_count": 17,
   "id": "3a4bc54e",
   "metadata": {},
   "outputs": [],
   "source": [
    "rf = pickle.load(open(file_name, 'rb'))"
   ]
  },
  {
   "cell_type": "code",
   "execution_count": 18,
   "id": "867abdee",
   "metadata": {},
   "outputs": [],
   "source": [
    "prediction_set['P_PRCP'] = rf.predict_proba(prediction_set[pred_vars])[:,1]"
   ]
  },
  {
   "cell_type": "code",
   "execution_count": 20,
   "id": "a680eb5f",
   "metadata": {},
   "outputs": [
    {
     "data": {
      "text/html": [
       "<div>\n",
       "<style scoped>\n",
       "    .dataframe tbody tr th:only-of-type {\n",
       "        vertical-align: middle;\n",
       "    }\n",
       "\n",
       "    .dataframe tbody tr th {\n",
       "        vertical-align: top;\n",
       "    }\n",
       "\n",
       "    .dataframe thead th {\n",
       "        text-align: right;\n",
       "    }\n",
       "</style>\n",
       "<table border=\"1\" class=\"dataframe\">\n",
       "  <thead>\n",
       "    <tr style=\"text-align: right;\">\n",
       "      <th></th>\n",
       "      <th>Unnamed: 0</th>\n",
       "      <th>STNID</th>\n",
       "      <th>NAME</th>\n",
       "      <th>CTRY</th>\n",
       "      <th>COUNTRY_NAME</th>\n",
       "      <th>ISO2C</th>\n",
       "      <th>ISO3C</th>\n",
       "      <th>STATE</th>\n",
       "      <th>LATITUDE</th>\n",
       "      <th>LONGITUDE</th>\n",
       "      <th>...</th>\n",
       "      <th>I_THUNDER</th>\n",
       "      <th>I_TORNADO_FUNNEL</th>\n",
       "      <th>EA</th>\n",
       "      <th>ES</th>\n",
       "      <th>RH</th>\n",
       "      <th>I_PRCP</th>\n",
       "      <th>SLP1</th>\n",
       "      <th>SLP2</th>\n",
       "      <th>SLP3</th>\n",
       "      <th>P_PRCP</th>\n",
       "    </tr>\n",
       "  </thead>\n",
       "  <tbody>\n",
       "    <tr>\n",
       "      <th>3930</th>\n",
       "      <td>NaN</td>\n",
       "      <td>NaN</td>\n",
       "      <td>NaN</td>\n",
       "      <td>NaN</td>\n",
       "      <td>NaN</td>\n",
       "      <td>NaN</td>\n",
       "      <td>NaN</td>\n",
       "      <td>NaN</td>\n",
       "      <td>NaN</td>\n",
       "      <td>NaN</td>\n",
       "      <td>...</td>\n",
       "      <td>NaN</td>\n",
       "      <td>NaN</td>\n",
       "      <td>NaN</td>\n",
       "      <td>NaN</td>\n",
       "      <td>NaN</td>\n",
       "      <td>NaN</td>\n",
       "      <td>1015.2</td>\n",
       "      <td>1015.1</td>\n",
       "      <td>1020.0</td>\n",
       "      <td>0.52</td>\n",
       "    </tr>\n",
       "  </tbody>\n",
       "</table>\n",
       "<p>1 rows × 53 columns</p>\n",
       "</div>"
      ],
      "text/plain": [
       "      Unnamed: 0 STNID NAME CTRY COUNTRY_NAME ISO2C ISO3C STATE  LATITUDE  \\\n",
       "3930         NaN   NaN  NaN  NaN          NaN   NaN   NaN   NaN       NaN   \n",
       "\n",
       "      LONGITUDE  ...  I_THUNDER  I_TORNADO_FUNNEL  EA  ES  RH  I_PRCP    SLP1  \\\n",
       "3930        NaN  ...        NaN               NaN NaN NaN NaN     NaN  1015.2   \n",
       "\n",
       "        SLP2    SLP3  P_PRCP  \n",
       "3930  1015.1  1020.0    0.52  \n",
       "\n",
       "[1 rows x 53 columns]"
      ]
     },
     "execution_count": 20,
     "metadata": {},
     "output_type": "execute_result"
    }
   ],
   "source": [
    "prediction_set.head() # now  we have a probability of  rain for a date not yet in the data!"
   ]
  },
  {
   "cell_type": "markdown",
   "id": "377595dd",
   "metadata": {},
   "source": [
    "# Tasks\n",
    "\n",
    "\n",
    "1. How would you go about building a model that predicts more than a day ahead? Implement a model that can predict precipitation three days in the future. Evaluation statistics.\n",
    "    \n",
    "2. Try using at least one other data type (rather than SLP (sea-level pressure) to predict the probability of rain. Does your model improve? Evaluation statistics."
   ]
  },
  {
   "cell_type": "code",
   "execution_count": 21,
   "id": "60bee530",
   "metadata": {},
   "outputs": [
    {
     "name": "stdout",
     "output_type": "stream",
     "text": [
      "Most recent date in data: 2021-10-04 00:00:00\n"
     ]
    }
   ],
   "source": [
    "weather_2 = pd.read_csv('data/last_ten_alb.csv')\n",
    "\n",
    "\n",
    "weather_2['YEARMODA'] = pd.to_datetime(weather_2['YEARMODA'])\n",
    "print(\"Most recent date in data:\", weather_2['YEARMODA'].max())"
   ]
  },
  {
   "cell_type": "code",
   "execution_count": 22,
   "id": "698fb994",
   "metadata": {},
   "outputs": [],
   "source": [
    "weather_2['SLP1'] = weather_2['SLP'].shift(1)\n",
    "weather_2['SLP2'] = weather_2['SLP'].shift(2)\n",
    "weather_2['SLP3'] = weather_2['SLP'].shift(3)"
   ]
  },
  {
   "cell_type": "code",
   "execution_count": 23,
   "id": "1de87cc7",
   "metadata": {},
   "outputs": [
    {
     "data": {
      "text/html": [
       "<div>\n",
       "<style scoped>\n",
       "    .dataframe tbody tr th:only-of-type {\n",
       "        vertical-align: middle;\n",
       "    }\n",
       "\n",
       "    .dataframe tbody tr th {\n",
       "        vertical-align: top;\n",
       "    }\n",
       "\n",
       "    .dataframe thead th {\n",
       "        text-align: right;\n",
       "    }\n",
       "</style>\n",
       "<table border=\"1\" class=\"dataframe\">\n",
       "  <thead>\n",
       "    <tr style=\"text-align: right;\">\n",
       "      <th></th>\n",
       "      <th>YEARMODA</th>\n",
       "      <th>SLP</th>\n",
       "      <th>SLP1</th>\n",
       "      <th>SLP2</th>\n",
       "      <th>SLP3</th>\n",
       "    </tr>\n",
       "  </thead>\n",
       "  <tbody>\n",
       "    <tr>\n",
       "      <th>0</th>\n",
       "      <td>2011-01-01</td>\n",
       "      <td>1017.7</td>\n",
       "      <td>NaN</td>\n",
       "      <td>NaN</td>\n",
       "      <td>NaN</td>\n",
       "    </tr>\n",
       "    <tr>\n",
       "      <th>1</th>\n",
       "      <td>2011-01-02</td>\n",
       "      <td>1014.2</td>\n",
       "      <td>1017.7</td>\n",
       "      <td>NaN</td>\n",
       "      <td>NaN</td>\n",
       "    </tr>\n",
       "    <tr>\n",
       "      <th>2</th>\n",
       "      <td>2011-01-03</td>\n",
       "      <td>1018.5</td>\n",
       "      <td>1014.2</td>\n",
       "      <td>1017.7</td>\n",
       "      <td>NaN</td>\n",
       "    </tr>\n",
       "    <tr>\n",
       "      <th>3</th>\n",
       "      <td>2011-01-04</td>\n",
       "      <td>1015.2</td>\n",
       "      <td>1018.5</td>\n",
       "      <td>1014.2</td>\n",
       "      <td>1017.7</td>\n",
       "    </tr>\n",
       "    <tr>\n",
       "      <th>4</th>\n",
       "      <td>2011-01-05</td>\n",
       "      <td>1009.0</td>\n",
       "      <td>1015.2</td>\n",
       "      <td>1018.5</td>\n",
       "      <td>1014.2</td>\n",
       "    </tr>\n",
       "  </tbody>\n",
       "</table>\n",
       "</div>"
      ],
      "text/plain": [
       "    YEARMODA     SLP    SLP1    SLP2    SLP3\n",
       "0 2011-01-01  1017.7     NaN     NaN     NaN\n",
       "1 2011-01-02  1014.2  1017.7     NaN     NaN\n",
       "2 2011-01-03  1018.5  1014.2  1017.7     NaN\n",
       "3 2011-01-04  1015.2  1018.5  1014.2  1017.7\n",
       "4 2011-01-05  1009.0  1015.2  1018.5  1014.2"
      ]
     },
     "metadata": {},
     "output_type": "display_data"
    }
   ],
   "source": [
    "display(weather_2[['YEARMODA', 'SLP', 'SLP1', 'SLP2', 'SLP3']].head())"
   ]
  },
  {
   "cell_type": "code",
   "execution_count": 24,
   "id": "65b8f3ae",
   "metadata": {},
   "outputs": [],
   "source": [
    "pred_vars = ['YDAY', 'SLP3']\n",
    "\n",
    "# make list of all variables required to generate a forecast\n",
    "model_vars = pred_vars + ['I_PRCP']\n",
    "\n",
    "weather_2.dropna(subset=model_vars, inplace=True)"
   ]
  },
  {
   "cell_type": "code",
   "execution_count": 25,
   "id": "cc0ad03a",
   "metadata": {},
   "outputs": [],
   "source": [
    "train, test= np.split(weather_2, [int(.67 *len(weather_2))])"
   ]
  },
  {
   "cell_type": "code",
   "execution_count": 26,
   "id": "f6059ac5",
   "metadata": {},
   "outputs": [
    {
     "data": {
      "text/plain": [
       "RandomForestClassifier()"
      ]
     },
     "execution_count": 26,
     "metadata": {},
     "output_type": "execute_result"
    }
   ],
   "source": [
    "rf = RandomForestClassifier()\n",
    "\n",
    "rf.fit(train[pred_vars], train['I_PRCP'])"
   ]
  },
  {
   "cell_type": "code",
   "execution_count": 27,
   "id": "5cf27213",
   "metadata": {},
   "outputs": [
    {
     "name": "stdout",
     "output_type": "stream",
     "text": [
      "              precision    recall  f1-score   support\n",
      "\n",
      "           0    0.56750   0.65068   0.60625       730\n",
      "           1    0.44444   0.36042   0.39805       566\n",
      "\n",
      "    accuracy                        0.52392      1296\n",
      "   macro avg    0.50597   0.50555   0.50215      1296\n",
      "weighted avg    0.51376   0.52392   0.51532      1296\n",
      "\n"
     ]
    },
    {
     "data": {
      "image/png": "[encoded data removed]",
      "text/plain": [
       "<Figure size 432x288 with 2 Axes>"
      ]
     },
     "metadata": {
      "needs_background": "light"
     },
     "output_type": "display_data"
    }
   ],
   "source": [
    "# get predictions\n",
    "pred_p_prcp = rf.predict_proba(test.loc[:, pred_vars])\n",
    "pred_i_prcp = rf.predict(test.loc[:, pred_vars])\n",
    "\n",
    "# evaluation\n",
    "\n",
    "metrics.plot_confusion_matrix(rf, test.loc[:, pred_vars], test['I_PRCP'])\n",
    "print(metrics.classification_report(test['I_PRCP'], pred_i_prcp, digits=5))"
   ]
  },
  {
   "cell_type": "code",
   "execution_count": 28,
   "id": "3d5abcb8",
   "metadata": {},
   "outputs": [],
   "source": [
    "#https://machinelearningmastery.com/save-load-machine-learning-models-python-scikit-learn/\n",
    "import pickle\n",
    "file_name = 'rf_3day_prcp.sav' \n",
    "pickle.dump(rf, open(file_name, 'wb'))"
   ]
  },
  {
   "cell_type": "code",
   "execution_count": 29,
   "id": "780b24a0",
   "metadata": {},
   "outputs": [
    {
     "name": "stdout",
     "output_type": "stream",
     "text": [
      "Most recent date in data: 2021-10-04 00:00:00\n"
     ]
    }
   ],
   "source": [
    "weather_test = pd.read_csv('data/last_ten_alb.csv')\n",
    "\n",
    "\n",
    "weather_test['YEARMODA'] = pd.to_datetime(weather_test['YEARMODA'])\n",
    "print(\"Most recent date in data:\", weather_test['YEARMODA'].max())"
   ]
  },
  {
   "cell_type": "code",
   "execution_count": 30,
   "id": "2ca6f919",
   "metadata": {},
   "outputs": [
    {
     "name": "stdout",
     "output_type": "stream",
     "text": [
      "Most recent date in data: 2021-10-04 00:00:00\n"
     ]
    }
   ],
   "source": [
    "most_recent_data = weather['YEARMODA'].max()\n",
    "# https://stackoverflow.com/questions/39964558/pandas-max-value-index\n",
    "most_recent_yday = weather_test.loc[weather_test['YEARMODA'].idxmax(), 'YDAY']\n",
    "print(\"Most recent date in data:\", weather_test['YEARMODA'].max())\n",
    "\n",
    "\n",
    "# figure out starting dates for predictions\n",
    "prediction_start = most_recent_data + timedelta(days=1)\n",
    "prediction_start_yday = list(most_recent_yday + range(1,4))\n",
    "\n",
    "# generate list of dates for predictions\n",
    "eval_dates = pd.date_range(prediction_start, periods=3).tolist()"
   ]
  },
  {
   "cell_type": "code",
   "execution_count": 31,
   "id": "8436c0ee",
   "metadata": {},
   "outputs": [
    {
     "data": {
      "text/plain": [
       "[278, 279, 280]"
      ]
     },
     "execution_count": 31,
     "metadata": {},
     "output_type": "execute_result"
    }
   ],
   "source": [
    "prediction_start_yday"
   ]
  },
  {
   "cell_type": "code",
   "execution_count": 32,
   "id": "4ab73c2c",
   "metadata": {},
   "outputs": [
    {
     "data": {
      "text/html": [
       "<div>\n",
       "<style scoped>\n",
       "    .dataframe tbody tr th:only-of-type {\n",
       "        vertical-align: middle;\n",
       "    }\n",
       "\n",
       "    .dataframe tbody tr th {\n",
       "        vertical-align: top;\n",
       "    }\n",
       "\n",
       "    .dataframe thead th {\n",
       "        text-align: right;\n",
       "    }\n",
       "</style>\n",
       "<table border=\"1\" class=\"dataframe\">\n",
       "  <thead>\n",
       "    <tr style=\"text-align: right;\">\n",
       "      <th></th>\n",
       "      <th>YEARMODA</th>\n",
       "      <th>YDAY</th>\n",
       "      <th>SLP</th>\n",
       "      <th>I_PRCP</th>\n",
       "    </tr>\n",
       "  </thead>\n",
       "  <tbody>\n",
       "    <tr>\n",
       "      <th>3928</th>\n",
       "      <td>2021-10-03</td>\n",
       "      <td>276</td>\n",
       "      <td>1015.1</td>\n",
       "      <td>0.0</td>\n",
       "    </tr>\n",
       "    <tr>\n",
       "      <th>3929</th>\n",
       "      <td>2021-10-04</td>\n",
       "      <td>277</td>\n",
       "      <td>1015.2</td>\n",
       "      <td>1.0</td>\n",
       "    </tr>\n",
       "    <tr>\n",
       "      <th>3930</th>\n",
       "      <td>2021-10-06</td>\n",
       "      <td>278</td>\n",
       "      <td>NaN</td>\n",
       "      <td>NaN</td>\n",
       "    </tr>\n",
       "    <tr>\n",
       "      <th>3931</th>\n",
       "      <td>2021-10-07</td>\n",
       "      <td>279</td>\n",
       "      <td>NaN</td>\n",
       "      <td>NaN</td>\n",
       "    </tr>\n",
       "    <tr>\n",
       "      <th>3932</th>\n",
       "      <td>2021-10-08</td>\n",
       "      <td>280</td>\n",
       "      <td>NaN</td>\n",
       "      <td>NaN</td>\n",
       "    </tr>\n",
       "  </tbody>\n",
       "</table>\n",
       "</div>"
      ],
      "text/plain": [
       "       YEARMODA  YDAY     SLP  I_PRCP\n",
       "3928 2021-10-03   276  1015.1     0.0\n",
       "3929 2021-10-04   277  1015.2     1.0\n",
       "3930 2021-10-06   278     NaN     NaN\n",
       "3931 2021-10-07   279     NaN     NaN\n",
       "3932 2021-10-08   280     NaN     NaN"
      ]
     },
     "execution_count": 32,
     "metadata": {},
     "output_type": "execute_result"
    }
   ],
   "source": [
    "predictions_df = pd.DataFrame(eval_dates, columns=['YEARMODA'])\n",
    "predictions_df['YDAY'] = prediction_start_yday\n",
    "\n",
    "\n",
    "# add these to the main dataframe\n",
    "weather_test = weather_test.append(predictions_df, ignore_index=True)\n",
    "weather_test[['YEARMODA', 'YDAY', 'SLP', 'I_PRCP']].tail()"
   ]
  },
  {
   "cell_type": "code",
   "execution_count": 33,
   "id": "145c29a3",
   "metadata": {},
   "outputs": [],
   "source": [
    "weather_test['SLP1'] = weather_test['SLP'].shift(1)\n",
    "weather_test['SLP2'] = weather_test['SLP'].shift(2)\n",
    "weather_test['SLP3'] = weather_test['SLP'].shift(3)"
   ]
  },
  {
   "cell_type": "code",
   "execution_count": 34,
   "id": "875c7d92",
   "metadata": {},
   "outputs": [],
   "source": [
    "prediction_set = weather_test[(weather_test['YEARMODA'] >= prediction_start)].copy()"
   ]
  },
  {
   "cell_type": "code",
   "execution_count": 35,
   "id": "e9410225",
   "metadata": {},
   "outputs": [
    {
     "data": {
      "text/html": [
       "<div>\n",
       "<style scoped>\n",
       "    .dataframe tbody tr th:only-of-type {\n",
       "        vertical-align: middle;\n",
       "    }\n",
       "\n",
       "    .dataframe tbody tr th {\n",
       "        vertical-align: top;\n",
       "    }\n",
       "\n",
       "    .dataframe thead th {\n",
       "        text-align: right;\n",
       "    }\n",
       "</style>\n",
       "<table border=\"1\" class=\"dataframe\">\n",
       "  <thead>\n",
       "    <tr style=\"text-align: right;\">\n",
       "      <th></th>\n",
       "      <th>Unnamed: 0</th>\n",
       "      <th>STNID</th>\n",
       "      <th>NAME</th>\n",
       "      <th>CTRY</th>\n",
       "      <th>COUNTRY_NAME</th>\n",
       "      <th>ISO2C</th>\n",
       "      <th>ISO3C</th>\n",
       "      <th>STATE</th>\n",
       "      <th>LATITUDE</th>\n",
       "      <th>LONGITUDE</th>\n",
       "      <th>...</th>\n",
       "      <th>I_HAIL</th>\n",
       "      <th>I_THUNDER</th>\n",
       "      <th>I_TORNADO_FUNNEL</th>\n",
       "      <th>EA</th>\n",
       "      <th>ES</th>\n",
       "      <th>RH</th>\n",
       "      <th>I_PRCP</th>\n",
       "      <th>SLP1</th>\n",
       "      <th>SLP2</th>\n",
       "      <th>SLP3</th>\n",
       "    </tr>\n",
       "  </thead>\n",
       "  <tbody>\n",
       "    <tr>\n",
       "      <th>3930</th>\n",
       "      <td>NaN</td>\n",
       "      <td>NaN</td>\n",
       "      <td>NaN</td>\n",
       "      <td>NaN</td>\n",
       "      <td>NaN</td>\n",
       "      <td>NaN</td>\n",
       "      <td>NaN</td>\n",
       "      <td>NaN</td>\n",
       "      <td>NaN</td>\n",
       "      <td>NaN</td>\n",
       "      <td>...</td>\n",
       "      <td>NaN</td>\n",
       "      <td>NaN</td>\n",
       "      <td>NaN</td>\n",
       "      <td>NaN</td>\n",
       "      <td>NaN</td>\n",
       "      <td>NaN</td>\n",
       "      <td>NaN</td>\n",
       "      <td>1015.2</td>\n",
       "      <td>1015.1</td>\n",
       "      <td>1020.0</td>\n",
       "    </tr>\n",
       "    <tr>\n",
       "      <th>3931</th>\n",
       "      <td>NaN</td>\n",
       "      <td>NaN</td>\n",
       "      <td>NaN</td>\n",
       "      <td>NaN</td>\n",
       "      <td>NaN</td>\n",
       "      <td>NaN</td>\n",
       "      <td>NaN</td>\n",
       "      <td>NaN</td>\n",
       "      <td>NaN</td>\n",
       "      <td>NaN</td>\n",
       "      <td>...</td>\n",
       "      <td>NaN</td>\n",
       "      <td>NaN</td>\n",
       "      <td>NaN</td>\n",
       "      <td>NaN</td>\n",
       "      <td>NaN</td>\n",
       "      <td>NaN</td>\n",
       "      <td>NaN</td>\n",
       "      <td>NaN</td>\n",
       "      <td>1015.2</td>\n",
       "      <td>1015.1</td>\n",
       "    </tr>\n",
       "    <tr>\n",
       "      <th>3932</th>\n",
       "      <td>NaN</td>\n",
       "      <td>NaN</td>\n",
       "      <td>NaN</td>\n",
       "      <td>NaN</td>\n",
       "      <td>NaN</td>\n",
       "      <td>NaN</td>\n",
       "      <td>NaN</td>\n",
       "      <td>NaN</td>\n",
       "      <td>NaN</td>\n",
       "      <td>NaN</td>\n",
       "      <td>...</td>\n",
       "      <td>NaN</td>\n",
       "      <td>NaN</td>\n",
       "      <td>NaN</td>\n",
       "      <td>NaN</td>\n",
       "      <td>NaN</td>\n",
       "      <td>NaN</td>\n",
       "      <td>NaN</td>\n",
       "      <td>NaN</td>\n",
       "      <td>NaN</td>\n",
       "      <td>1015.2</td>\n",
       "    </tr>\n",
       "  </tbody>\n",
       "</table>\n",
       "<p>3 rows × 52 columns</p>\n",
       "</div>"
      ],
      "text/plain": [
       "      Unnamed: 0 STNID NAME CTRY COUNTRY_NAME ISO2C ISO3C STATE  LATITUDE  \\\n",
       "3930         NaN   NaN  NaN  NaN          NaN   NaN   NaN   NaN       NaN   \n",
       "3931         NaN   NaN  NaN  NaN          NaN   NaN   NaN   NaN       NaN   \n",
       "3932         NaN   NaN  NaN  NaN          NaN   NaN   NaN   NaN       NaN   \n",
       "\n",
       "      LONGITUDE  ...  I_HAIL  I_THUNDER  I_TORNADO_FUNNEL  EA  ES  RH  I_PRCP  \\\n",
       "3930        NaN  ...     NaN        NaN               NaN NaN NaN NaN     NaN   \n",
       "3931        NaN  ...     NaN        NaN               NaN NaN NaN NaN     NaN   \n",
       "3932        NaN  ...     NaN        NaN               NaN NaN NaN NaN     NaN   \n",
       "\n",
       "        SLP1    SLP2    SLP3  \n",
       "3930  1015.2  1015.1  1020.0  \n",
       "3931     NaN  1015.2  1015.1  \n",
       "3932     NaN     NaN  1015.2  \n",
       "\n",
       "[3 rows x 52 columns]"
      ]
     },
     "execution_count": 35,
     "metadata": {},
     "output_type": "execute_result"
    }
   ],
   "source": [
    "prediction_set.head()"
   ]
  },
  {
   "cell_type": "code",
   "execution_count": 36,
   "id": "41a1f616",
   "metadata": {},
   "outputs": [],
   "source": [
    "rf = pickle.load(open(file_name, 'rb'))"
   ]
  },
  {
   "cell_type": "code",
   "execution_count": 37,
   "id": "48305737",
   "metadata": {},
   "outputs": [],
   "source": [
    "prediction_set['P_PRCP'] = rf.predict_proba(prediction_set[pred_vars])[:,1]"
   ]
  },
  {
   "cell_type": "code",
   "execution_count": 38,
   "id": "06dda76a",
   "metadata": {},
   "outputs": [
    {
     "data": {
      "text/html": [
       "<div>\n",
       "<style scoped>\n",
       "    .dataframe tbody tr th:only-of-type {\n",
       "        vertical-align: middle;\n",
       "    }\n",
       "\n",
       "    .dataframe tbody tr th {\n",
       "        vertical-align: top;\n",
       "    }\n",
       "\n",
       "    .dataframe thead th {\n",
       "        text-align: right;\n",
       "    }\n",
       "</style>\n",
       "<table border=\"1\" class=\"dataframe\">\n",
       "  <thead>\n",
       "    <tr style=\"text-align: right;\">\n",
       "      <th></th>\n",
       "      <th>Unnamed: 0</th>\n",
       "      <th>STNID</th>\n",
       "      <th>NAME</th>\n",
       "      <th>CTRY</th>\n",
       "      <th>COUNTRY_NAME</th>\n",
       "      <th>ISO2C</th>\n",
       "      <th>ISO3C</th>\n",
       "      <th>STATE</th>\n",
       "      <th>LATITUDE</th>\n",
       "      <th>LONGITUDE</th>\n",
       "      <th>...</th>\n",
       "      <th>I_THUNDER</th>\n",
       "      <th>I_TORNADO_FUNNEL</th>\n",
       "      <th>EA</th>\n",
       "      <th>ES</th>\n",
       "      <th>RH</th>\n",
       "      <th>I_PRCP</th>\n",
       "      <th>SLP1</th>\n",
       "      <th>SLP2</th>\n",
       "      <th>SLP3</th>\n",
       "      <th>P_PRCP</th>\n",
       "    </tr>\n",
       "  </thead>\n",
       "  <tbody>\n",
       "    <tr>\n",
       "      <th>3930</th>\n",
       "      <td>NaN</td>\n",
       "      <td>NaN</td>\n",
       "      <td>NaN</td>\n",
       "      <td>NaN</td>\n",
       "      <td>NaN</td>\n",
       "      <td>NaN</td>\n",
       "      <td>NaN</td>\n",
       "      <td>NaN</td>\n",
       "      <td>NaN</td>\n",
       "      <td>NaN</td>\n",
       "      <td>...</td>\n",
       "      <td>NaN</td>\n",
       "      <td>NaN</td>\n",
       "      <td>NaN</td>\n",
       "      <td>NaN</td>\n",
       "      <td>NaN</td>\n",
       "      <td>NaN</td>\n",
       "      <td>1015.2</td>\n",
       "      <td>1015.1</td>\n",
       "      <td>1020.0</td>\n",
       "      <td>0.60</td>\n",
       "    </tr>\n",
       "    <tr>\n",
       "      <th>3931</th>\n",
       "      <td>NaN</td>\n",
       "      <td>NaN</td>\n",
       "      <td>NaN</td>\n",
       "      <td>NaN</td>\n",
       "      <td>NaN</td>\n",
       "      <td>NaN</td>\n",
       "      <td>NaN</td>\n",
       "      <td>NaN</td>\n",
       "      <td>NaN</td>\n",
       "      <td>NaN</td>\n",
       "      <td>...</td>\n",
       "      <td>NaN</td>\n",
       "      <td>NaN</td>\n",
       "      <td>NaN</td>\n",
       "      <td>NaN</td>\n",
       "      <td>NaN</td>\n",
       "      <td>NaN</td>\n",
       "      <td>NaN</td>\n",
       "      <td>1015.2</td>\n",
       "      <td>1015.1</td>\n",
       "      <td>0.74</td>\n",
       "    </tr>\n",
       "    <tr>\n",
       "      <th>3932</th>\n",
       "      <td>NaN</td>\n",
       "      <td>NaN</td>\n",
       "      <td>NaN</td>\n",
       "      <td>NaN</td>\n",
       "      <td>NaN</td>\n",
       "      <td>NaN</td>\n",
       "      <td>NaN</td>\n",
       "      <td>NaN</td>\n",
       "      <td>NaN</td>\n",
       "      <td>NaN</td>\n",
       "      <td>...</td>\n",
       "      <td>NaN</td>\n",
       "      <td>NaN</td>\n",
       "      <td>NaN</td>\n",
       "      <td>NaN</td>\n",
       "      <td>NaN</td>\n",
       "      <td>NaN</td>\n",
       "      <td>NaN</td>\n",
       "      <td>NaN</td>\n",
       "      <td>1015.2</td>\n",
       "      <td>0.57</td>\n",
       "    </tr>\n",
       "  </tbody>\n",
       "</table>\n",
       "<p>3 rows × 53 columns</p>\n",
       "</div>"
      ],
      "text/plain": [
       "      Unnamed: 0 STNID NAME CTRY COUNTRY_NAME ISO2C ISO3C STATE  LATITUDE  \\\n",
       "3930         NaN   NaN  NaN  NaN          NaN   NaN   NaN   NaN       NaN   \n",
       "3931         NaN   NaN  NaN  NaN          NaN   NaN   NaN   NaN       NaN   \n",
       "3932         NaN   NaN  NaN  NaN          NaN   NaN   NaN   NaN       NaN   \n",
       "\n",
       "      LONGITUDE  ...  I_THUNDER  I_TORNADO_FUNNEL  EA  ES  RH  I_PRCP    SLP1  \\\n",
       "3930        NaN  ...        NaN               NaN NaN NaN NaN     NaN  1015.2   \n",
       "3931        NaN  ...        NaN               NaN NaN NaN NaN     NaN     NaN   \n",
       "3932        NaN  ...        NaN               NaN NaN NaN NaN     NaN     NaN   \n",
       "\n",
       "        SLP2    SLP3  P_PRCP  \n",
       "3930  1015.1  1020.0    0.60  \n",
       "3931  1015.2  1015.1    0.74  \n",
       "3932     NaN  1015.2    0.57  \n",
       "\n",
       "[3 rows x 53 columns]"
      ]
     },
     "execution_count": 38,
     "metadata": {},
     "output_type": "execute_result"
    }
   ],
   "source": [
    "prediction_set.head() # now  we have a probability of  rain for a date not yet in the data!"
   ]
  },
  {
   "cell_type": "code",
   "execution_count": 39,
   "id": "07f8e4a5",
   "metadata": {},
   "outputs": [],
   "source": [
    "prediction_set.to_csv('3dayPred.csv')"
   ]
  },
  {
   "cell_type": "markdown",
   "id": "0987eee9",
   "metadata": {},
   "source": [
    "# Task 2\n",
    "\n",
    "Try using at least one other data type (rather than SLP (sea-level pressure) to predict the probability of rain. Does your model improve? Evaluation statistics."
   ]
  },
  {
   "cell_type": "code",
   "execution_count": null,
   "id": "51f81e61",
   "metadata": {},
   "outputs": [],
   "source": []
  }
 ],
 "metadata": {
  "kernelspec": {
   "display_name": "Python 3",
   "language": "python",
   "name": "python3"
  },
  "language_info": {
   "codemirror_mode": {
    "name": "ipython",
    "version": 3
   },
   "file_extension": ".py",
   "mimetype": "text/x-python",
   "name": "python",
   "nbconvert_exporter": "python",
   "pygments_lexer": "ipython3",
   "version": "3.8.8"
  }
 },
 "nbformat": 4,
 "nbformat_minor": 5
}
